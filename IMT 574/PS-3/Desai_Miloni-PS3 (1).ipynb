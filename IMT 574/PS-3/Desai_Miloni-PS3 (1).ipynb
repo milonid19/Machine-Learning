{
 "cells": [
  {
   "cell_type": "code",
   "execution_count": 1,
   "metadata": {},
   "outputs": [],
   "source": [
    "import pandas as pd\n",
    "import numpy as np\n",
    "import seaborn as sb\n",
    "import pandas as pd\n",
    "import scipy.stats as stats\n",
    "import matplotlib\n",
    "import matplotlib.pyplot as plt\n",
    "import statsmodels.formula.api as smf\n",
    "\n",
    "import warnings\n",
    "warnings.filterwarnings('ignore')"
   ]
  },
  {
   "cell_type": "code",
   "execution_count": 36,
   "metadata": {},
   "outputs": [],
   "source": [
    "#Summary Statistics:\n",
    "#Read data and segregate according to treatment/control group\n",
    "data = pd.read_csv(\"progresa-sample.csv.bz2\")\n",
    "\n",
    "#Print the number of null values in each column\n",
    "missing_values = pd.isnull(data).sum(axis=0)\n",
    "\n",
    "#Removing variables not needed for missing values\n",
    "idx1 = pd.Index(['year','folnum','village','poor','progresa'])\n",
    "index = missing_values.index.difference(idx1)\n",
    "missing_values = missing_values[index]"
   ]
  },
  {
   "cell_type": "code",
   "execution_count": 37,
   "metadata": {},
   "outputs": [],
   "source": [
    "#Calculate summary statistics of the data\n",
    "summary = data.describe()\n",
    "idx2 = pd.Index(['year','folnum','village'])\n",
    "\n",
    "#Remove variables not needed in summary statistics\n",
    "columns = summary.columns.difference(idx2)\n",
    "summary = summary[columns].T"
   ]
  },
  {
   "cell_type": "code",
   "execution_count": 38,
   "metadata": {},
   "outputs": [],
   "source": [
    "#Extract mean and standard deviation\n",
    "mean = summary['mean']\n",
    "std = summary['std']\n"
   ]
  },
  {
   "cell_type": "code",
   "execution_count": 39,
   "metadata": {},
   "outputs": [
    {
     "data": {
      "text/html": [
       "<div>\n",
       "<style scoped>\n",
       "    .dataframe tbody tr th:only-of-type {\n",
       "        vertical-align: middle;\n",
       "    }\n",
       "\n",
       "    .dataframe tbody tr th {\n",
       "        vertical-align: top;\n",
       "    }\n",
       "\n",
       "    .dataframe thead th {\n",
       "        text-align: right;\n",
       "    }\n",
       "</style>\n",
       "<table border=\"1\" class=\"dataframe\">\n",
       "  <thead>\n",
       "    <tr style=\"text-align: right;\">\n",
       "      <th></th>\n",
       "      <th>mean</th>\n",
       "      <th>std</th>\n",
       "      <th>0</th>\n",
       "    </tr>\n",
       "  </thead>\n",
       "  <tbody>\n",
       "    <tr>\n",
       "      <td>age</td>\n",
       "      <td>11.366460</td>\n",
       "      <td>3.167744</td>\n",
       "      <td>0</td>\n",
       "    </tr>\n",
       "    <tr>\n",
       "      <td>dist_cap</td>\n",
       "      <td>147.674452</td>\n",
       "      <td>76.063134</td>\n",
       "      <td>0</td>\n",
       "    </tr>\n",
       "    <tr>\n",
       "      <td>dist_sec</td>\n",
       "      <td>2.418910</td>\n",
       "      <td>2.234109</td>\n",
       "      <td>0</td>\n",
       "    </tr>\n",
       "    <tr>\n",
       "      <td>fam_n</td>\n",
       "      <td>7.215715</td>\n",
       "      <td>2.352900</td>\n",
       "      <td>0</td>\n",
       "    </tr>\n",
       "    <tr>\n",
       "      <td>grc</td>\n",
       "      <td>3.963537</td>\n",
       "      <td>2.499063</td>\n",
       "      <td>6549</td>\n",
       "    </tr>\n",
       "    <tr>\n",
       "      <td>grc97</td>\n",
       "      <td>3.705372</td>\n",
       "      <td>2.572387</td>\n",
       "      <td>0</td>\n",
       "    </tr>\n",
       "    <tr>\n",
       "      <td>hohage</td>\n",
       "      <td>44.436717</td>\n",
       "      <td>11.620372</td>\n",
       "      <td>10</td>\n",
       "    </tr>\n",
       "    <tr>\n",
       "      <td>hohedu</td>\n",
       "      <td>2.768104</td>\n",
       "      <td>2.656106</td>\n",
       "      <td>0</td>\n",
       "    </tr>\n",
       "    <tr>\n",
       "      <td>hohsex</td>\n",
       "      <td>0.925185</td>\n",
       "      <td>0.263095</td>\n",
       "      <td>20</td>\n",
       "    </tr>\n",
       "    <tr>\n",
       "      <td>hohwag</td>\n",
       "      <td>586.985312</td>\n",
       "      <td>788.133664</td>\n",
       "      <td>0</td>\n",
       "    </tr>\n",
       "    <tr>\n",
       "      <td>indig</td>\n",
       "      <td>0.298324</td>\n",
       "      <td>0.457525</td>\n",
       "      <td>300</td>\n",
       "    </tr>\n",
       "    <tr>\n",
       "      <td>min_dist</td>\n",
       "      <td>103.447520</td>\n",
       "      <td>42.089441</td>\n",
       "      <td>0</td>\n",
       "    </tr>\n",
       "    <tr>\n",
       "      <td>sc</td>\n",
       "      <td>0.819818</td>\n",
       "      <td>0.384342</td>\n",
       "      <td>8453</td>\n",
       "    </tr>\n",
       "    <tr>\n",
       "      <td>sc97</td>\n",
       "      <td>0.813922</td>\n",
       "      <td>0.389172</td>\n",
       "      <td>3872</td>\n",
       "    </tr>\n",
       "    <tr>\n",
       "      <td>sex</td>\n",
       "      <td>0.512211</td>\n",
       "      <td>0.499854</td>\n",
       "      <td>24</td>\n",
       "    </tr>\n",
       "    <tr>\n",
       "      <td>welfare_index</td>\n",
       "      <td>690.346564</td>\n",
       "      <td>139.491130</td>\n",
       "      <td>210</td>\n",
       "    </tr>\n",
       "  </tbody>\n",
       "</table>\n",
       "</div>"
      ],
      "text/plain": [
       "                     mean         std     0\n",
       "age             11.366460    3.167744     0\n",
       "dist_cap       147.674452   76.063134     0\n",
       "dist_sec         2.418910    2.234109     0\n",
       "fam_n            7.215715    2.352900     0\n",
       "grc              3.963537    2.499063  6549\n",
       "grc97            3.705372    2.572387     0\n",
       "hohage          44.436717   11.620372    10\n",
       "hohedu           2.768104    2.656106     0\n",
       "hohsex           0.925185    0.263095    20\n",
       "hohwag         586.985312  788.133664     0\n",
       "indig            0.298324    0.457525   300\n",
       "min_dist       103.447520   42.089441     0\n",
       "sc               0.819818    0.384342  8453\n",
       "sc97             0.813922    0.389172  3872\n",
       "sex              0.512211    0.499854    24\n",
       "welfare_index  690.346564  139.491130   210"
      ]
     },
     "execution_count": 39,
     "metadata": {},
     "output_type": "execute_result"
    }
   ],
   "source": [
    "#Print the summary statistics\n",
    "summary_mean_std = pd.concat([mean,std,missing_values],axis=1)\n",
    "\n",
    "summary_mean_std"
   ]
  },
  {
   "cell_type": "code",
   "execution_count": 41,
   "metadata": {},
   "outputs": [
    {
     "data": {
      "text/plain": [
       "array(['0', 'basal'], dtype=object)"
      ]
     },
     "execution_count": 41,
     "metadata": {},
     "output_type": "execute_result"
    }
   ],
   "source": [
    "data.progresa.unique()"
   ]
  },
  {
   "cell_type": "code",
   "execution_count": 120,
   "metadata": {},
   "outputs": [
    {
     "name": "stdout",
     "output_type": "stream",
     "text": [
      "Yes, the observations related to 'progresa' levels match the documentation provided, as we have  a '0' (control) and  a 'basal' (treatment) level which conform with the documentation provided. This is true for 'poor' levels as well, as we have 'pobre' (poor) and 'no pobre' (not poor) as mentioned in the documentation.)\n"
     ]
    }
   ],
   "source": [
    "print(\"Yes, the observations related to 'progresa' levels match the documentation provided, as we have  a '0' (control) and  a 'basal' (treatment) level which conform with the documentation provided. This is true for 'poor' levels as well, as we have 'pobre' (poor) and 'no pobre' (not poor) as mentioned in the documentation.)\")"
   ]
  },
  {
   "cell_type": "code",
   "execution_count": 66,
   "metadata": {},
   "outputs": [
    {
     "data": {
      "text/html": [
       "<div>\n",
       "<style scoped>\n",
       "    .dataframe tbody tr th:only-of-type {\n",
       "        vertical-align: middle;\n",
       "    }\n",
       "\n",
       "    .dataframe tbody tr th {\n",
       "        vertical-align: top;\n",
       "    }\n",
       "\n",
       "    .dataframe thead th {\n",
       "        text-align: right;\n",
       "    }\n",
       "</style>\n",
       "<table border=\"1\" class=\"dataframe\">\n",
       "  <thead>\n",
       "    <tr style=\"text-align: right;\">\n",
       "      <th></th>\n",
       "      <th>Variable name</th>\n",
       "      <th>Average value (Treatment villages)</th>\n",
       "      <th>Average value (Control villages)</th>\n",
       "      <th>Difference(Treat - Control)</th>\n",
       "      <th>p-value</th>\n",
       "    </tr>\n",
       "  </thead>\n",
       "  <tbody>\n",
       "    <tr>\n",
       "      <td>0</td>\n",
       "      <td>sex</td>\n",
       "      <td>0.520268</td>\n",
       "      <td>0.506556</td>\n",
       "      <td>0.013713</td>\n",
       "      <td>1.956962e-02</td>\n",
       "    </tr>\n",
       "    <tr>\n",
       "      <td>1</td>\n",
       "      <td>indig</td>\n",
       "      <td>0.316744</td>\n",
       "      <td>0.325306</td>\n",
       "      <td>-0.008562</td>\n",
       "      <td>1.183760e-01</td>\n",
       "    </tr>\n",
       "    <tr>\n",
       "      <td>2</td>\n",
       "      <td>dist_sec</td>\n",
       "      <td>2.399648</td>\n",
       "      <td>2.400687</td>\n",
       "      <td>-0.001039</td>\n",
       "      <td>9.670949e-01</td>\n",
       "    </tr>\n",
       "    <tr>\n",
       "      <td>3</td>\n",
       "      <td>sc</td>\n",
       "      <td>0.822697</td>\n",
       "      <td>0.815066</td>\n",
       "      <td>0.007631</td>\n",
       "      <td>9.117959e-02</td>\n",
       "    </tr>\n",
       "    <tr>\n",
       "      <td>4</td>\n",
       "      <td>grc</td>\n",
       "      <td>3.709214</td>\n",
       "      <td>3.733653</td>\n",
       "      <td>-0.024439</td>\n",
       "      <td>3.947750e-01</td>\n",
       "    </tr>\n",
       "    <tr>\n",
       "      <td>5</td>\n",
       "      <td>fam_n</td>\n",
       "      <td>7.281032</td>\n",
       "      <td>7.302939</td>\n",
       "      <td>-0.021907</td>\n",
       "      <td>4.236088e-01</td>\n",
       "    </tr>\n",
       "    <tr>\n",
       "      <td>6</td>\n",
       "      <td>min_dist</td>\n",
       "      <td>107.395231</td>\n",
       "      <td>103.098348</td>\n",
       "      <td>4.296884</td>\n",
       "      <td>1.936661e-18</td>\n",
       "    </tr>\n",
       "    <tr>\n",
       "      <td>7</td>\n",
       "      <td>dist_cap</td>\n",
       "      <td>151.801472</td>\n",
       "      <td>154.492095</td>\n",
       "      <td>-2.690622</td>\n",
       "      <td>3.414194e-03</td>\n",
       "    </tr>\n",
       "    <tr>\n",
       "      <td>8</td>\n",
       "      <td>hohedu</td>\n",
       "      <td>2.726729</td>\n",
       "      <td>2.660982</td>\n",
       "      <td>0.065747</td>\n",
       "      <td>2.613239e-02</td>\n",
       "    </tr>\n",
       "    <tr>\n",
       "      <td>9</td>\n",
       "      <td>hohwag</td>\n",
       "      <td>550.207086</td>\n",
       "      <td>580.694452</td>\n",
       "      <td>-30.487366</td>\n",
       "      <td>2.727661e-04</td>\n",
       "    </tr>\n",
       "    <tr>\n",
       "      <td>10</td>\n",
       "      <td>welfare_index</td>\n",
       "      <td>656.810476</td>\n",
       "      <td>661.593513</td>\n",
       "      <td>-4.783037</td>\n",
       "      <td>3.724043e-04</td>\n",
       "    </tr>\n",
       "    <tr>\n",
       "      <td>11</td>\n",
       "      <td>hohsex</td>\n",
       "      <td>0.925586</td>\n",
       "      <td>0.923387</td>\n",
       "      <td>0.002199</td>\n",
       "      <td>4.781232e-01</td>\n",
       "    </tr>\n",
       "    <tr>\n",
       "      <td>12</td>\n",
       "      <td>hohage</td>\n",
       "      <td>43.631234</td>\n",
       "      <td>44.270717</td>\n",
       "      <td>-0.639483</td>\n",
       "      <td>1.925767e-06</td>\n",
       "    </tr>\n",
       "    <tr>\n",
       "      <td>13</td>\n",
       "      <td>age</td>\n",
       "      <td>10.743825</td>\n",
       "      <td>10.785586</td>\n",
       "      <td>-0.041761</td>\n",
       "      <td>2.476155e-01</td>\n",
       "    </tr>\n",
       "    <tr>\n",
       "      <td>14</td>\n",
       "      <td>grc97</td>\n",
       "      <td>3.709214</td>\n",
       "      <td>3.733653</td>\n",
       "      <td>-0.024439</td>\n",
       "      <td>3.947750e-01</td>\n",
       "    </tr>\n",
       "    <tr>\n",
       "      <td>15</td>\n",
       "      <td>sc97</td>\n",
       "      <td>0.822697</td>\n",
       "      <td>0.815066</td>\n",
       "      <td>0.007631</td>\n",
       "      <td>9.117959e-02</td>\n",
       "    </tr>\n",
       "  </tbody>\n",
       "</table>\n",
       "</div>"
      ],
      "text/plain": [
       "    Variable name  Average value (Treatment villages)  \\\n",
       "0             sex                            0.520268   \n",
       "1           indig                            0.316744   \n",
       "2        dist_sec                            2.399648   \n",
       "3              sc                            0.822697   \n",
       "4             grc                            3.709214   \n",
       "5           fam_n                            7.281032   \n",
       "6        min_dist                          107.395231   \n",
       "7        dist_cap                          151.801472   \n",
       "8          hohedu                            2.726729   \n",
       "9          hohwag                          550.207086   \n",
       "10  welfare_index                          656.810476   \n",
       "11         hohsex                            0.925586   \n",
       "12         hohage                           43.631234   \n",
       "13            age                           10.743825   \n",
       "14          grc97                            3.709214   \n",
       "15           sc97                            0.822697   \n",
       "\n",
       "    Average value (Control villages)  Difference(Treat - Control)  \\\n",
       "0                           0.506556                     0.013713   \n",
       "1                           0.325306                    -0.008562   \n",
       "2                           2.400687                    -0.001039   \n",
       "3                           0.815066                     0.007631   \n",
       "4                           3.733653                    -0.024439   \n",
       "5                           7.302939                    -0.021907   \n",
       "6                         103.098348                     4.296884   \n",
       "7                         154.492095                    -2.690622   \n",
       "8                           2.660982                     0.065747   \n",
       "9                         580.694452                   -30.487366   \n",
       "10                        661.593513                    -4.783037   \n",
       "11                          0.923387                     0.002199   \n",
       "12                         44.270717                    -0.639483   \n",
       "13                         10.785586                    -0.041761   \n",
       "14                          3.733653                    -0.024439   \n",
       "15                          0.815066                     0.007631   \n",
       "\n",
       "         p-value  \n",
       "0   1.956962e-02  \n",
       "1   1.183760e-01  \n",
       "2   9.670949e-01  \n",
       "3   9.117959e-02  \n",
       "4   3.947750e-01  \n",
       "5   4.236088e-01  \n",
       "6   1.936661e-18  \n",
       "7   3.414194e-03  \n",
       "8   2.613239e-02  \n",
       "9   2.727661e-04  \n",
       "10  3.724043e-04  \n",
       "11  4.781232e-01  \n",
       "12  1.925767e-06  \n",
       "13  2.476155e-01  \n",
       "14  3.947750e-01  \n",
       "15  9.117959e-02  "
      ]
     },
     "execution_count": 66,
     "metadata": {},
     "output_type": "execute_result"
    }
   ],
   "source": [
    "#Differences at baseline :\n",
    "baseline = data.loc[(data.year == 97) & (data.poor == 'pobre'),]\n",
    "#Dropping the non- demographic variables\n",
    "baseline = baseline.drop ('village',axis = 1)\n",
    "baseline = baseline.drop ('folnum',axis = 1)\n",
    "bl_treat = baseline.loc[baseline.progresa == \"basal\"].dropna()\n",
    "bl_control = baseline.loc[baseline.progresa == \"0\"].dropna()\n",
    "\n",
    "#print(bl_control.dtypes)\n",
    "#Drop string containing columns\n",
    "bl_treat.drop(['year','poor','progresa'], axis=1, inplace=True)\n",
    "bl_control.drop(['year','poor','progresa'], axis=1, inplace=True)\n",
    "\n",
    "mtreat = bl_treat.mean()\n",
    "mcontrol = bl_control.mean()\n",
    "diff = bl_treat.mean() - bl_control.mean()\n",
    "output = pd.concat([mtreat, mcontrol, diff], axis=1).reset_index()\n",
    "output.rename(columns={'index': 'Variable name', 0: 'Average value (Treatment villages)', \n",
    "                       1: 'Average value (Control villages)', 2: \"Difference(Treat - Control)\"}, inplace=True)\n",
    "diff_p = []\n",
    "for column in bl_control:\n",
    "    __, p_value = ttest_ind(bl_treat[column], bl_control[column])\n",
    "    diff_p.append({'p-value': p_value})\n",
    "diff_p = pd.DataFrame(diff_p)\n",
    "final_output = pd.concat([output, diff_p], axis=1)\n",
    "pd.concat([output, diff_p], axis=1)\n",
    "\n"
   ]
  },
  {
   "cell_type": "code",
   "execution_count": 121,
   "metadata": {},
   "outputs": [
    {
     "name": "stdout",
     "output_type": "stream",
     "text": [
      "We choose to consider a factor as significantly different if the p-value from the t-test was less than 0.05. Based on this metric, statistically significant differences between the treatment and control villages are present in the following demographic variables: 1.sex 2.dist_sec 3.min_dist 4.dist_cap 5.hoh_edu 6.hoh_wag 7.welfare_index 8.hoh_age\n"
     ]
    }
   ],
   "source": [
    "print(\"We choose to consider a factor as significantly different if the p-value from the t-test was less than 0.05. Based on this metric, statistically significant differences between the treatment and control villages are present in the following demographic variables: 1.sex 2.dist_sec 3.min_dist 4.dist_cap 5.hoh_edu 6.hoh_wag 7.welfare_index 8.hoh_age\")"
   ]
  },
  {
   "cell_type": "code",
   "execution_count": 122,
   "metadata": {},
   "outputs": [
    {
     "name": "stdout",
     "output_type": "stream",
     "text": [
      "It matters that there are differences at the baseline because they are relevant to the outcomes we observe after the Progresa scheme was implemented. The distribution of treatment and control villages is done to create equal values for the demographics of both groups, so that any latent effects are common to both of them. If we had not observed the significance of differences prior to the Progresa scheme launch, we would incorrectly  attribute the effect of these demographic variables to the Progresa scheme. This would create a biased and incorrect picture of reality.\n"
     ]
    }
   ],
   "source": [
    "print(\"It matters that there are differences at the baseline because they are relevant to the outcomes we observe after the Progresa scheme was implemented. The distribution of treatment and control villages is done to create equal values for the demographics of both groups, so that any latent effects are common to both of them. If we had not observed the significance of differences prior to the Progresa scheme launch, we would incorrectly  attribute the effect of these demographic variables to the Progresa scheme. This would create a biased and incorrect picture of reality.\")"
   ]
  },
  {
   "cell_type": "code",
   "execution_count": 123,
   "metadata": {},
   "outputs": [
    {
     "name": "stdout",
     "output_type": "stream",
     "text": [
      "Because this experiment has not been able to randomize the treatment and control groups entirely, we need to be careful in measuring the impact of the treatment, and have to parse out the effect of treatment from the effect of these demographic variables. It's not impossible, but we will have to be mindful during our impact analysis to include these variables.\n"
     ]
    }
   ],
   "source": [
    "print(\"Because this experiment has not been able to randomize the treatment and control groups entirely, we need to be careful in measuring the impact of the treatment, and have to parse out the effect of treatment from the effect of these demographic variables. It's not impossible, but we will have to be mindful during our impact analysis to include these variables.\")"
   ]
  },
  {
   "cell_type": "code",
   "execution_count": 74,
   "metadata": {},
   "outputs": [
    {
     "name": "stderr",
     "output_type": "stream",
     "text": [
      "/Users/iguest/opt/anaconda3/lib/python3.7/site-packages/ipykernel_launcher.py:4: FutureWarning: \n",
      ".ix is deprecated. Please use\n",
      ".loc for label based indexing or\n",
      ".iloc for positional indexing\n",
      "\n",
      "See the documentation here:\n",
      "http://pandas.pydata.org/pandas-docs/stable/user_guide/indexing.html#ix-indexer-is-deprecated\n",
      "  after removing the cwd from sys.path.\n",
      "/Users/iguest/opt/anaconda3/lib/python3.7/site-packages/pandas/core/indexing.py:822: FutureWarning: \n",
      ".ix is deprecated. Please use\n",
      ".loc for label based indexing or\n",
      ".iloc for positional indexing\n",
      "\n",
      "See the documentation here:\n",
      "http://pandas.pydata.org/pandas-docs/stable/user_guide/indexing.html#ix-indexer-is-deprecated\n",
      "  retval = getattr(retval, self.name)._getitem_axis(key, axis=i)\n",
      "/Users/iguest/opt/anaconda3/lib/python3.7/site-packages/pandas/core/indexing.py:494: SettingWithCopyWarning: \n",
      "A value is trying to be set on a copy of a slice from a DataFrame.\n",
      "Try using .loc[row_indexer,col_indexer] = value instead\n",
      "\n",
      "See the caveats in the documentation: http://pandas.pydata.org/pandas-docs/stable/user_guide/indexing.html#returning-a-view-versus-a-copy\n",
      "  self.obj[item] = s\n"
     ]
    }
   ],
   "source": [
    "#Measuring Impact\n",
    "#Before- After Estimator :\n",
    "poor_t_df = df[(df['poor'] == 'pobre') & (df['progresa'] == 'basal')]\n",
    "poor_t_df =poor_t_df.ix[:,['village', 'year','sc']]\n",
    "\n",
    "t_97_df = poor_t_df[poor_t_df['year'] == 97]\n",
    "t_98_df = poor_t_df[poor_t_df['year'] == 98]\n",
    "\n",
    "#For mean sc to give enroll percentage from 0-100, instead of 0-1\n",
    "t_97_df.loc[:,'sc'] *= 100   #.loc to prevent SettingWithCopyWarning \n",
    "t_98_df.loc[:,'sc'] *= 100   \n",
    "\n",
    "#Mean for each poor village\n",
    "mean_97_df = t_97_df.groupby('village' , as_index = False).mean()\n",
    "mean_98_df = t_98_df.groupby('village' , as_index = False).mean()\n",
    "\n"
   ]
  },
  {
   "cell_type": "code",
   "execution_count": 76,
   "metadata": {},
   "outputs": [
    {
     "data": {
      "image/png": "[encoded data removed]",
      "text/plain": [
       "<Figure size 720x720 with 2 Axes>"
      ]
     },
     "metadata": {
      "needs_background": "light"
     },
     "output_type": "display_data"
    }
   ],
   "source": [
    "#Plot\n",
    "#On each histogram, draw a vertical line that intersects the x-axis at the average value (across all households).\n",
    "%matplotlib inline\n",
    "\n",
    "#Prepare the data\n",
    "x1 = mean_97_df['sc'].values\n",
    "x2 = mean_98_df['sc'].values\n",
    "\n",
    "#Initialize the plot\n",
    "fig, (ax0, ax1) = plt.subplots(nrows=2, figsize = (10,10))\n",
    "\n",
    "ax0.set_title('Average schooling rates in treated poor villages before Progresa (1997)', fontsize=16)\n",
    "ax1.set_title('Average schooling rates in treated poor villages after Progresa (1998)', fontsize=16)\n",
    "\n",
    "ax0.set_xlim([40, 100])\n",
    "ax1.set_xlim([40, 100])\n",
    "\n",
    "#Plot the data\n",
    "ax0.hist(x1, bins=25,histtype='stepfilled', facecolor='r', alpha=0.75)\n",
    "ax0.axvline(x1.mean(), color='k', linestyle='dashed', linewidth=2)\n",
    "\n",
    "ax1.hist(x2, bins=25, histtype='stepfilled', facecolor='g', alpha=0.75)\n",
    "ax1.axvline(x2.mean(), color='k', linestyle='dashed', linewidth=2)\n",
    "\n",
    "fig.tight_layout()\n",
    "plt.show()"
   ]
  },
  {
   "cell_type": "code",
   "execution_count": 104,
   "metadata": {},
   "outputs": [
    {
     "name": "stderr",
     "output_type": "stream",
     "text": [
      "/Users/iguest/opt/anaconda3/lib/python3.7/site-packages/ipykernel_launcher.py:15: FutureWarning: from_items is deprecated. Please use DataFrame.from_dict(dict(items), ...) instead. DataFrame.from_dict(OrderedDict(items)) may be used to preserve the key order.\n",
      "  from ipykernel import kernelapp as app\n"
     ]
    },
    {
     "data": {
      "text/html": [
       "<div>\n",
       "<style scoped>\n",
       "    .dataframe tbody tr th:only-of-type {\n",
       "        vertical-align: middle;\n",
       "    }\n",
       "\n",
       "    .dataframe tbody tr th {\n",
       "        vertical-align: top;\n",
       "    }\n",
       "\n",
       "    .dataframe thead th {\n",
       "        text-align: right;\n",
       "    }\n",
       "</style>\n",
       "<table border=\"1\" class=\"dataframe\">\n",
       "  <thead>\n",
       "    <tr style=\"text-align: right;\">\n",
       "      <th></th>\n",
       "      <th>Control Mean</th>\n",
       "      <th>Treatment Mean</th>\n",
       "      <th>Difference</th>\n",
       "      <th>T Value</th>\n",
       "      <th>P Value</th>\n",
       "    </tr>\n",
       "  </thead>\n",
       "  <tbody>\n",
       "    <tr>\n",
       "      <td>0</td>\n",
       "      <td>0.815186</td>\n",
       "      <td>0.822697</td>\n",
       "      <td>0.007511</td>\n",
       "      <td>1.668745</td>\n",
       "      <td>0.095178</td>\n",
       "    </tr>\n",
       "  </tbody>\n",
       "</table>\n",
       "</div>"
      ],
      "text/plain": [
       "   Control Mean  Treatment Mean  Difference   T Value   P Value\n",
       "0      0.815186        0.822697    0.007511  1.668745  0.095178"
      ]
     },
     "execution_count": 104,
     "metadata": {},
     "output_type": "execute_result"
    }
   ],
   "source": [
    "pre_treat_df =   df[(df['year'] == 97) & (df['poor'] == 'pobre') & (df['progresa'] == 'basal')]\n",
    "pre_ctrl_df =   df[(df['year'] == 97) & (df['poor'] == 'pobre') & (df['progresa'] == '0')]\n",
    "\n",
    "# Calculating means\n",
    "treat_mean_1 = pre_treat_df['sc'].mean()\n",
    "control_mean_1= pre_ctrl_df['sc'].mean()\n",
    "\n",
    "# Running T-Test\n",
    "tt_97 = stats.ttest_ind(pre_treat_df['sc'],pre_ctrl_df['sc'], nan_policy='omit')\n",
    "\n",
    "# Adding to data frame\n",
    "pd.DataFrame.from_items([('Control Mean', [control_mean_1]), \n",
    "                         ('Treatment Mean', [treat_mean_1]), \n",
    "                         ('Difference', [treat_mean_1 - control_mean_1]),\n",
    "                         ('T Value', [tt_97[0]]), ('P Value', [tt_97[1]])])"
   ]
  },
  {
   "cell_type": "code",
   "execution_count": 102,
   "metadata": {},
   "outputs": [
    {
     "name": "stderr",
     "output_type": "stream",
     "text": [
      "/Users/iguest/opt/anaconda3/lib/python3.7/site-packages/ipykernel_launcher.py:15: FutureWarning: from_items is deprecated. Please use DataFrame.from_dict(dict(items), ...) instead. DataFrame.from_dict(OrderedDict(items)) may be used to preserve the key order.\n",
      "  from ipykernel import kernelapp as app\n"
     ]
    },
    {
     "data": {
      "text/html": [
       "<div>\n",
       "<style scoped>\n",
       "    .dataframe tbody tr th:only-of-type {\n",
       "        vertical-align: middle;\n",
       "    }\n",
       "\n",
       "    .dataframe tbody tr th {\n",
       "        vertical-align: top;\n",
       "    }\n",
       "\n",
       "    .dataframe thead th {\n",
       "        text-align: right;\n",
       "    }\n",
       "</style>\n",
       "<table border=\"1\" class=\"dataframe\">\n",
       "  <thead>\n",
       "    <tr style=\"text-align: right;\">\n",
       "      <th></th>\n",
       "      <th>Control Mean</th>\n",
       "      <th>Treatment Mean</th>\n",
       "      <th>Difference</th>\n",
       "      <th>T Value</th>\n",
       "      <th>P Value</th>\n",
       "    </tr>\n",
       "  </thead>\n",
       "  <tbody>\n",
       "    <tr>\n",
       "      <td>0</td>\n",
       "      <td>0.807637</td>\n",
       "      <td>0.846479</td>\n",
       "      <td>0.038842</td>\n",
       "      <td>8.358721</td>\n",
       "      <td>6.636344e-17</td>\n",
       "    </tr>\n",
       "  </tbody>\n",
       "</table>\n",
       "</div>"
      ],
      "text/plain": [
       "   Control Mean  Treatment Mean  Difference   T Value       P Value\n",
       "0      0.807637        0.846479    0.038842  8.358721  6.636344e-17"
      ]
     },
     "execution_count": 102,
     "metadata": {},
     "output_type": "execute_result"
    }
   ],
   "source": [
    "post_treat_df =   df[(df['year'] == 98) & (df['poor'] == 'pobre') & (df['progresa'] == 'basal')]\n",
    "post_ctrl_df =   df[(df['year'] == 98) & (df['poor'] == 'pobre') & (df['progresa'] == '0')]\n",
    "\n",
    "# Calculating means\n",
    "treat_mean = post_treat_df['sc'].mean()\n",
    "control_mean = post_ctrl_df['sc'].mean()\n",
    "\n",
    "# Running T-Test\n",
    "tt_98 = stats.ttest_ind(post_treat_df['sc'],post_ctrl_df['sc'], nan_policy='omit')\n",
    "\n",
    "# Adding to data frame\n",
    "pd.DataFrame.from_items([('Control Mean', [control_mean]), \n",
    "                         ('Treatment Mean', [treat_mean]), \n",
    "                         ('Difference', [treat_mean - control_mean]),\n",
    "                         ('T Value', [tt_98[0]]), ('P Value', [tt_98[1]])])"
   ]
  },
  {
   "cell_type": "code",
   "execution_count": 105,
   "metadata": {},
   "outputs": [
    {
     "name": "stdout",
     "output_type": "stream",
     "text": [
      "\n",
      "Simple regression : POOR Families in 1997 - Treatment/Control\n",
      "                            OLS Regression Results                            \n",
      "==============================================================================\n",
      "Dep. Variable:                     sc   R-squared:                       0.000\n",
      "Model:                            OLS   Adj. R-squared:                  0.000\n",
      "Method:                 Least Squares   F-statistic:                     2.785\n",
      "Date:                Wed, 05 Feb 2020   Prob (F-statistic):             0.0952\n",
      "Time:                        06:54:07   Log-Likelihood:                -14305.\n",
      "No. Observations:               30922   AIC:                         2.861e+04\n",
      "Df Residuals:                   30920   BIC:                         2.863e+04\n",
      "Df Model:                           1                                         \n",
      "Covariance Type:            nonrobust                                         \n",
      "=====================================================================================\n",
      "                        coef    std err          t      P>|t|      [0.025      0.975]\n",
      "-------------------------------------------------------------------------------------\n",
      "Intercept             0.8152      0.004    230.159      0.000       0.808       0.822\n",
      "progresa[T.basal]     0.0075      0.005      1.669      0.095      -0.001       0.016\n",
      "==============================================================================\n",
      "Omnibus:                     7746.340   Durbin-Watson:                   1.702\n",
      "Prob(Omnibus):                  0.000   Jarque-Bera (JB):            15037.477\n",
      "Skew:                          -1.664   Prob(JB):                         0.00\n",
      "Kurtosis:                       3.770   Cond. No.                         3.00\n",
      "==============================================================================\n",
      "\n",
      "Warnings:\n",
      "[1] Standard Errors assume that the covariance matrix of the errors is correctly specified.\n"
     ]
    }
   ],
   "source": [
    "# Considering only the poor from 1997\n",
    "df_97 = df[(df['year'] == 97) & (df['poor'] == 'pobre')]\n",
    "\n",
    "#No need to create dummy variable for categorical variable (Progresa) since only 2 values\n",
    "# Fitting linear model\n",
    "simple_model = smf.ols(formula = 'sc ~ progresa', data = df_97)\n",
    "simple_res=simple_model.fit()\n",
    "\n",
    "# Print\n",
    "print(\"\\nSimple regression : POOR Families in 1997 - Treatment/Control\")\n",
    "print(simple_res.summary())"
   ]
  },
  {
   "cell_type": "code",
   "execution_count": 103,
   "metadata": {},
   "outputs": [
    {
     "name": "stdout",
     "output_type": "stream",
     "text": [
      "\n",
      "Simple regression : POOR Families in 1998 - Treatment/Control\n",
      "                            OLS Regression Results                            \n",
      "==============================================================================\n",
      "Dep. Variable:                     sc   R-squared:                       0.003\n",
      "Model:                            OLS   Adj. R-squared:                  0.003\n",
      "Method:                 Least Squares   F-statistic:                     69.87\n",
      "Date:                Wed, 05 Feb 2020   Prob (F-statistic):           6.64e-17\n",
      "Time:                        06:51:20   Log-Likelihood:                -11926.\n",
      "No. Observations:               27450   AIC:                         2.386e+04\n",
      "Df Residuals:                   27448   BIC:                         2.387e+04\n",
      "Df Model:                           1                                         \n",
      "Covariance Type:            nonrobust                                         \n",
      "=====================================================================================\n",
      "                        coef    std err          t      P>|t|      [0.025      0.975]\n",
      "-------------------------------------------------------------------------------------\n",
      "Intercept             0.8076      0.004    220.676      0.000       0.800       0.815\n",
      "progresa[T.basal]     0.0388      0.005      8.359      0.000       0.030       0.048\n",
      "==============================================================================\n",
      "Omnibus:                     7638.939   Durbin-Watson:                   1.734\n",
      "Prob(Omnibus):                  0.000   Jarque-Bera (JB):            15767.534\n",
      "Skew:                          -1.767   Prob(JB):                         0.00\n",
      "Kurtosis:                       4.140   Cond. No.                         3.01\n",
      "==============================================================================\n",
      "\n",
      "Warnings:\n",
      "[1] Standard Errors assume that the covariance matrix of the errors is correctly specified.\n"
     ]
    }
   ],
   "source": [
    "# Considering only the poor from 1998\n",
    "df_98 = df[(df['year'] == 98) & (df['poor'] == 'pobre')]\n",
    "\n",
    "#No need to create dummy variable for categorical variable (Progresa) since only 2 values\n",
    "# Fitting linear model\n",
    "simple_model = smf.ols(formula = 'sc ~ progresa', data = df_98)\n",
    "simple_res=simple_model.fit()\n",
    "\n",
    "# Print\n",
    "print(\"\\nSimple regression : POOR Families in 1998 - Treatment/Control\")\n",
    "print(simple_res.summary())"
   ]
  },
  {
   "cell_type": "code",
   "execution_count": 106,
   "metadata": {},
   "outputs": [
    {
     "name": "stdout",
     "output_type": "stream",
     "text": [
      "\n",
      "Multiple regression : POOR Families in 1997 - Treatment/Control and Age, Gender, Indigeneous etc\n",
      "                            OLS Regression Results                            \n",
      "==============================================================================\n",
      "Dep. Variable:                     sc   R-squared:                       0.288\n",
      "Model:                            OLS   Adj. R-squared:                  0.288\n",
      "Method:                 Least Squares   F-statistic:                     2077.\n",
      "Date:                Wed, 05 Feb 2020   Prob (F-statistic):               0.00\n",
      "Time:                        06:54:51   Log-Likelihood:                -9038.0\n",
      "No. Observations:               30825   AIC:                         1.809e+04\n",
      "Df Residuals:                   30818   BIC:                         1.815e+04\n",
      "Df Model:                           6                                         \n",
      "Covariance Type:            nonrobust                                         \n",
      "=====================================================================================\n",
      "                        coef    std err          t      P>|t|      [0.025      0.975]\n",
      "-------------------------------------------------------------------------------------\n",
      "Intercept             1.4919      0.008    179.932      0.000       1.476       1.508\n",
      "progresa[T.basal]     0.0043      0.004      1.141      0.254      -0.003       0.012\n",
      "age                  -0.0654      0.001   -108.137      0.000      -0.067      -0.064\n",
      "dist_sec             -0.0100      0.001    -11.501      0.000      -0.012      -0.008\n",
      "sex                   0.0365      0.004      9.869      0.000       0.029       0.044\n",
      "hohedu                0.0066      0.001      8.883      0.000       0.005       0.008\n",
      "indig                 0.0522      0.004     13.150      0.000       0.044       0.060\n",
      "==============================================================================\n",
      "Omnibus:                     2587.445   Durbin-Watson:                   1.685\n",
      "Prob(Omnibus):                  0.000   Jarque-Bera (JB):             3305.723\n",
      "Skew:                          -0.802   Prob(JB):                         0.00\n",
      "Kurtosis:                       3.003   Cond. No.                         54.0\n",
      "==============================================================================\n",
      "\n",
      "Warnings:\n",
      "[1] Standard Errors assume that the covariance matrix of the errors is correctly specified.\n"
     ]
    }
   ],
   "source": [
    "#Use the same df_97 (poor households in 1997)\n",
    "# Fitting linear model\n",
    "multi_model = smf.ols(formula = 'sc ~ progresa + age + dist_sec + sex + hohedu + indig', data = df_97)\n",
    "multi_res=multi_model.fit()\n",
    "\n",
    "# Print\n",
    "print(\"\\nMultiple regression : POOR Families in 1997 - Treatment/Control and Age, Gender, Indigeneous etc\")\n",
    "print(multi_res.summary())"
   ]
  },
  {
   "cell_type": "code",
   "execution_count": 107,
   "metadata": {},
   "outputs": [
    {
     "name": "stdout",
     "output_type": "stream",
     "text": [
      "\n",
      "Multiple regression : POOR Families in 1998 - Treatment/Control and Age, Gender, Indigeneous etc\n",
      "                            OLS Regression Results                            \n",
      "==============================================================================\n",
      "Dep. Variable:                     sc   R-squared:                       0.268\n",
      "Model:                            OLS   Adj. R-squared:                  0.268\n",
      "Method:                 Least Squares   F-statistic:                     1666.\n",
      "Date:                Wed, 05 Feb 2020   Prob (F-statistic):               0.00\n",
      "Time:                        06:54:55   Log-Likelihood:                -7671.8\n",
      "No. Observations:               27340   AIC:                         1.536e+04\n",
      "Df Residuals:                   27333   BIC:                         1.542e+04\n",
      "Df Model:                           6                                         \n",
      "Covariance Type:            nonrobust                                         \n",
      "=====================================================================================\n",
      "                        coef    std err          t      P>|t|      [0.025      0.975]\n",
      "-------------------------------------------------------------------------------------\n",
      "Intercept             1.5235      0.009    161.784      0.000       1.505       1.542\n",
      "progresa[T.basal]     0.0356      0.004      8.920      0.000       0.028       0.043\n",
      "age                  -0.0655      0.001    -95.686      0.000      -0.067      -0.064\n",
      "dist_sec             -0.0119      0.001    -13.642      0.000      -0.014      -0.010\n",
      "sex                   0.0310      0.004      7.995      0.000       0.023       0.039\n",
      "hohedu                0.0087      0.001     11.147      0.000       0.007       0.010\n",
      "indig                 0.0468      0.004     11.306      0.000       0.039       0.055\n",
      "==============================================================================\n",
      "Omnibus:                     2974.429   Durbin-Watson:                   1.717\n",
      "Prob(Omnibus):                  0.000   Jarque-Bera (JB):             4048.759\n",
      "Skew:                          -0.935   Prob(JB):                         0.00\n",
      "Kurtosis:                       3.239   Cond. No.                         60.4\n",
      "==============================================================================\n",
      "\n",
      "Warnings:\n",
      "[1] Standard Errors assume that the covariance matrix of the errors is correctly specified.\n"
     ]
    }
   ],
   "source": [
    "#Use the same df_98 (poor households in 1998)\n",
    "# Fitting linear model\n",
    "multi_model = smf.ols(formula = 'sc ~ progresa + age + dist_sec + sex + hohedu + indig', data = df_98)\n",
    "multi_res=multi_model.fit()\n",
    "\n",
    "# Print\n",
    "print(\"\\nMultiple regression : POOR Families in 1998 - Treatment/Control and Age, Gender, Indigeneous etc\")\n",
    "print(multi_res.summary())"
   ]
  },
  {
   "cell_type": "code",
   "execution_count": 108,
   "metadata": {},
   "outputs": [
    {
     "name": "stdout",
     "output_type": "stream",
     "text": [
      "\n",
      "Simple Model - Standard Errors\n",
      " Intercept            0.003542\n",
      "progresa[T.basal]    0.004501\n",
      "dtype: float64\n",
      "\n",
      "Model with Controls - Standard Errors\n",
      " Intercept            0.009417\n",
      "progresa[T.basal]    0.003993\n",
      "age                  0.000685\n",
      "dist_sec             0.000872\n",
      "sex                  0.003878\n",
      "hohedu               0.000777\n",
      "indig                0.004144\n",
      "dtype: float64\n"
     ]
    }
   ],
   "source": [
    "print('\\nSimple Model - Standard Errors\\n', simple_res.bse)\n",
    "print('\\nModel with Controls - Standard Errors\\n', multi_res.bse)"
   ]
  },
  {
   "cell_type": "code",
   "execution_count": 117,
   "metadata": {},
   "outputs": [
    {
     "name": "stdout",
     "output_type": "stream",
     "text": [
      "Yes, there is a statistically significant difference between the enrollment rates in the poor housholds in treated villages before and after Progresa. This difference was validated using a T-test whose results are at < 0.05 level of significance. The mean enrollment rate in the poor households of treated villages rose from 81.38 to 82.95 from 1997 to 1998. While this increase is statistically significant, it is yet to be confirmed that the difference is due to Progresa. The estimate of the treatment effect is now 0.0356 after adding the control variables, down from 0.0388 in the previous model. This suggests that the previous simple linear regression model was overestimating the effects of the treatment variable, whereas in this model, we have seen the true impact of Progresa treatment, while controlling for factors such as age,gender and education of head of household. Because these underlying factors have a statistically significant impact, we can see that the effect of the treatment alone has reduced.\n"
     ]
    }
   ],
   "source": [
    "print(\"Yes, there is a statistically significant difference between the enrollment rates in the poor housholds in treated villages before and after Progresa. This difference was validated using a T-test whose results are at < 0.05 level of significance. The mean enrollment rate in the poor households of treated villages rose from 81.38 to 82.95 from 1997 to 1998. While this increase is statistically significant, it is yet to be confirmed that the difference is due to Progresa. The estimate of the treatment effect is now 0.0356 after adding the control variables, down from 0.0388 in the previous model. This suggests that the previous simple linear regression model was overestimating the effects of the treatment variable, whereas in this model, we have seen the true impact of Progresa treatment, while controlling for factors such as age,gender and education of head of household. Because these underlying factors have a statistically significant impact, we can see that the effect of the treatment alone has reduced.\")"
   ]
  },
  {
   "cell_type": "code",
   "execution_count": 112,
   "metadata": {},
   "outputs": [
    {
     "name": "stdout",
     "output_type": "stream",
     "text": [
      "Test Statistic (Cross-Sectional Estimator): -8.358721\n",
      "p-value (Cross-Sectional Estimator): 6.6e-17\n"
     ]
    }
   ],
   "source": [
    "#Cross Sectional Estimator\n",
    "# Subset the data to retain only observations corresponding to year 1998 and 'poor'\n",
    "data_progresa_98 = data[np.logical_and(data['year'] == 98, \n",
    "                                                data['poor'] == 'pobre')]\n",
    "\n",
    "\n",
    "# Print the output of the t-test\n",
    "cross_sec_ttest = stats.ttest_ind(data_progresa_98[data_progresa_98['progresa'] == '0']['sc'].dropna(), \n",
    "                                  data_progresa_98[data_progresa_98['progresa'] == 'basal']['sc'].dropna())\n",
    "print(\"Test Statistic (Cross-Sectional Estimator):\", round(cross_sec_ttest.statistic, 6))\n",
    "print(\"p-value (Cross-Sectional Estimator):\", round(cross_sec_ttest.pvalue, 18))"
   ]
  },
  {
   "cell_type": "code",
   "execution_count": 113,
   "metadata": {},
   "outputs": [
    {
     "name": "stdout",
     "output_type": "stream",
     "text": [
      "Yes, we observe that the calculated p-value is below 0.05, which suggests that the difference between the enrollment rate in control villages is statistically significantly different than the enrollment rate in treatment villages among poor households in the year 1998 (after treatment).\n"
     ]
    }
   ],
   "source": [
    "print(\"Yes, we observe that the calculated p-value is below 0.05, which suggests that the difference between the enrollment rate in control villages is statistically significantly different than the enrollment rate in treatment villages among poor households in the year 1998 (after treatment).\")"
   ]
  },
  {
   "cell_type": "code",
   "execution_count": 124,
   "metadata": {},
   "outputs": [
    {
     "data": {
      "text/html": [
       "<table class=\"simpletable\">\n",
       "<caption>OLS Regression Results</caption>\n",
       "<tr>\n",
       "  <th>Dep. Variable:</th>           <td>sc</td>        <th>  R-squared:         </th> <td>   0.003</td> \n",
       "</tr>\n",
       "<tr>\n",
       "  <th>Model:</th>                   <td>OLS</td>       <th>  Adj. R-squared:    </th> <td>   0.003</td> \n",
       "</tr>\n",
       "<tr>\n",
       "  <th>Method:</th>             <td>Least Squares</td>  <th>  F-statistic:       </th> <td>   69.87</td> \n",
       "</tr>\n",
       "<tr>\n",
       "  <th>Date:</th>             <td>Wed, 05 Feb 2020</td> <th>  Prob (F-statistic):</th> <td>6.64e-17</td> \n",
       "</tr>\n",
       "<tr>\n",
       "  <th>Time:</th>                 <td>07:50:55</td>     <th>  Log-Likelihood:    </th> <td> -11926.</td> \n",
       "</tr>\n",
       "<tr>\n",
       "  <th>No. Observations:</th>      <td> 27450</td>      <th>  AIC:               </th> <td>2.386e+04</td>\n",
       "</tr>\n",
       "<tr>\n",
       "  <th>Df Residuals:</th>          <td> 27448</td>      <th>  BIC:               </th> <td>2.387e+04</td>\n",
       "</tr>\n",
       "<tr>\n",
       "  <th>Df Model:</th>              <td>     1</td>      <th>                     </th>     <td> </td>    \n",
       "</tr>\n",
       "<tr>\n",
       "  <th>Covariance Type:</th>      <td>nonrobust</td>    <th>                     </th>     <td> </td>    \n",
       "</tr>\n",
       "</table>\n",
       "<table class=\"simpletable\">\n",
       "<tr>\n",
       "            <td></td>              <th>coef</th>     <th>std err</th>      <th>t</th>      <th>P>|t|</th>  <th>[0.025</th>    <th>0.975]</th>  \n",
       "</tr>\n",
       "<tr>\n",
       "  <th>Intercept</th>            <td>    0.8076</td> <td>    0.004</td> <td>  220.676</td> <td> 0.000</td> <td>    0.800</td> <td>    0.815</td>\n",
       "</tr>\n",
       "<tr>\n",
       "  <th>C(progresa)[T.basal]</th> <td>    0.0388</td> <td>    0.005</td> <td>    8.359</td> <td> 0.000</td> <td>    0.030</td> <td>    0.048</td>\n",
       "</tr>\n",
       "</table>\n",
       "<table class=\"simpletable\">\n",
       "<tr>\n",
       "  <th>Omnibus:</th>       <td>7638.939</td> <th>  Durbin-Watson:     </th> <td>   1.734</td> \n",
       "</tr>\n",
       "<tr>\n",
       "  <th>Prob(Omnibus):</th>  <td> 0.000</td>  <th>  Jarque-Bera (JB):  </th> <td>15767.534</td>\n",
       "</tr>\n",
       "<tr>\n",
       "  <th>Skew:</th>           <td>-1.767</td>  <th>  Prob(JB):          </th> <td>    0.00</td> \n",
       "</tr>\n",
       "<tr>\n",
       "  <th>Kurtosis:</th>       <td> 4.140</td>  <th>  Cond. No.          </th> <td>    3.01</td> \n",
       "</tr>\n",
       "</table><br/><br/>Warnings:<br/>[1] Standard Errors assume that the covariance matrix of the errors is correctly specified."
      ],
      "text/plain": [
       "<class 'statsmodels.iolib.summary.Summary'>\n",
       "\"\"\"\n",
       "                            OLS Regression Results                            \n",
       "==============================================================================\n",
       "Dep. Variable:                     sc   R-squared:                       0.003\n",
       "Model:                            OLS   Adj. R-squared:                  0.003\n",
       "Method:                 Least Squares   F-statistic:                     69.87\n",
       "Date:                Wed, 05 Feb 2020   Prob (F-statistic):           6.64e-17\n",
       "Time:                        07:50:55   Log-Likelihood:                -11926.\n",
       "No. Observations:               27450   AIC:                         2.386e+04\n",
       "Df Residuals:                   27448   BIC:                         2.387e+04\n",
       "Df Model:                           1                                         \n",
       "Covariance Type:            nonrobust                                         \n",
       "========================================================================================\n",
       "                           coef    std err          t      P>|t|      [0.025      0.975]\n",
       "----------------------------------------------------------------------------------------\n",
       "Intercept                0.8076      0.004    220.676      0.000       0.800       0.815\n",
       "C(progresa)[T.basal]     0.0388      0.005      8.359      0.000       0.030       0.048\n",
       "==============================================================================\n",
       "Omnibus:                     7638.939   Durbin-Watson:                   1.734\n",
       "Prob(Omnibus):                  0.000   Jarque-Bera (JB):            15767.534\n",
       "Skew:                          -1.767   Prob(JB):                         0.00\n",
       "Kurtosis:                       4.140   Cond. No.                         3.01\n",
       "==============================================================================\n",
       "\n",
       "Warnings:\n",
       "[1] Standard Errors assume that the covariance matrix of the errors is correctly specified.\n",
       "\"\"\""
      ]
     },
     "execution_count": 124,
     "metadata": {},
     "output_type": "execute_result"
    }
   ],
   "source": [
    "# Import the 'statsmodels.formula.api' module\n",
    "import statsmodels.formula.api as smf\n",
    "\n",
    "# Create the regression model for 1998 enrollment rates of the poor on treatment assignment\n",
    "model_regression = smf.ols(formula = 'sc ~ C(progresa)', data = data_progresa_98)\n",
    "model_regression.fit().summary()"
   ]
  },
  {
   "cell_type": "code",
   "execution_count": 128,
   "metadata": {},
   "outputs": [
    {
     "name": "stdout",
     "output_type": "stream",
     "text": [
      "Based on the above results, progresa(treatment) increases the likelihood of a child enrolling by 0.0383. The t-test estimate was 8.1 whereas the same in the regression, coefficient is 0.0383.Here, the p-value is less than 0.05. Based on that, we can reject the null hypothesis stating that there is no effect of the treatment.\n"
     ]
    }
   ],
   "source": [
    "print(\"Based on the above results, progresa(treatment) increases the likelihood of a child enrolling by 0.0383. The t-test estimate was 8.1 whereas the same in the regression, coefficient is 0.0383.Here, the p-value is less than 0.05. Based on that, we can reject the null hypothesis stating that there is no effect of the treatment.\")"
   ]
  },
  {
   "cell_type": "code",
   "execution_count": 125,
   "metadata": {},
   "outputs": [
    {
     "data": {
      "text/html": [
       "<table class=\"simpletable\">\n",
       "<caption>OLS Regression Results</caption>\n",
       "<tr>\n",
       "  <th>Dep. Variable:</th>           <td>sc</td>        <th>  R-squared:         </th> <td>   0.267</td> \n",
       "</tr>\n",
       "<tr>\n",
       "  <th>Model:</th>                   <td>OLS</td>       <th>  Adj. R-squared:    </th> <td>   0.267</td> \n",
       "</tr>\n",
       "<tr>\n",
       "  <th>Method:</th>             <td>Least Squares</td>  <th>  F-statistic:       </th> <td>   1419.</td> \n",
       "</tr>\n",
       "<tr>\n",
       "  <th>Date:</th>             <td>Wed, 05 Feb 2020</td> <th>  Prob (F-statistic):</th>  <td>  0.00</td>  \n",
       "</tr>\n",
       "<tr>\n",
       "  <th>Time:</th>                 <td>08:57:42</td>     <th>  Log-Likelihood:    </th> <td> -7639.4</td> \n",
       "</tr>\n",
       "<tr>\n",
       "  <th>No. Observations:</th>      <td> 27267</td>      <th>  AIC:               </th> <td>1.529e+04</td>\n",
       "</tr>\n",
       "<tr>\n",
       "  <th>Df Residuals:</th>          <td> 27259</td>      <th>  BIC:               </th> <td>1.536e+04</td>\n",
       "</tr>\n",
       "<tr>\n",
       "  <th>Df Model:</th>              <td>     7</td>      <th>                     </th>     <td> </td>    \n",
       "</tr>\n",
       "<tr>\n",
       "  <th>Covariance Type:</th>      <td>nonrobust</td>    <th>                     </th>     <td> </td>    \n",
       "</tr>\n",
       "</table>\n",
       "<table class=\"simpletable\">\n",
       "<tr>\n",
       "            <td></td>              <th>coef</th>     <th>std err</th>      <th>t</th>      <th>P>|t|</th>  <th>[0.025</th>    <th>0.975]</th>  \n",
       "</tr>\n",
       "<tr>\n",
       "  <th>Intercept</th>            <td>    1.5025</td> <td>    0.014</td> <td>  105.342</td> <td> 0.000</td> <td>    1.475</td> <td>    1.530</td>\n",
       "</tr>\n",
       "<tr>\n",
       "  <th>C(progresa)[T.basal]</th> <td>    0.0352</td> <td>    0.004</td> <td>    8.799</td> <td> 0.000</td> <td>    0.027</td> <td>    0.043</td>\n",
       "</tr>\n",
       "<tr>\n",
       "  <th>C(sex)[T.1.0]</th>        <td>    0.0310</td> <td>    0.004</td> <td>    7.977</td> <td> 0.000</td> <td>    0.023</td> <td>    0.039</td>\n",
       "</tr>\n",
       "<tr>\n",
       "  <th>C(indig)[T.1.0]</th>      <td>    0.0468</td> <td>    0.004</td> <td>   11.283</td> <td> 0.000</td> <td>    0.039</td> <td>    0.055</td>\n",
       "</tr>\n",
       "<tr>\n",
       "  <th>age</th>                  <td>   -0.0655</td> <td>    0.001</td> <td>  -95.105</td> <td> 0.000</td> <td>   -0.067</td> <td>   -0.064</td>\n",
       "</tr>\n",
       "<tr>\n",
       "  <th>dist_sec</th>             <td>   -0.0117</td> <td>    0.001</td> <td>  -13.361</td> <td> 0.000</td> <td>   -0.013</td> <td>   -0.010</td>\n",
       "</tr>\n",
       "<tr>\n",
       "  <th>hohedu</th>               <td>    0.0085</td> <td>    0.001</td> <td>   10.951</td> <td> 0.000</td> <td>    0.007</td> <td>    0.010</td>\n",
       "</tr>\n",
       "<tr>\n",
       "  <th>welfare_index</th>        <td> 3.227e-05</td> <td> 1.72e-05</td> <td>    1.872</td> <td> 0.061</td> <td>-1.52e-06</td> <td> 6.61e-05</td>\n",
       "</tr>\n",
       "</table>\n",
       "<table class=\"simpletable\">\n",
       "<tr>\n",
       "  <th>Omnibus:</th>       <td>2993.090</td> <th>  Durbin-Watson:     </th> <td>   1.718</td>\n",
       "</tr>\n",
       "<tr>\n",
       "  <th>Prob(Omnibus):</th>  <td> 0.000</td>  <th>  Jarque-Bera (JB):  </th> <td>4083.947</td>\n",
       "</tr>\n",
       "<tr>\n",
       "  <th>Skew:</th>           <td>-0.940</td>  <th>  Prob(JB):          </th> <td>    0.00</td>\n",
       "</tr>\n",
       "<tr>\n",
       "  <th>Kurtosis:</th>       <td> 3.248</td>  <th>  Cond. No.          </th> <td>4.90e+03</td>\n",
       "</tr>\n",
       "</table><br/><br/>Warnings:<br/>[1] Standard Errors assume that the covariance matrix of the errors is correctly specified.<br/>[2] The condition number is large, 4.9e+03. This might indicate that there are<br/>strong multicollinearity or other numerical problems."
      ],
      "text/plain": [
       "<class 'statsmodels.iolib.summary.Summary'>\n",
       "\"\"\"\n",
       "                            OLS Regression Results                            \n",
       "==============================================================================\n",
       "Dep. Variable:                     sc   R-squared:                       0.267\n",
       "Model:                            OLS   Adj. R-squared:                  0.267\n",
       "Method:                 Least Squares   F-statistic:                     1419.\n",
       "Date:                Wed, 05 Feb 2020   Prob (F-statistic):               0.00\n",
       "Time:                        08:57:42   Log-Likelihood:                -7639.4\n",
       "No. Observations:               27267   AIC:                         1.529e+04\n",
       "Df Residuals:                   27259   BIC:                         1.536e+04\n",
       "Df Model:                           7                                         \n",
       "Covariance Type:            nonrobust                                         \n",
       "========================================================================================\n",
       "                           coef    std err          t      P>|t|      [0.025      0.975]\n",
       "----------------------------------------------------------------------------------------\n",
       "Intercept                1.5025      0.014    105.342      0.000       1.475       1.530\n",
       "C(progresa)[T.basal]     0.0352      0.004      8.799      0.000       0.027       0.043\n",
       "C(sex)[T.1.0]            0.0310      0.004      7.977      0.000       0.023       0.039\n",
       "C(indig)[T.1.0]          0.0468      0.004     11.283      0.000       0.039       0.055\n",
       "age                     -0.0655      0.001    -95.105      0.000      -0.067      -0.064\n",
       "dist_sec                -0.0117      0.001    -13.361      0.000      -0.013      -0.010\n",
       "hohedu                   0.0085      0.001     10.951      0.000       0.007       0.010\n",
       "welfare_index         3.227e-05   1.72e-05      1.872      0.061   -1.52e-06    6.61e-05\n",
       "==============================================================================\n",
       "Omnibus:                     2993.090   Durbin-Watson:                   1.718\n",
       "Prob(Omnibus):                  0.000   Jarque-Bera (JB):             4083.947\n",
       "Skew:                          -0.940   Prob(JB):                         0.00\n",
       "Kurtosis:                       3.248   Cond. No.                     4.90e+03\n",
       "==============================================================================\n",
       "\n",
       "Warnings:\n",
       "[1] Standard Errors assume that the covariance matrix of the errors is correctly specified.\n",
       "[2] The condition number is large, 4.9e+03. This might indicate that there are\n",
       "strong multicollinearity or other numerical problems.\n",
       "\"\"\""
      ]
     },
     "execution_count": 125,
     "metadata": {},
     "output_type": "execute_result"
    }
   ],
   "source": [
    "# Create the multiple regression model for 1998 enrollment rates of the poor on treatment assignment\n",
    "model_regression_multiple = smf.ols(formula = 'sc ~ C(progresa) + age + dist_sec + C(sex) + hohedu + welfare_index + C(indig)', \n",
    "                                    data = data_progresa_98)\n",
    "model_regression_multiple.fit().summary()"
   ]
  },
  {
   "cell_type": "code",
   "execution_count": 127,
   "metadata": {
    "scrolled": true
   },
   "outputs": [
    {
     "name": "stdout",
     "output_type": "stream",
     "text": [
      "A: The controls reduces the point estimate of treatment effect from 0.0388 to 0.0352. B: The controls reduces the standard error on the treatment effect from 0.005 to 0.004. C: We observe that the treatment effect for 2.3 (0.0352) is different than what we observed in 2.2 (0.0388). This suggests that if we include a set of relevant control variables, we observe that the treatment effect diminishes by 9.28% (0.0036). This change in the value of treatment effect (0.0036) on the enrollment rates of the poor in the year 1998, is explained by the effect of the control variables in the regression. Also, we observe that the coefficient for treatment effect in 2.3 is statistically more significant than what we observed for 2.2.\n"
     ]
    }
   ],
   "source": [
    "print(\"A: The controls reduces the point estimate of treatment effect from 0.0388 to 0.0352. B: The controls reduces the standard error on the treatment effect from 0.005 to 0.004. C: We observe that the treatment effect for 2.3 (0.0352) is different than what we observed in 2.2 (0.0388). This suggests that if we include a set of relevant control variables, we observe that the treatment effect diminishes by 9.28% (0.0036). This change in the value of treatment effect (0.0036) on the enrollment rates of the poor in the year 1998, is explained by the effect of the control variables in the regression. Also, we observe that the coefficient for treatment effect in 2.3 is statistically more significant than what we observed for 2.2.\")"
   ]
  },
  {
   "cell_type": "code",
   "execution_count": 132,
   "metadata": {},
   "outputs": [
    {
     "name": "stdout",
     "output_type": "stream",
     "text": [
      "\\ POOR Families in 1998 - Treatment/Control and demographic factors\n",
      "            Before Progresa (97)  After Progresa (98)\n",
      "Control                 0.815186             0.807637\n",
      "Treatment               0.822697             0.846479\n",
      "Difference             -0.007549             0.023782\n",
      "\n",
      "The difference in difference is : 0.031331280319323085\n"
     ]
    }
   ],
   "source": [
    "#Difference in Difference Estimator using the a 4 way simple table :\n",
    "#Using 1997 and 1998, looking at difference across treatment and control for POOR families\n",
    "# Computing the means required for difference in difference\n",
    "PreControlMean =    df[(df['poor'] == 'pobre') & (df['year'] == 97) & (df['progresa'] == '0')].mean()['sc']\n",
    "PostControlMean =    df[(df['poor'] == 'pobre') & (df['year'] == 98) & (df['progresa'] == '0')].mean()['sc']\n",
    "\n",
    "PreTreatMean =    df[(df['poor'] == 'pobre') & (df['year'] == 97) & (df['progresa'] == 'basal')].mean()['sc']\n",
    "PostTreatMean =    df[(df['poor'] == 'pobre') & (df['year'] == 98) & (df['progresa'] == 'basal')].mean()['sc']\n",
    "\n",
    "ControlDiff =   PostControlMean - PreControlMean\n",
    "TreatmentDiff = PostTreatMean - PreTreatMean\n",
    "DiffInDiff =    TreatmentDiff - ControlDiff\n",
    "\n",
    "# Arranging means in a table using Series\n",
    "diff_table = {'Before Progresa (97)':pd.Series([PreControlMean, PreTreatMean, ControlDiff], index = ['Control', 'Treatment', 'Difference']),\n",
    "       'After Progresa (98)':pd.Series([PostControlMean, PostTreatMean, TreatmentDiff], index = ['Control', 'Treatment', 'Difference']),}\n",
    "\n",
    "print(\"\\ POOR Families in 1998 - Treatment/Control and demographic factors\")\n",
    "print (pd.DataFrame(diff_table))\n",
    "print('\\nThe difference in difference is :', DiffInDiff)"
   ]
  },
  {
   "cell_type": "code",
   "execution_count": 130,
   "metadata": {},
   "outputs": [
    {
     "name": "stderr",
     "output_type": "stream",
     "text": [
      "/Users/iguest/opt/anaconda3/lib/python3.7/site-packages/pandas/core/indexing.py:376: SettingWithCopyWarning: \n",
      "A value is trying to be set on a copy of a slice from a DataFrame.\n",
      "Try using .loc[row_indexer,col_indexer] = value instead\n",
      "\n",
      "See the caveats in the documentation: http://pandas.pydata.org/pandas-docs/stable/user_guide/indexing.html#returning-a-view-versus-a-copy\n",
      "  self.obj[key] = _infer_fill_value(value)\n"
     ]
    },
    {
     "name": "stdout",
     "output_type": "stream",
     "text": [
      "\n",
      "Simple regression : POOR Families in 1997 & 1998 - Treatment/Control, Year and demographic factors\n",
      "                            OLS Regression Results                            \n",
      "==============================================================================\n",
      "Dep. Variable:                     sc   R-squared:                       0.001\n",
      "Model:                            OLS   Adj. R-squared:                  0.001\n",
      "Method:                 Least Squares   F-statistic:                     28.31\n",
      "Date:                Wed, 05 Feb 2020   Prob (F-statistic):           2.76e-18\n",
      "Time:                        09:23:35   Log-Likelihood:                -26242.\n",
      "No. Observations:               58372   AIC:                         5.249e+04\n",
      "Df Residuals:                   58368   BIC:                         5.253e+04\n",
      "Df Model:                           3                                         \n",
      "Covariance Type:            nonrobust                                         \n",
      "==========================================================================================\n",
      "                             coef    std err          t      P>|t|      [0.025      0.975]\n",
      "------------------------------------------------------------------------------------------\n",
      "Intercept                  0.8152      0.003    233.182      0.000       0.808       0.822\n",
      "progresa[T.basal]          0.0075      0.004      1.691      0.091      -0.001       0.016\n",
      "time                      -0.0075      0.005     -1.480      0.139      -0.018       0.002\n",
      "progresa[T.basal]:time     0.0313      0.006      4.835      0.000       0.019       0.044\n",
      "==============================================================================\n",
      "Omnibus:                    15346.988   Durbin-Watson:                   1.397\n",
      "Prob(Omnibus):                  0.000   Jarque-Bera (JB):            30608.651\n",
      "Skew:                          -1.711   Prob(JB):                         0.00\n",
      "Kurtosis:                       3.937   Cond. No.                         7.67\n",
      "==============================================================================\n",
      "\n",
      "Warnings:\n",
      "[1] Standard Errors assume that the covariance matrix of the errors is correctly specified.\n"
     ]
    }
   ],
   "source": [
    "#Regression :\n",
    "# Considering only the poor\n",
    "poor_df = df[(df['poor'] == 'pobre')]\n",
    "\n",
    "#Create dummy variable for time as 0/1 instead of 97,98\n",
    "poor_df.loc[:,'time'] = np.where(poor_df.loc[:,'year'] == 98, 1, 0)\n",
    " \n",
    "# Fitting linear model\n",
    "did1_model = smf.ols(formula = 'sc ~ progresa + time + progresa*time', data = poor_df)\n",
    "did1_res=did1_model.fit()\n",
    "\n",
    "# Print\n",
    "print(\"\\nSimple regression : POOR Families in 1997 & 1998 - Treatment/Control, Year and demographic factors\")\n",
    "print(did1_res.summary())"
   ]
  },
  {
   "cell_type": "code",
   "execution_count": 131,
   "metadata": {},
   "outputs": [
    {
     "name": "stdout",
     "output_type": "stream",
     "text": [
      "\n",
      "Multiple regression : POOR Families in 1997 & 1998 - Treatment/Control, Year and demographic factors\n",
      "                            OLS Regression Results                            \n",
      "==============================================================================\n",
      "Dep. Variable:                     sc   R-squared:                       0.279\n",
      "Model:                            OLS   Adj. R-squared:                  0.279\n",
      "Method:                 Least Squares   F-statistic:                     2810.\n",
      "Date:                Wed, 05 Feb 2020   Prob (F-statistic):               0.00\n",
      "Time:                        09:23:44   Log-Likelihood:                -16717.\n",
      "No. Observations:               58165   AIC:                         3.345e+04\n",
      "Df Residuals:                   58156   BIC:                         3.353e+04\n",
      "Df Model:                           8                                         \n",
      "Covariance Type:            nonrobust                                         \n",
      "==========================================================================================\n",
      "                             coef    std err          t      P>|t|      [0.025      0.975]\n",
      "------------------------------------------------------------------------------------------\n",
      "Intercept                  1.4940      0.006    231.606      0.000       1.481       1.507\n",
      "progresa[T.basal]          0.0043      0.004      1.137      0.256      -0.003       0.012\n",
      "time                       0.0270      0.004      6.204      0.000       0.018       0.036\n",
      "progresa[T.basal]:time     0.0314      0.006      5.685      0.000       0.021       0.042\n",
      "age                       -0.0655      0.000   -144.433      0.000      -0.066      -0.065\n",
      "hohedu                     0.0076      0.001     14.110      0.000       0.007       0.009\n",
      "dist_sec                  -0.0110      0.001    -17.788      0.000      -0.012      -0.010\n",
      "sex                        0.0339      0.003     12.672      0.000       0.029       0.039\n",
      "indig                      0.0496      0.003     17.304      0.000       0.044       0.055\n",
      "==============================================================================\n",
      "Omnibus:                     5523.777   Durbin-Watson:                   1.484\n",
      "Prob(Omnibus):                  0.000   Jarque-Bera (JB):             7269.312\n",
      "Skew:                          -0.864   Prob(JB):                         0.00\n",
      "Kurtosis:                       3.113   Cond. No.                         70.8\n",
      "==============================================================================\n",
      "\n",
      "Warnings:\n",
      "[1] Standard Errors assume that the covariance matrix of the errors is correctly specified.\n"
     ]
    }
   ],
   "source": [
    "# Considering only the poor\n",
    "poor_df = df[(df['poor'] == 'pobre')]\n",
    "\n",
    "#Create dummy variable for time as 0/1 instead of 97,98\n",
    "poor_df.loc[:,'time'] = np.where(poor_df.loc[:,'year'] == 98, 1, 0)\n",
    " \n",
    "# Fitting linear model\n",
    "did1_model = smf.ols(formula = 'sc ~ progresa + time + progresa*time + age+ hohedu + dist_sec + sex + indig', data = poor_df)\n",
    "did1_res=did1_model.fit()\n",
    "\n",
    "# Print\n",
    "print(\"\\nMultiple regression : POOR Families in 1997 & 1998 - Treatment/Control, Year and demographic factors\")\n",
    "print(did1_res.summary())"
   ]
  },
  {
   "cell_type": "code",
   "execution_count": 133,
   "metadata": {},
   "outputs": [
    {
     "name": "stdout",
     "output_type": "stream",
     "text": [
      "The estimates in the current diffindiff model suggest that the treatment variable (progresa) and time are not significant as opposed to being significant in the simple difference model. Instead, we have the significant interaction term difference in groups over time) that has a p-value < 0.05. The other demographic variables retain similar significance to previous models.\n"
     ]
    }
   ],
   "source": [
    "print(\"The estimates in the current diffindiff model suggest that the treatment variable (progresa) and time are not significant as opposed to being significant in the simple difference model. Instead, we have the significant interaction term difference in groups over time) that has a p-value < 0.05. The other demographic variables retain similar significance to previous models.\")"
   ]
  },
  {
   "cell_type": "code",
   "execution_count": 134,
   "metadata": {},
   "outputs": [
    {
     "name": "stdout",
     "output_type": "stream",
     "text": [
      "The tabular diff-in-diff provided an impact value of 3.13 % while the linear regression model gave the value 3.14 %. This indicates that the impact of the interaction variable has been adjusted for the demographic control variables. Our current model is correctly estimating based on the impact of time as well.\n"
     ]
    }
   ],
   "source": [
    "print(\"The tabular diff-in-diff provided an impact value of 3.13 % while the linear regression model gave the value 3.14 %. This indicates that the impact of the interaction variable has been adjusted for the demographic control variables. Our current model is correctly estimating based on the impact of time as well.\")"
   ]
  },
  {
   "cell_type": "code",
   "execution_count": 135,
   "metadata": {},
   "outputs": [
    {
     "name": "stdout",
     "output_type": "stream",
     "text": [
      "The results effects of these are not statistically significant\n"
     ]
    }
   ],
   "source": [
    "print(\"The results effects of these are not statistically significant\")"
   ]
  },
  {
   "cell_type": "code",
   "execution_count": 141,
   "metadata": {},
   "outputs": [
    {
     "name": "stdout",
     "output_type": "stream",
     "text": [
      "Before and After Estimator Assumptions\n",
      "The counterfactual assumption underlying the regression is that in the absence of treatment (Progresa) and other underlying trend, the enrollment rates of the students in the villages chosen for control and those chosen for treatment would be the same.\n",
      "While this assumption is okay for the analysis, it does not seem plausible\n"
     ]
    }
   ],
   "source": [
    "#Compare the estimators :\n",
    "#Assumptions behind all the models:\n",
    "print(\"Before and After Estimator Assumptions\")\n",
    "print(\"The counterfactual assumption underlying the regression is that in the absence of treatment (Progresa) and other underlying trend, the enrollment rates of the students in the villages chosen for control and those chosen for treatment would be the same.\")\n",
    "print(\"While this assumption is okay for the analysis, it does not seem plausible\")"
   ]
  },
  {
   "cell_type": "code",
   "execution_count": 142,
   "metadata": {},
   "outputs": [
    {
     "name": "stdout",
     "output_type": "stream",
     "text": [
      "Cross sectional estimator assumptions \n",
      "The counterfactual assumption that is underlying this regression is that the difference between the control and treated villages for the year 1998 among the poor households would not have been observed if not for 'progresa' (treatment).\n",
      "While this assumption is taken for analysis, it could be plausible as well as without these studies such observations would not be made\n"
     ]
    }
   ],
   "source": [
    "print(\"Cross sectional estimator assumptions \")\n",
    "print(\"The counterfactual assumption that is underlying this regression is that the difference between the control and treated villages for the year 1998 among the poor households would not have been observed if not for 'progresa' (treatment).\")\n",
    "print(\"While this assumption is taken for analysis, it could be plausible as well as without these studies such observations would not be made\")\n"
   ]
  },
  {
   "cell_type": "code",
   "execution_count": 143,
   "metadata": {},
   "outputs": [
    {
     "name": "stdout",
     "output_type": "stream",
     "text": [
      "Diff in Diff Table assumptions \n",
      "The counterfactual assumption underlying this estimate is that, in the absence of the actual Progresa scheme (treatment), the enrollment rates in the villages in the treatment group over a course of time (e.g. a year) would have changed by the same amount as the enrollment rates in the control group in the same time frame, assuming that the trend across time is constant. The counterfactual assumes that rate of change of the response variable (enrollment rate) is the same for both the treatment and control group in the absence of the actual treatment. The difference between enrollment rates in treatment and control households in 1997 and 1998 would have been constant under the counterfactual assumption.\n",
      "While this assumption is okay for the analysis, it does not seem plausible\n"
     ]
    }
   ],
   "source": [
    "print(\"Diff in Diff Table assumptions \")\n",
    "print(\"The counterfactual assumption underlying this estimate is that, in the absence of the actual Progresa scheme (treatment), the enrollment rates in the villages in the treatment group over a course of time (e.g. a year) would have changed by the same amount as the enrollment rates in the control group in the same time frame, assuming that the trend across time is constant. The counterfactual assumes that rate of change of the response variable (enrollment rate) is the same for both the treatment and control group in the absence of the actual treatment. The difference between enrollment rates in treatment and control households in 1997 and 1998 would have been constant under the counterfactual assumption.\")\n",
    "print(\"While this assumption is okay for the analysis, it does not seem plausible\")"
   ]
  },
  {
   "cell_type": "code",
   "execution_count": 144,
   "metadata": {},
   "outputs": [
    {
     "name": "stdout",
     "output_type": "stream",
     "text": [
      "Diff in Diff regression assumptions\n",
      "The counterfactual assumption underlying the regression is that in the absence of progresa scheme (treatment variable) and the effects of demographic variables, the rate of enrollment in the treated poor households would equal the rate of enrollment in the control poor households over a perid of time assuming that the trend over time is constant.\n",
      "While this assumption is okay for the analysis, it does not seem plausible\n"
     ]
    }
   ],
   "source": [
    "print(\"Diff in Diff regression assumptions\")\n",
    "print(\"The counterfactual assumption underlying the regression is that in the absence of progresa scheme (treatment variable) and the effects of demographic variables, the rate of enrollment in the treated poor households would equal the rate of enrollment in the control poor households over a perid of time assuming that the trend over time is constant.\")\n",
    "print(\"While this assumption is okay for the analysis, it does not seem plausible\")"
   ]
  },
  {
   "cell_type": "code",
   "execution_count": 149,
   "metadata": {},
   "outputs": [
    {
     "name": "stdout",
     "output_type": "stream",
     "text": [
      "I do believe that progresa had a CORRELATION, NOT CAUSATION on the enrollment rates in the poor households in Mexico.\n",
      "This was NOT causal becaust there were many assumptions such as:\n",
      "We are assuming parallel trends. This may or may not be true\n",
      "We are assuming that the experiment was perfectly randomized. This may or may not be true.\n",
      "Also, based on the measure of impact chosen, the results varied a lot.\n",
      "Points to note:\n",
      "The randomization of villages was not adequately random enough, as there were statistically significant differences between the parameters of the treated and control villages. The treated villages contained slightly more educated parents, younger heads of households, and were closer to secondary schools, hospitals and the capital. While these differences were small and statistically significant, it does make me question whether some villages were chosen out of preference for the study results.\n",
      "Even after controlling for these demographic variables, we were not able to find a significant value for the impact of progresa treatment alone. This leads me to question that the higher enrollment rates that were witnessed were due to the combined effects of progressa and time.\n",
      "In many of the other methods, e.g. simple difference T-test, and simple linear regression, we over-estimated the impact of progresa.\n",
      "The model that explained most of the variance was still explaining arounf 30% of the data after including 5 demographic variables. This suggests that there could have been other demographic variables that can better explain this data, and are leading us to over-estimate the effect of progresa.\n",
      "I would hence proceed with caution before labeling it as a causal impact, because proving causality is almost an impossible task.\n",
      "We can safely say that there is a correlation however, because of the positive, and statistically significant coefficients in our models.\n"
     ]
    }
   ],
   "source": [
    "print(\"I do believe that progresa had a CORRELATION, NOT CAUSATION on the enrollment rates in the poor households in Mexico.\\nThis was NOT causal becaust there were many assumptions such as:\\nWe are assuming parallel trends. This may or may not be true\\nWe are assuming that the experiment was perfectly randomized. This may or may not be true.\\nAlso, based on the measure of impact chosen, the results varied a lot.\")\n",
    "\n",
    "print(\"Points to note:\")\n",
    "\n",
    "print(\"The randomization of villages was not adequately random enough, as there were statistically significant differences between the parameters of the treated and control villages. The treated villages contained slightly more educated parents, younger heads of households, and were closer to secondary schools, hospitals and the capital. While these differences were small and statistically significant, it does make me question whether some villages were chosen out of preference for the study results.\")\n",
    "\n",
    "print(\"Even after controlling for these demographic variables, we were not able to find a significant value for the impact of progresa treatment alone. This leads me to question that the higher enrollment rates that were witnessed were due to the combined effects of progressa and time.\")\n",
    "\n",
    "print(\"In many of the other methods, e.g. simple difference T-test, and simple linear regression, we over-estimated the impact of progresa.\")\n",
    "\n",
    "print(\"The model that explained most of the variance was still explaining arounf 30% of the data after including 5 demographic variables. This suggests that there could have been other demographic variables that can better explain this data, and are leading us to over-estimate the effect of progresa.\")\n",
    "\n",
    "print(\"I would hence proceed with caution before labeling it as a causal impact, because proving causality is almost an impossible task.\")\n",
    "\n",
    "print(\"We can safely say that there is a correlation however, because of the positive, and statistically significant coefficients in our models.\")"
   ]
  }
 ],
 "metadata": {
  "kernelspec": {
   "display_name": "Python 3",
   "language": "python",
   "name": "python3"
  },
  "language_info": {
   "codemirror_mode": {
    "name": "ipython",
    "version": 3
   },
   "file_extension": ".py",
   "mimetype": "text/x-python",
   "name": "python",
   "nbconvert_exporter": "python",
   "pygments_lexer": "ipython3",
   "version": "3.7.4"
  }
 },
 "nbformat": 4,
 "nbformat_minor": 2
}
