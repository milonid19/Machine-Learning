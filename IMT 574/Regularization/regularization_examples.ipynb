{
 "cells": [
  {
   "cell_type": "markdown",
   "metadata": {
    "ein.tags": "worksheet-0",
    "slideshow": {
     "slide_type": "-"
    }
   },
   "source": [
    "# Regularization"
   ]
  },
  {
   "cell_type": "code",
   "execution_count": 21,
   "metadata": {
    "autoscroll": false,
    "ein.tags": "worksheet-0",
    "slideshow": {
     "slide_type": "-"
    }
   },
   "outputs": [],
   "source": [
    "import numpy as np\n",
    "import pandas as pd\n",
    "import matplotlib.pyplot as plt\n",
    "%matplotlib inline\n",
    "from sklearn.linear_model import LinearRegression, Ridge, Lasso\n",
    "from sklearn.model_selection import train_test_split\n",
    "from scipy.stats import pearsonr\n",
    "import os"
   ]
  },
  {
   "cell_type": "code",
   "execution_count": 22,
   "metadata": {
    "autoscroll": false,
    "ein.tags": "worksheet-0",
    "slideshow": {
     "slide_type": "-"
    }
   },
   "outputs": [
    {
     "name": "stdout",
     "output_type": "stream",
     "text": [
      "cor(x1, x2_ =  0.9999995842949421\n",
      "cor(x3, x1-x2) =  0.6615760036768783\n",
      "condition number of training X 3082.629058048571\n"
     ]
    }
   ],
   "source": [
    "n = 100\n",
    "c = 0.001\n",
    "x1 = np.random.normal(size=n)\n",
    "x2 = x1 + c*np.random.normal(size=n)\n",
    "x3 = x1 - x2 + c*np.random.normal(size=n)\n",
    "y = x1 + x2 + x3 + np.random.normal(size=n)\n",
    "X = np.stack((x1, x2, x3), axis=1)\n",
    "print(\"cor(x1, x2_ = \", pearsonr(x1, x2)[0])\n",
    "print(\"cor(x3, x1-x2) = \", pearsonr(x3, x1 - x2)[0])\n",
    "print(\"condition number of training X\", np.linalg.cond(X))"
   ]
  },
  {
   "cell_type": "code",
   "execution_count": 23,
   "metadata": {
    "autoscroll": false,
    "ein.tags": "worksheet-0",
    "slideshow": {
     "slide_type": "-"
    }
   },
   "outputs": [
    {
     "name": "stdout",
     "output_type": "stream",
     "text": [
      "lm coefficients: [-117.40254665  119.38890055   25.23453862]\n",
      "ridge coefficients: [ 0.95391286  1.03364943 -0.0525013 ]\n",
      "lasso coefficients [ 1.89207595e+00  1.53318847e-04 -0.00000000e+00]\n"
     ]
    }
   ],
   "source": [
    "m = LinearRegression().fit(X, y)\n",
    "print(\"lm coefficients:\", m.coef_)\n",
    "# penalty value\n",
    "alpha=.1  # sometimes refer to this as lambda\n",
    "mr = Ridge(alpha=alpha).fit(X, y)\n",
    "# large alpha = large penalty\n",
    "print(\"ridge coefficients:\", mr.coef_)\n",
    "ml = Lasso(alpha=alpha).fit(X, y)\n",
    "print(\"lasso coefficients\", ml.coef_)\n"
   ]
  },
  {
   "cell_type": "code",
   "execution_count": 24,
   "metadata": {
    "autoscroll": false,
    "ein.tags": "worksheet-0",
    "slideshow": {
     "slide_type": "-"
    }
   },
   "outputs": [
    {
     "data": {
      "text/plain": [
       "<matplotlib.legend.Legend at 0x7f25b0b61f90>"
      ]
     },
     "execution_count": 24,
     "metadata": {},
     "output_type": "execute_result"
    },
    {
     "data": {
      "image/png": "[encoded data removed]",
      "text/plain": [
       "<Figure size 648x648 with 1 Axes>"
      ]
     },
     "metadata": {
      "needs_background": "light"
     },
     "output_type": "display_data"
    }
   ],
   "source": [
    "plt.figure(figsize=(9,9))\n",
    "plt.scatter(x1, y, edgecolor='k', label='Actual')\n",
    "hatY = m.predict(X)\n",
    "plt.scatter(x1, hatY, c='r', edgecolor='k', label='Predicted')\n",
    "plt.xlabel('x1')\n",
    "plt.ylabel('Outcome y')\n",
    "plt.legend()"
   ]
  },
  {
   "cell_type": "markdown",
   "metadata": {
    "ein.tags": "worksheet-0",
    "slideshow": {
     "slide_type": "-"
    }
   },
   "source": [
    "## Create testing data\n",
    "\n",
    "Normally you split validation data out of the original data, but as we created just random numbers, we can create some more instead."
   ]
  },
  {
   "cell_type": "code",
   "execution_count": 25,
   "metadata": {
    "autoscroll": false,
    "ein.tags": "worksheet-0",
    "slideshow": {
     "slide_type": "-"
    }
   },
   "outputs": [
    {
     "name": "stdout",
     "output_type": "stream",
     "text": [
      "condition number of validation X 3082.629058048571\n"
     ]
    }
   ],
   "source": [
    "nt = 1000\n",
    "c = 0.001\n",
    "x1t = np.random.normal(size=nt)\n",
    "x2t = x1t + c*np.random.normal(size=nt)\n",
    "x3t = x1t - x2t + c*np.random.normal(size=nt)\n",
    "yt = x1t + x2t + x3t + np.random.normal(size=nt)\n",
    "Xt = np.stack((x1t, x2t, x3t), axis=1)\n",
    "print(\"condition number of validation X\", np.linalg.cond(X))"
   ]
  },
  {
   "cell_type": "markdown",
   "metadata": {
    "ein.tags": "worksheet-0",
    "slideshow": {
     "slide_type": "-"
    }
   },
   "source": [
    "## ... and test"
   ]
  },
  {
   "cell_type": "code",
   "execution_count": 26,
   "metadata": {
    "autoscroll": false,
    "ein.tags": "worksheet-0",
    "slideshow": {
     "slide_type": "-"
    }
   },
   "outputs": [
    {
     "name": "stdout",
     "output_type": "stream",
     "text": [
      "lm: 0.24716655518618735\n",
      "ridge: 0.25744655753278095\n",
      "lasso: 0.26649255952927864\n"
     ]
    }
   ],
   "source": [
    "yhat = m.predict(Xt)\n",
    "rmse = np.sqrt(np.mean(yt - yhat)**2)\n",
    "print(\"lm:\", rmse)\n",
    "yhatr = mr.predict(Xt)\n",
    "rmser = np.sqrt(np.mean(yt - yhatr)**2)\n",
    "print(\"ridge:\", rmser)\n",
    "yhatl = ml.predict(Xt)\n",
    "rmsel = np.sqrt(np.mean(yt - yhatl)**2)\n",
    "print(\"lasso:\", rmsel)\n"
   ]
  },
  {
   "cell_type": "markdown",
   "metadata": {
    "ein.tags": "worksheet-0",
    "slideshow": {
     "slide_type": "-"
    }
   },
   "source": [
    "## Exercise:\n",
    "\n",
    "1. compute the rmse-s at different lambda values.  Use a wide range of lambdas, say b/w 1e-6 to 1e6.\n",
    "\n",
    "2. make a plot where you show how rmse depends on $\\lambda$.  Note: use log scale for lambda\n",
    "\n",
    "3. make another plot where you show how coefficients depend on $\\lambda$\n"
   ]
  },
  {
   "cell_type": "markdown",
   "metadata": {},
   "source": [
    "## Use real data\n",
    "\n",
    "We read Boston data, but as that contains only 13 variables and causes little overfitting.  We add more variables and cut down the number of observations by taking a sample."
   ]
  },
  {
   "cell_type": "markdown",
   "metadata": {},
   "source": [
    "### First, work with unmodified Boston data"
   ]
  },
  {
   "cell_type": "code",
   "execution_count": 27,
   "metadata": {},
   "outputs": [
    {
     "name": "stdout",
     "output_type": "stream",
     "text": [
      "/home/otoomet/tyyq/teaching/imt574/demo\n",
      "(506, 14)\n",
      "         crim    zn  indus  chas    nox     rm    age     dis  rad  tax  \\\n",
      "402   9.59571   0.0  18.10     0  0.693  6.404  100.0  1.6390   24  666   \n",
      "268   0.54050  20.0   3.97     0  0.575  7.470   52.6  2.8720    5  264   \n",
      "495   0.17899   0.0   9.69     0  0.585  5.670   28.8  2.7986    6  391   \n",
      "411  14.05070   0.0  18.10     0  0.597  6.657  100.0  1.5275   24  666   \n",
      "\n",
      "     ptratio   black  lstat  medv  \n",
      "402     20.2  376.11  20.31  12.1  \n",
      "268     13.0  390.30   3.16  43.5  \n",
      "495     19.2  393.29  17.60  23.1  \n",
      "411     20.2   35.05  21.22  17.2  \n",
      "Condition number of X 8497.93630384575\n"
     ]
    }
   ],
   "source": [
    "# Where are we?\n",
    "print(os.getcwd())\n",
    "boston = pd.read_csv(\"../data/boston.csv.bz2\", sep=\"\\t\")\n",
    "print(boston.shape)\n",
    "print(boston.sample(4))  # just a sanity check\n",
    "X = boston.drop('medv', axis=1).values\n",
    "y = boston.medv.values\n",
    "print(\"Condition number of X\", np.linalg.cond(X))"
   ]
  },
  {
   "cell_type": "markdown",
   "metadata": {},
   "source": [
    "Now just do test-train split and see if we have any overfitting"
   ]
  },
  {
   "cell_type": "code",
   "execution_count": 28,
   "metadata": {},
   "outputs": [
    {
     "name": "stdout",
     "output_type": "stream",
     "text": [
      "RMSE on training = 4.74495011289205\n",
      "RMSE on validation = 4.688500246683337\n"
     ]
    },
    {
     "data": {
      "text/plain": [
       "Text(0, 0.5, 'predicted MEDV')"
      ]
     },
     "execution_count": 28,
     "metadata": {},
     "output_type": "execute_result"
    },
    {
     "data": {
      "image/png": "[encoded data removed]",
      "text/plain": [
       "<Figure size 432x288 with 1 Axes>"
      ]
     },
     "metadata": {
      "needs_background": "light"
     },
     "output_type": "display_data"
    }
   ],
   "source": [
    "Xtrain, Xvalid, ytrain, yvalid = train_test_split(X, y)\n",
    "m = LinearRegression().fit(Xtrain, ytrain)\n",
    "## RMSE on training\n",
    "yhat = m.predict(Xtrain)\n",
    "rmse = np.sqrt(np.mean((ytrain - yhat)**2))\n",
    "print(\"RMSE on training =\", rmse)\n",
    "## RMSE on validation\n",
    "yhat  = m.predict(Xvalid)\n",
    "rmse = np.sqrt(np.mean((yvalid - yhat)**2))\n",
    "print(\"RMSE on validation =\", rmse)\n",
    "# not overfitting, pretty good result :-)\n",
    "plt.scatter(yvalid, yhat, edgecolor='k')\n",
    "plt.xlabel('true MEDV')\n",
    "plt.ylabel('predicted MEDV')"
   ]
  },
  {
   "cell_type": "markdown",
   "metadata": {},
   "source": [
    "As one can see, OLS works well and we don't see overfitting here.  The sample size is large enough (506) and we don't have many features (13)"
   ]
  },
  {
   "cell_type": "markdown",
   "metadata": {},
   "source": [
    "### Next, add more collinear features\n",
    "\n",
    "Create a large number of somewhat collinear features.  Check condition number to see how troublesome is the result"
   ]
  },
  {
   "cell_type": "code",
   "execution_count": 46,
   "metadata": {},
   "outputs": [
    {
     "name": "stdout",
     "output_type": "stream",
     "text": [
      "Condition number of X 2.953447096635867e+23\n",
      "         crim    zn  indus  chas    nox     rm   age     dis  rad  tax  ...  \\\n",
      "345   0.03113   0.0   4.39     0  0.442  6.014  48.5  8.0136    3  352  ...   \n",
      "44    0.12269   0.0   6.91     0  0.448  6.069  40.0  5.7209    3  233  ...   \n",
      "403  24.80170   0.0  18.10     0  0.693  5.349  96.0  1.7028   24  666  ...   \n",
      "98    0.08187   0.0   2.89     0  0.445  7.820  36.9  3.4952    2  276  ...   \n",
      "343   0.02543  55.0   3.78     0  0.484  6.696  56.4  5.7321    5  370  ...   \n",
      "\n",
      "           zn         zn     indus        indus          indus           0  \\\n",
      "345       0.0        0.0   19.2721    84.604519     371.413838    0.136661   \n",
      "44        0.0        0.0   47.7481   329.939371    2279.881054    0.847788   \n",
      "403       0.0        0.0  327.6100  5929.741000  107328.312100  448.910770   \n",
      "98        0.0        0.0    8.3521    24.137569      69.757574    0.236604   \n",
      "343  166375.0  9150625.0   14.2884    54.010152     204.158375    0.096125   \n",
      "\n",
      "           1    2         3            4  \n",
      "345  0.00000  0.0  291.6790  14146.43150  \n",
      "44   0.00000  0.0  242.7600   9710.40000  \n",
      "403  0.00000  0.0  513.5040  49296.38400  \n",
      "98   0.00000  0.0  288.5580  10647.79020  \n",
      "343  1.39865  0.0  377.6544  21299.70816  \n",
      "\n",
      "[5 rows x 31 columns]\n",
      "dim of extended Boston data (100, 31)\n"
     ]
    }
   ],
   "source": [
    "boston1 = pd.concat((\n",
    "boston, boston.rm**2, boston.rm**3, boston.rm**4, boston.rm**5, boston.rm**6,\n",
    "boston.crim**2, boston.crim**2, boston.zn**3, boston.zn**4,\n",
    "boston.indus**2, boston.indus**3, boston.indus**4,\n",
    "boston.crim*boston.indus, boston.crim*boston.zn, boston.crim*boston.chas,\n",
    "boston.rm*boston.age, boston.rm*boston.age**2), axis=1)\n",
    "boston1 = boston1.sample(100)\n",
    "X = boston1.drop('medv', axis=1).values\n",
    "y = boston1.medv.values\n",
    "print(\"Condition number of X\", np.linalg.cond(X))\n",
    "print(boston1.head())\n",
    "print(\"dim of extended Boston data\", boston1.shape)\n"
   ]
  },
  {
   "cell_type": "markdown",
   "metadata": {},
   "source": [
    "Now the condition number is enourmous and the formula may fail.  But when it works, you may see enormous effects.\n",
    "\n",
    "However, sklearn implements a more robust algorithm that overfits substantially less than the standard linear regression."
   ]
  },
  {
   "cell_type": "code",
   "execution_count": 47,
   "metadata": {},
   "outputs": [
    {
     "name": "stdout",
     "output_type": "stream",
     "text": [
      "Pure linear regression coefficients:\n",
      " [ 5.44882024e+10  9.92314436e+07 -2.11120077e+09 -9.88349116e+10\n",
      " -2.71476147e+12  1.72377119e+14  4.37416963e+07 -9.74854760e+10\n",
      " -9.83977183e+09  8.54730357e+08 -1.02767675e+11  2.34520522e+08\n",
      "  3.67043906e+09 -1.50797703e+14  5.21182103e+13 -8.86823545e+12\n",
      "  7.43437980e+11 -2.45925352e+10  7.86899559e+12 -7.87075201e+12\n",
      "  2.87921988e-06 -4.49577352e-08  4.78328697e-01 -2.48086580e-02\n",
      "  4.13350686e-04  1.01872871e-01  2.68395406e-01 -7.69326024e+00\n",
      " -5.33997716e-02  1.50671644e-04]\n",
      "sklearn estimated coefficients:\n",
      " [ 3.15025725e-01  5.19003833e-02 -2.20268843e+00  4.70464543e+00\n",
      " -1.39666640e+01 -2.08327932e+04 -2.72276234e-02 -8.28264677e-01\n",
      "  6.60827967e-01 -1.96344476e-02 -5.86796590e-01 -3.75598507e-04\n",
      " -7.06639229e-01  9.89801939e+03 -2.46080599e+03  3.38089505e+02\n",
      " -2.43765176e+01  7.21718629e-01  2.05419514e-02  2.05450560e-02\n",
      " -1.76050618e-05  2.19767650e-07  3.44426160e-01 -1.78512605e-02\n",
      "  2.96243981e-04 -1.05777305e-01  1.28376921e-01 -1.53376720e+01\n",
      " -3.76132157e-03  9.67903744e-05]\n",
      "RMSE = 47.24485566037227\n"
     ]
    },
    {
     "data": {
      "text/plain": [
       "Text(0, 0.5, 'predicted MEDV')"
      ]
     },
     "execution_count": 47,
     "metadata": {},
     "output_type": "execute_result"
    },
    {
     "data": {
      "image/png": "[encoded data removed]",
      "text/plain": [
       "<Figure size 432x288 with 1 Axes>"
      ]
     },
     "metadata": {
      "needs_background": "light"
     },
     "output_type": "display_data"
    }
   ],
   "source": [
    "Xtrain, Xvalid, ytrain, yvalid = train_test_split(X, y)\n",
    "## try linear regression formula\n",
    "beta = np.linalg.inv(Xtrain.T @ Xtrain) @ Xtrain.T @ ytrain\n",
    "print(\"Pure linear regression coefficients:\\n\", beta)\n",
    "## \n",
    "m = LinearRegression().fit(Xtrain, ytrain)\n",
    "print(\"sklearn estimated coefficients:\\n\", m.coef_)\n",
    "yhat  = m.predict(Xvalid)\n",
    "rmse = np.sqrt(np.mean((yvalid - yhat)**2))\n",
    "print(\"RMSE =\", rmse)\n",
    "# not overfitting, pretty good result :-)\n",
    "plt.scatter(yvalid, yhat, edgecolor='k')\n",
    "plt.xlabel('true MEDV')\n",
    "plt.ylabel('predicted MEDV')"
   ]
  },
  {
   "cell_type": "markdown",
   "metadata": {},
   "source": [
    "### Use Ridge, Lasso\n",
    "\n",
    "Ridge and lasso are designed for such cases and avoid overfitting (if the penalty parameter $\\lambda$ (called `alpha` for Ridge() and Lasso()) is large enough."
   ]
  },
  {
   "cell_type": "code",
   "execution_count": 50,
   "metadata": {},
   "outputs": [
    {
     "name": "stdout",
     "output_type": "stream",
     "text": [
      "RMSE = 4.0096201976812775\n"
     ]
    },
    {
     "data": {
      "text/plain": [
       "Text(0, 0.5, 'predicted MEDV')"
      ]
     },
     "execution_count": 50,
     "metadata": {},
     "output_type": "execute_result"
    },
    {
     "data": {
      "image/png": "[encoded data removed]",
      "text/plain": [
       "<Figure size 432x288 with 1 Axes>"
      ]
     },
     "metadata": {
      "needs_background": "light"
     },
     "output_type": "display_data"
    }
   ],
   "source": [
    "alpha=10000\n",
    "m = Ridge(alpha=alpha).fit(Xtrain, ytrain)\n",
    "yhat  = m.predict(Xvalid)\n",
    "rmse = np.sqrt(np.mean((yvalid - yhat)**2))\n",
    "print(\"RMSE =\", rmse)\n",
    "# not overfitting, pretty good result :-)\n",
    "plt.scatter(yvalid, yhat, edgecolor='k')\n",
    "plt.xlabel('true MEDV')\n",
    "plt.ylabel('predicted MEDV')"
   ]
  },
  {
   "cell_type": "code",
   "execution_count": 1,
   "metadata": {},
   "outputs": [
    {
     "ename": "NameError",
     "evalue": "name 'Lasso' is not defined",
     "output_type": "error",
     "traceback": [
      "\u001b[0;31m---------------------------------------------------------------------------\u001b[0m",
      "\u001b[0;31mNameError\u001b[0m                                 Traceback (most recent call last)",
      "\u001b[0;32m<ipython-input-1-a8ed6c25acea>\u001b[0m in \u001b[0;36m<module>\u001b[0;34m\u001b[0m\n\u001b[1;32m      1\u001b[0m \u001b[0malpha\u001b[0m\u001b[0;34m=\u001b[0m\u001b[0;36m2000\u001b[0m\u001b[0;34m\u001b[0m\u001b[0;34m\u001b[0m\u001b[0m\n\u001b[0;32m----> 2\u001b[0;31m \u001b[0mm\u001b[0m \u001b[0;34m=\u001b[0m \u001b[0mLasso\u001b[0m\u001b[0;34m(\u001b[0m\u001b[0malpha\u001b[0m\u001b[0;34m=\u001b[0m\u001b[0malpha\u001b[0m\u001b[0;34m)\u001b[0m\u001b[0;34m.\u001b[0m\u001b[0mfit\u001b[0m\u001b[0;34m(\u001b[0m\u001b[0mX_train\u001b[0m\u001b[0;34m,\u001b[0m \u001b[0my_train\u001b[0m\u001b[0;34m)\u001b[0m\u001b[0;34m\u001b[0m\u001b[0;34m\u001b[0m\u001b[0m\n\u001b[0m\u001b[1;32m      3\u001b[0m \u001b[0myhat\u001b[0m  \u001b[0;34m=\u001b[0m \u001b[0mm\u001b[0m\u001b[0;34m.\u001b[0m\u001b[0mpredict\u001b[0m\u001b[0;34m(\u001b[0m\u001b[0mXvalid\u001b[0m\u001b[0;34m)\u001b[0m\u001b[0;34m\u001b[0m\u001b[0;34m\u001b[0m\u001b[0m\n\u001b[1;32m      4\u001b[0m \u001b[0mrmse\u001b[0m \u001b[0;34m=\u001b[0m \u001b[0mnp\u001b[0m\u001b[0;34m.\u001b[0m\u001b[0msqrt\u001b[0m\u001b[0;34m(\u001b[0m\u001b[0mnp\u001b[0m\u001b[0;34m.\u001b[0m\u001b[0mmean\u001b[0m\u001b[0;34m(\u001b[0m\u001b[0;34m(\u001b[0m\u001b[0myvalid\u001b[0m \u001b[0;34m-\u001b[0m \u001b[0myhat\u001b[0m\u001b[0;34m)\u001b[0m\u001b[0;34m**\u001b[0m\u001b[0;36m2\u001b[0m\u001b[0;34m)\u001b[0m\u001b[0;34m)\u001b[0m\u001b[0;34m\u001b[0m\u001b[0;34m\u001b[0m\u001b[0m\n\u001b[1;32m      5\u001b[0m \u001b[0mprint\u001b[0m\u001b[0;34m(\u001b[0m\u001b[0;34m\"RMSE =\"\u001b[0m\u001b[0;34m,\u001b[0m \u001b[0mrmse\u001b[0m\u001b[0;34m)\u001b[0m\u001b[0;34m\u001b[0m\u001b[0;34m\u001b[0m\u001b[0m\n",
      "\u001b[0;31mNameError\u001b[0m: name 'Lasso' is not defined"
     ]
    }
   ],
   "source": [
    "alpha=2000\n",
    "m = Lasso(alpha=alpha).fit(Xtrain, ytrain)\n",
    "yhat  = m.predict(Xvalid)\n",
    "rmse = np.sqrt(np.mean((yvalid - yhat)**2))\n",
    "print(\"RMSE =\", rmse)\n",
    "# not overfitting, pretty good result :-)\n",
    "plt.scatter(yvalid, yhat, edgecolor='k')\n",
    "plt.xlabel('true MEDV')\n",
    "plt.ylabel('predicted MEDV')"
   ]
  },
  {
   "cell_type": "markdown",
   "metadata": {},
   "source": [
    "## Exercise\n",
    "\n",
    "* Start with small alpha (0) and increase it to a large number (1e+9 or so).\n",
    "* Run both Ridge and Lasso regressions.\n",
    "* At each step record RMSE, the corresponding coefficients.\n",
    "* make a plot that shows how RMSE depends on $\\lambda$.\n",
    "* make another plot of where the coefficient value depends on alpha (see James et al, Figure 6.4 and 6.6)\n",
    "\n",
    "Hint: use `model.coef_` to extract coefficients from the fitted model.\n",
    "You can compute RMSE in the same way as done in the example."
   ]
  },
  {
   "cell_type": "code",
   "execution_count": null,
   "metadata": {},
   "outputs": [],
   "source": []
  }
 ],
 "metadata": {
  "kernelspec": {
   "display_name": "Python 3",
   "language": "python",
   "name": "python3"
  },
  "language_info": {
   "codemirror_mode": {
    "name": "ipython",
    "version": 3
   },
   "file_extension": ".py",
   "mimetype": "text/x-python",
   "name": "python",
   "nbconvert_exporter": "python",
   "pygments_lexer": "ipython3",
   "version": "3.7.4"
  },
  "name": "regularization_examples.ipynb"
 },
 "nbformat": 4,
 "nbformat_minor": 2
}
