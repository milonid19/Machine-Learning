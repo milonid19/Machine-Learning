{
 "cells": [
  {
   "cell_type": "markdown",
   "metadata": {
    "ein.tags": "worksheet-0",
    "slideshow": {
     "slide_type": "-"
    }
   },
   "source": [
    "# Problem Set 1\n",
    "\n",
    "### Before You Start\n",
    "\n",
    "For this problem set, you should\n",
    "download flights.csv.bz2 and weather.csv.bz2 datasets from\n",
    "Canvas (files-data).   Rename the notebook to\n",
    "LASTNAME_FIRSTNAME-PS1.ipynb.\n",
    "\n",
    "When done, please submit\n",
    "1. the notebook itself\n",
    "2. the rendered html or pdf of it.\n",
    "\n",
    "Note: you do not have to use notebooks to solve this PS.  However, you have to submit\n",
    "* your code\n",
    "* your results\n",
    "* your explanations\n",
    "whatever means you use to solve this assignment.\n",
    "\n",
    "It is all fine to discuss the problems and way how to solve these with\n",
    "your classmates and instructors.  However, the solutions must be your\n",
    "own.  Don't copy-paste each other solutions!"
   ]
  },
  {
   "cell_type": "markdown",
   "metadata": {
    "ein.tags": "worksheet-0",
    "slideshow": {
     "slide_type": "-"
    }
   },
   "source": [
    "## About the Problem Set: \n",
    "\n",
    "This problem set is rather similar to ones used for R, dplyr, and\n",
    "flights data.  Just we use python and pandas.\n",
    "\n",
    "Your task is to analyze the nycflights13 data (in the R package of the\n",
    "                                               same name).  The\n",
    "                                               necessary csv\n",
    "files are provided on canvas (in files/data).  An easy way to get the\n",
    "explanations is on the the [package page on R documentation](https://www.rdocumentation.org/packages/nycflights13/versions/1.0.0). \n",
    "\n",
    "In this problem set you will perform a basic exploratory analysis on\n",
    "an example dataset, bringing to bear all of your new skills in data\n",
    "manipulation and visualization. You will be required to submit well\n",
    "commented python code, documenting all code used in this problem set,\n",
    "along with a write up answering all questions below. Use figures as\n",
    "appropriate to support your answers, and when required by the problem.\n",
    "\n",
    "Always comment your results, preferably in a separate markdown cell.\n"
   ]
  },
  {
   "cell_type": "markdown",
   "metadata": {
    "ein.tags": "worksheet-0",
    "slideshow": {
     "slide_type": "-"
    }
   },
   "source": [
    "## Preliminaries\n",
    "\n",
    "You should also make sure the following libraries load correctly.\n",
    "Below are a few basic data description tasks already done for you. "
   ]
  },
  {
   "cell_type": "code",
   "execution_count": 1,
   "metadata": {
    "autoscroll": false,
    "ein.tags": "worksheet-0",
    "slideshow": {
     "slide_type": "-"
    }
   },
   "outputs": [
    {
     "name": "stdout",
     "output_type": "stream",
     "text": [
      "IPython version:       7.8.0 (need at least 1.0)\n",
      "Numpy version:        1.17.2 (need at least 1.7.1)\n",
      "SciPy version:         1.3.1 (need at least 0.12.0)\n",
      "Pandas version:       0.25.1 (need at least 0.11.0)\n",
      "Mapltolib version:     3.1.1 (need at least 1.2.1)\n",
      "Scikit-Learn version: 0.21.3 (need at least 0.13.1)\n"
     ]
    }
   ],
   "source": [
    "#IPython is what you are using now to run the notebook\n",
    "import IPython\n",
    "print( \"IPython version:      %6.6s (need at least 1.0)\" % IPython.__version__)\n",
    "\n",
    "# Numpy is a library for working with arrays and matrices\n",
    "import numpy as np\n",
    "print( \"Numpy version:        %6.6s (need at least 1.7.1)\" % np.__version__)\n",
    "\n",
    "# SciPy implements many different numerical algorithms\n",
    "import scipy as sp\n",
    "print( \"SciPy version:        %6.6s (need at least 0.12.0)\" % sp.__version__)\n",
    "\n",
    "# Pandas makes working with data tables easier\n",
    "import pandas as pd\n",
    "print( \"Pandas version:       %6.6s (need at least 0.11.0)\" % pd.__version__)\n",
    "\n",
    "# Module for plotting\n",
    "import matplotlib.pyplot as plt  \n",
    "from pylab import *\n",
    "print( \"Mapltolib version:    %6.6s (need at least 1.2.1)\" %\n",
    "       matplotlib.__version__)\n",
    "%matplotlib inline\n",
    "# necessary for in-line graphics\n",
    "\n",
    "# SciKit Learn implements several Machine Learning algorithms\n",
    "import sklearn\n",
    "print( \"Scikit-Learn version: %6.6s (need at least 0.13.1)\" %\n",
    "       sklearn.__version__)\n",
    "import os\n",
    "# for certain system-related functions"
   ]
  },
  {
   "cell_type": "code",
   "execution_count": 7,
   "metadata": {
    "autoscroll": false,
    "ein.tags": "worksheet-0",
    "slideshow": {
     "slide_type": "-"
    }
   },
   "outputs": [
    {
     "name": "stdout",
     "output_type": "stream",
     "text": [
      "/Users/iguest/Desktop/IMT 574\n"
     ]
    }
   ],
   "source": [
    "## Let's read the data and print some summary information\n",
    "## adjust the path for your file system!\n",
    "## you can find the path like this:\n",
    "path = os.getcwd()\n",
    "print(path)\n",
    "flights_df= pd.read_csv('~/Downloads/flights.csv.bz2')"
   ]
  },
  {
   "cell_type": "code",
   "execution_count": 8,
   "metadata": {
    "autoscroll": false,
    "ein.tags": "worksheet-0",
    "slideshow": {
     "slide_type": "-"
    }
   },
   "outputs": [
    {
     "name": "stdout",
     "output_type": "stream",
     "text": [
      "(336776, 17)\n",
      "Index(['Unnamed: 0', 'year', 'month', 'day', 'dep_time', 'dep_delay',\n",
      "       'arr_time', 'arr_delay', 'carrier', 'tailnum', 'flight', 'origin',\n",
      "       'dest', 'air_time', 'distance', 'hour', 'minute'],\n",
      "      dtype='object')\n",
      "Unnamed: 0      int64\n",
      "year            int64\n",
      "month           int64\n",
      "day             int64\n",
      "dep_time      float64\n",
      "dep_delay     float64\n",
      "arr_time      float64\n",
      "arr_delay     float64\n",
      "carrier        object\n",
      "tailnum        object\n",
      "flight          int64\n",
      "origin         object\n",
      "dest           object\n",
      "air_time      float64\n",
      "distance        int64\n",
      "hour          float64\n",
      "minute        float64\n",
      "dtype: object\n"
     ]
    }
   ],
   "source": [
    "## Extract some basic information about the data like number of rows,\n",
    "## columns, column names, data types\n",
    "print(flights_df.shape)\n",
    "print(flights_df.columns)\n",
    "print(flights_df.dtypes)"
   ]
  },
  {
   "cell_type": "code",
   "execution_count": 9,
   "metadata": {
    "autoscroll": false,
    "ein.tags": "worksheet-0",
    "slideshow": {
     "slide_type": "-"
    }
   },
   "outputs": [
    {
     "name": "stdout",
     "output_type": "stream",
     "text": [
      "head\n",
      "    Unnamed: 0  year  month  day  dep_time  dep_delay  arr_time  arr_delay  \\\n",
      "0           1  2013      1    1     517.0        2.0     830.0       11.0   \n",
      "1           2  2013      1    1     533.0        4.0     850.0       20.0   \n",
      "2           3  2013      1    1     542.0        2.0     923.0       33.0   \n",
      "3           4  2013      1    1     544.0       -1.0    1004.0      -18.0   \n",
      "4           5  2013      1    1     554.0       -6.0     812.0      -25.0   \n",
      "\n",
      "  carrier tailnum  flight origin dest  air_time  distance  hour  minute  \n",
      "0      UA  N14228    1545    EWR  IAH     227.0      1400   5.0    17.0  \n",
      "1      UA  N24211    1714    LGA  IAH     227.0      1416   5.0    33.0  \n",
      "2      AA  N619AA    1141    JFK  MIA     160.0      1089   5.0    42.0  \n",
      "3      B6  N804JB     725    JFK  BQN     183.0      1576   5.0    44.0  \n",
      "4      DL  N668DN     461    LGA  ATL     116.0       762   5.0    54.0  \n",
      "tail\n",
      "         Unnamed: 0  year  month  day  dep_time  dep_delay  arr_time  \\\n",
      "336771      336772  2013      9   30       NaN        NaN       NaN   \n",
      "336772      336773  2013      9   30       NaN        NaN       NaN   \n",
      "336773      336774  2013      9   30       NaN        NaN       NaN   \n",
      "336774      336775  2013      9   30       NaN        NaN       NaN   \n",
      "336775      336776  2013      9   30       NaN        NaN       NaN   \n",
      "\n",
      "        arr_delay carrier tailnum  flight origin dest  air_time  distance  \\\n",
      "336771        NaN      9E     NaN    3393    JFK  DCA       NaN       213   \n",
      "336772        NaN      9E     NaN    3525    LGA  SYR       NaN       198   \n",
      "336773        NaN      MQ  N535MQ    3461    LGA  BNA       NaN       764   \n",
      "336774        NaN      MQ  N511MQ    3572    LGA  CLE       NaN       419   \n",
      "336775        NaN      MQ  N839MQ    3531    LGA  RDU       NaN       431   \n",
      "\n",
      "        hour  minute  \n",
      "336771   NaN     NaN  \n",
      "336772   NaN     NaN  \n",
      "336773   NaN     NaN  \n",
      "336774   NaN     NaN  \n",
      "336775   NaN     NaN  \n",
      "destinations:\n",
      " ['IAH' 'MIA' 'BQN' 'ATL' 'ORD' 'FLL' 'IAD' 'MCO' 'PBI' 'TPA' 'LAX' 'SFO'\n",
      " 'DFW' 'BOS' 'LAS' 'MSP' 'DTW' 'RSW' 'SJU' 'PHX' 'BWI' 'CLT' 'BUF' 'DEN'\n",
      " 'SNA' 'MSY' 'SLC' 'XNA' 'MKE' 'SEA' 'ROC' 'SYR' 'SRQ' 'RDU' 'CMH' 'JAX'\n",
      " 'CHS' 'MEM' 'PIT' 'SAN' 'DCA' 'CLE' 'STL' 'MYR' 'JAC' 'MDW' 'HNL' 'BNA'\n",
      " 'AUS' 'BTV' 'PHL' 'STT' 'EGE' 'AVL' 'PWM' 'IND' 'SAV' 'CAK' 'HOU' 'LGB'\n",
      " 'DAY' 'ALB' 'BDL' 'MHT' 'MSN' 'GSO' 'CVG' 'BUR' 'RIC' 'GSP' 'GRR' 'MCI'\n",
      " 'ORF' 'SAT' 'SDF' 'PDX' 'SJC' 'OMA' 'CRW' 'OAK' 'SMF' 'TUL' 'TYS' 'OKC'\n",
      " 'PVD' 'DSM' 'PSE' 'BHM' 'CAE' 'HDN' 'BZN' 'MTJ' 'EYW' 'PSP' 'ACK' 'BGR'\n",
      " 'ABQ' 'ILM' 'MVY' 'SBN' 'LEX' 'CHO' 'TVC' 'ANC' 'LGA']\n"
     ]
    }
   ],
   "source": [
    "## print the first and last few lines of the data\n",
    "print(\"head\\n\", flights_df.head())\n",
    "print(\"tail\\n\", flights_df.tail())\n",
    "## Find the number of unique destinations in the data ('dest')\n",
    "print(\"destinations:\\n\", flights_df.dest.unique())\n"
   ]
  },
  {
   "cell_type": "markdown",
   "metadata": {
    "ein.tags": "worksheet-0",
    "slideshow": {
     "slide_type": "-"
    }
   },
   "source": [
    "## Some Tips\n",
    "\n",
    "* This assignment involves extensive Data frame splitting and\n",
    "  aggregation. You should look into the details of the methods\n",
    "  groupby, transform, sum, count, mean etc \n",
    "* Many of the tasks in the assignment can be done either through the\n",
    "  Pandas Data Frame or by converting the data frames to Series. Many\n",
    "  of the methods in the numpy are applicable to Series only. When\n",
    "  stuck, try to explore the type of object (Pandas Data Frame or Numpy\n",
    "  Series) you are dealing with. "
   ]
  },
  {
   "cell_type": "markdown",
   "metadata": {
    "ein.tags": "worksheet-0",
    "slideshow": {
     "slide_type": "-"
    }
   },
   "source": [
    "## Question 1\n",
    "\n",
    "Let’s explore flights from NYC to LA. Use the flights dataset to answer the following questions.\n",
    "\n",
    "### (a)\n",
    "\n",
    "How many flights were there from NYC airports to Los Angeles International Airport (LAX) in 2013?"
   ]
  },
  {
   "cell_type": "code",
   "execution_count": 13,
   "metadata": {
    "autoscroll": false,
    "ein.tags": "worksheet-0",
    "slideshow": {
     "slide_type": "-"
    }
   },
   "outputs": [
    {
     "name": "stdout",
     "output_type": "stream",
     "text": [
      "Number of flights from NYC to LAX is 16174\n"
     ]
    }
   ],
   "source": [
    "# Your code here\n",
    "print('Number of flights from NYC to LAX is' ,len(flights_df[flights_df.dest =='LAX']))"
   ]
  },
  {
   "cell_type": "markdown",
   "metadata": {
    "ein.tags": "worksheet-0",
    "slideshow": {
     "slide_type": "-"
    }
   },
   "source": [
    "### (b)\n",
    "\n",
    "Which airline ('carrier') has the most flights from NYC to LAX? Which one has the least number of flights? Report the numbers respectively. "
   ]
  },
  {
   "cell_type": "code",
   "execution_count": 18,
   "metadata": {
    "autoscroll": false,
    "ein.tags": "worksheet-0",
    "slideshow": {
     "slide_type": "-"
    }
   },
   "outputs": [
    {
     "name": "stdout",
     "output_type": "stream",
     "text": [
      "The carrier that has the max number of flights is United Airlines with 5823 flights from NYC to LAX\n",
      "The carrier that has the least number of flights is Jet Blue 1688 flights from NYC to LAX\n"
     ]
    }
   ],
   "source": [
    "# Your code here\n",
    "# Check number of flights for each airline\n",
    "LAX = flights_df[flights_df.dest =='LAX']\n",
    "x = LAX['carrier'].value_counts()\n",
    "x\n",
    "print('The carrier that has the max number of flights is United Airlines with',max(x),'flights from NYC to LAX')\n",
    "print('The carrier that has the least number of flights is Jet Blue',min(x),'flights from NYC to LAX')"
   ]
  },
  {
   "cell_type": "markdown",
   "metadata": {
    "ein.tags": "worksheet-0",
    "slideshow": {
     "slide_type": "-"
    }
   },
   "source": [
    "### (c)\n",
    "\n",
    "How many unique air planes fly from NYC to LAX?\n",
    "(Hint: use 'tailnum', essentially the license plate of airplane)"
   ]
  },
  {
   "cell_type": "code",
   "execution_count": 20,
   "metadata": {
    "autoscroll": false,
    "ein.tags": "worksheet-0",
    "slideshow": {
     "slide_type": "-"
    }
   },
   "outputs": [
    {
     "data": {
      "text/plain": [
       "991"
      ]
     },
     "execution_count": 20,
     "metadata": {},
     "output_type": "execute_result"
    }
   ],
   "source": [
    "# Your code here\n",
    "unique_planes = LAX['tailnum'].nunique()\n",
    "unique_planes"
   ]
  },
  {
   "cell_type": "markdown",
   "metadata": {
    "ein.tags": "worksheet-0",
    "slideshow": {
     "slide_type": "-"
    }
   },
   "source": [
    "### (d)\n",
    "\n",
    "What is the average arrival delay for flights from NYC to LAX?"
   ]
  },
  {
   "cell_type": "code",
   "execution_count": 21,
   "metadata": {
    "autoscroll": false,
    "ein.tags": "worksheet-0",
    "slideshow": {
     "slide_type": "-"
    }
   },
   "outputs": [
    {
     "data": {
      "text/plain": [
       "0.5471109447148383"
      ]
     },
     "execution_count": 21,
     "metadata": {},
     "output_type": "execute_result"
    }
   ],
   "source": [
    "# Your code here\n",
    "avg_delay = LAX['arr_delay'].mean()\n",
    "avg_delay"
   ]
  },
  {
   "cell_type": "markdown",
   "metadata": {
    "ein.tags": "worksheet-0",
    "slideshow": {
     "slide_type": "-"
    }
   },
   "source": [
    "### (e)\n",
    "\n",
    "What proportion of flights to LAX come from each NYC airport?"
   ]
  },
  {
   "cell_type": "code",
   "execution_count": 22,
   "metadata": {
    "autoscroll": false,
    "ein.tags": "worksheet-0",
    "slideshow": {
     "slide_type": "-"
    }
   },
   "outputs": [
    {
     "data": {
      "text/plain": [
       "JFK    69.630271\n",
       "EWR    30.369729\n",
       "Name: origin, dtype: float64"
      ]
     },
     "execution_count": 22,
     "metadata": {},
     "output_type": "execute_result"
    }
   ],
   "source": [
    "# Your code here\n",
    "#Group by count of origin and then calculate %\n",
    "proportion = 100*(LAX['origin'].value_counts()/LAX['dest'].count())\n",
    "proportion \n"
   ]
  },
  {
   "cell_type": "markdown",
   "metadata": {
    "ein.tags": "worksheet-0",
    "slideshow": {
     "slide_type": "-"
    }
   },
   "source": [
    "## Question 2\n",
    "\n",
    "Now let's explore the entire NYC flight dataset. Flights are often delayed. Consider the following questions exploring delay patterns.\n",
    "\n",
    "### (a)\n",
    "\n",
    "Which date has the largest average departure delay? Which date has the largest average arrival delay?"
   ]
  },
  {
   "cell_type": "code",
   "execution_count": 31,
   "metadata": {
    "autoscroll": false,
    "ein.tags": "worksheet-0",
    "slideshow": {
     "slide_type": "-"
    }
   },
   "outputs": [
    {
     "name": "stdout",
     "output_type": "stream",
     "text": [
      "The largest avg departure delay was during the 3 rd month (March) on the 8 th day\n",
      "The largest avg arrival delay was during the 3 rd month (March) on the 8 th day\n"
     ]
    }
   ],
   "source": [
    "# Your code here\n",
    "#Group by departure/arrival delay and then find the largest\n",
    "\n",
    "dep_delay = flights_df.groupby(['month','day'])['dep_delay'].mean().idxmax()\n",
    "print('The largest avg departure delay was during the',dep_delay[0],'rd month (March) on the',dep_delay[1],'th day')\n",
    "\n",
    "arr_delay = flights_df.groupby(['month','day'])['arr_delay'].mean().idxmax()\n",
    "print('The largest avg arrival delay was during the',arr_delay[0],'rd month (March) on the',arr_delay[1],'th day')"
   ]
  },
  {
   "cell_type": "markdown",
   "metadata": {
    "ein.tags": "worksheet-0",
    "slideshow": {
     "slide_type": "-"
    }
   },
   "source": [
    "### (b)\n",
    "\n",
    "What was the worst day and the best day to fly out of NYC in 2013\n",
    "if you dislike delayed flights?\n",
    "\n",
    "Note: we ask the largest delay given there was a (positive) delay, we\n",
    "don't care about flights that were in time or early."
   ]
  },
  {
   "cell_type": "code",
   "execution_count": 43,
   "metadata": {
    "autoscroll": false,
    "ein.tags": "worksheet-0",
    "scrolled": true,
    "slideshow": {
     "slide_type": "-"
    }
   },
   "outputs": [
    {
     "name": "stdout",
     "output_type": "stream",
     "text": [
      "(12, 23)\n",
      "(3, 8)\n",
      "(10, 29)\n"
     ]
    }
   ],
   "source": [
    "# Your code here\n",
    "#Worst Days to fly  out of NYC would mean the departure delay:\n",
    "#If we consider any delay greater than 0 minutes\n",
    "print(flights_df[flights_df.dep_delay>0.0].groupby(['month','day'])['dep_delay'].count().idxmax())\n",
    "\n",
    "#If we consider any delay greater than 2 minutes\n",
    "print(flights_df[flights_df.dep_delay>2.0].groupby(['month','day'])['dep_delay'].count().idxmax())\n",
    "\n",
    "#Best day to fly out of NYC will be the one having a departure delay less than 0:\n",
    "print(flights_df[flights_df.dep_delay<0.0].groupby(['month','day'])['dep_delay'].count().idxmax())\n"
   ]
  },
  {
   "cell_type": "markdown",
   "metadata": {
    "ein.tags": "worksheet-0",
    "slideshow": {
     "slide_type": "-"
    }
   },
   "source": [
    "### (c)\n",
    "\n",
    "On average which airline has the lowest departure delay for\n",
    "   their NYC flights in 2013 in this dataset? and which one has the\n",
    "   greatest departure delay?\n",
    "\n",
    "Note: here we want to include both positive and negative delays (early departures)   "
   ]
  },
  {
   "cell_type": "code",
   "execution_count": 49,
   "metadata": {
    "autoscroll": false,
    "ein.tags": "worksheet-0",
    "slideshow": {
     "slide_type": "-"
    }
   },
   "outputs": [
    {
     "name": "stdout",
     "output_type": "stream",
     "text": [
      "The airline with the average greatest departure delay is F9 Frontier Airlines\n",
      "The airline with the average lowest departure delay is US US Airways\n"
     ]
    }
   ],
   "source": [
    "# Your code here\n",
    "airline_max_dep_delay = flights_df.groupby(['carrier'])['dep_delay'].mean().idxmax()\n",
    "print('The airline with the average greatest departure delay is',airline_max_dep_delay,'Frontier Airlines')\n",
    "\n",
    "airline_min_dep_delay = flights_df.groupby(['carrier'])['dep_delay'].mean().idxmin()\n",
    "print('The airline with the average lowest departure delay is',airline_min_dep_delay,'US Airways')\n"
   ]
  },
  {
   "cell_type": "markdown",
   "metadata": {
    "ein.tags": "worksheet-0",
    "slideshow": {
     "slide_type": "-"
    }
   },
   "source": [
    "### (d)\n",
    "\n",
    "Are there any seasonal patterns in departure delays for flights from NYC?"
   ]
  },
  {
   "cell_type": "code",
   "execution_count": 53,
   "metadata": {
    "autoscroll": false,
    "ein.tags": "worksheet-0",
    "slideshow": {
     "slide_type": "-"
    }
   },
   "outputs": [
    {
     "name": "stdout",
     "output_type": "stream",
     "text": [
      "winter    10.036665\n",
      "winter    10.816843\n",
      "spring    13.227076\n",
      "spring    13.938038\n",
      "spring    12.986859\n",
      "summer    20.846332\n",
      "summer    21.727787\n",
      "summer    12.611040\n",
      "fall       6.722476\n",
      "fall       6.243988\n",
      "fall       5.435362\n",
      "winter    16.576688\n",
      "Name: dep_delay, dtype: float64\n"
     ]
    },
    {
     "data": {
      "image/png": "[encoded data removed]",
      "text/plain": [
       "<Figure size 432x288 with 1 Axes>"
      ]
     },
     "metadata": {
      "needs_background": "light"
     },
     "output_type": "display_data"
    },
    {
     "name": "stdout",
     "output_type": "stream",
     "text": [
      "Thus we can see that seasonally speaking,Summer sees the longest departure delay of 18 minutes on an average.While Fall experiences the shortest delay of about 6 minutes on an average.\n",
      "When the pattern is obeserved monthly seems to be an increase in delays in the months of June,July and December which coincide with the start of summer, Independence Day and Christmas respectively. Due to it being festive season, there are more flights and that might be an explanation for the increased delays. Also December experiences harsh weather conditions that contribute to the delays.\n"
     ]
    }
   ],
   "source": [
    "# Your code here\n",
    "#groupby months and their respective seasons\n",
    "monthly_delay = flights_df.groupby(\"month\").dep_delay.mean()\n",
    "index = ['winter', 'winter','spring', 'spring', 'spring', 'summer', 'summer', 'summer', 'fall', 'fall','fall', 'winter']\n",
    "#assigning seasons to months\n",
    "monthly_delay.index = (index)\n",
    "print(monthly_delay)\n",
    "#graph\n",
    "monthly_delay.plot()\n",
    "plt.show()\n",
    "\n",
    "print('Thus we can see that seasonally speaking,Summer sees the longest departure delay of 18 minutes on an average.While Fall experiences the shortest delay of about 6 minutes on an average.')\n",
    "\n",
    "print('When the pattern is obeserved monthly seems to be an increase in delays in the months of June,July and December which coincide with the start of summer, Independence Day and Christmas respectively. Due to it being festive season, there are more flights and that might be an explanation for the increased delays. Also December experiences harsh weather conditions that contribute to the delays.')\n"
   ]
  },
  {
   "cell_type": "markdown",
   "metadata": {
    "ein.tags": "worksheet-0",
    "slideshow": {
     "slide_type": "-"
    }
   },
   "source": [
    "### (e)\n",
    "\n",
    "On average, how do departure delays vary over the course of a day?"
   ]
  },
  {
   "cell_type": "code",
   "execution_count": 54,
   "metadata": {
    "autoscroll": false,
    "ein.tags": "worksheet-0",
    "slideshow": {
     "slide_type": "-"
    }
   },
   "outputs": [
    {
     "data": {
      "image/png": "[encoded data removed]",
      "text/plain": [
       "<Figure size 432x288 with 1 Axes>"
      ]
     },
     "metadata": {
      "needs_background": "light"
     },
     "output_type": "display_data"
    }
   ],
   "source": [
    "# Your code here\n",
    "#Plot departure delay grouped by hour\n",
    "dep_delay_daily = flights_df.groupby(['hour'])['dep_delay'].mean()\n",
    "plt.plot(dep_delay_daily)\n",
    "plt.grid()\n",
    "plt.show()\n",
    "\n",
    "print('It is seen that departure delay increases rapidly from 12 to 4 AM where its the highest. Then afterwarads flights from 4 to 6 AM seem to be leaving early or on time. And after that there is a steady increase in the departure delay, with a slight jump at 11 PM.')"
   ]
  },
  {
   "cell_type": "markdown",
   "metadata": {
    "ein.tags": "worksheet-0",
    "slideshow": {
     "slide_type": "-"
    }
   },
   "source": [
    "## Question 3\n",
    "\n",
    "Which flight departing NYC in 2013 flew the slowest?\n",
    "\n",
    "Note: compute the speed as distance/time."
   ]
  },
  {
   "cell_type": "code",
   "execution_count": 62,
   "metadata": {
    "autoscroll": false,
    "ein.tags": "worksheet-0",
    "slideshow": {
     "slide_type": "-"
    }
   },
   "outputs": [
    {
     "name": "stdout",
     "output_type": "stream",
     "text": [
      "        Unnamed: 0  year  month  day  dep_time  dep_delay  arr_time  \\\n",
      "24098        24099  2013      1   28    1917.0       52.0    2118.0   \n",
      "248839      248840  2013      6   29     755.0       -5.0    1035.0   \n",
      "305879      305880  2013      8   28     932.0       -8.0    1116.0   \n",
      "25455        25456  2013      1   30    1037.0       42.0    1221.0   \n",
      "80009        80010  2013     11   27     556.0       -4.0     727.0   \n",
      "\n",
      "        arr_delay carrier tailnum  flight origin dest  air_time  distance  \\\n",
      "24098       103.0      US  N755US    1860    LGA  PHL      75.0        96   \n",
      "248839       86.0      B6  N328JB    1491    JFK  ACK     141.0       199   \n",
      "305879       25.0      9E  N8932C    3608    JFK  PHL      61.0        94   \n",
      "25455        81.0      9E  N832AY    3667    JFK  PHL      59.0        94   \n",
      "80009        29.0      US  N951UW    1909    LGA  PHL      60.0        96   \n",
      "\n",
      "        hour  minute      speed  \n",
      "24098   19.0    17.0  76.800000  \n",
      "248839   7.0    55.0  84.680851  \n",
      "305879   9.0    32.0  92.459016  \n",
      "25455   10.0    37.0  95.593220  \n",
      "80009    5.0    56.0  96.000000  \n",
      "Flight 1860 from (LGA)La Guardia to (PHL) Philadelphia flew the slowest with a speed of 76.8 mph\n"
     ]
    }
   ],
   "source": [
    "# Your code here\n",
    "flights_df['speed']=flights_df['distance']*60/flights_df['air_time']\n",
    "flights_df= flights_df.sort_values(by='speed', ascending=True)\n",
    "print(flights_df.head())\n",
    "print('Flight 1860 from (LGA)La Guardia to (PHL) Philadelphia flew the slowest with a speed of 76.8 mph')"
   ]
  },
  {
   "cell_type": "markdown",
   "metadata": {
    "ein.tags": "worksheet-0",
    "slideshow": {
     "slide_type": "-"
    }
   },
   "source": [
    "## Question 4\n",
    "\n",
    "Which flights (i.e. carrier + flight + dest) happen every day? Where do they fly to?"
   ]
  },
  {
   "cell_type": "code",
   "execution_count": 66,
   "metadata": {
    "autoscroll": false,
    "ein.tags": "worksheet-0",
    "slideshow": {
     "slide_type": "-"
    }
   },
   "outputs": [
    {
     "name": "stdout",
     "output_type": "stream",
     "text": [
      "('AA', 59, 'SFO')\n",
      "('AA', 119, 'LAX')\n",
      "('AA', 181, 'LAX')\n",
      "('AA', 1357, 'SJU')\n",
      "('AA', 1611, 'MIA')\n",
      "('B6', 219, 'CLT')\n",
      "('B6', 359, 'BUR')\n",
      "('B6', 371, 'FLL')\n",
      "('B6', 431, 'SRQ')\n",
      "('B6', 703, 'SJU')\n",
      "('B6', 1783, 'MCO')\n",
      "('DL', 2159, 'MCO')\n",
      "('DL', 2391, 'TPA')\n",
      "('EV', 5712, 'IAD')\n",
      "('UA', 15, 'HNL')\n",
      "('VX', 251, 'LAS')\n",
      "('VX', 407, 'LAX')\n",
      "('VX', 413, 'LAX')\n"
     ]
    }
   ],
   "source": [
    "# Your code here\n",
    "#zgroup by carrier, flight, dest, then print the combinations that have 365 occurances\n",
    "for key, group in flights_df.groupby(['carrier', 'flight', 'dest']):\n",
    "    if len(group) == 365:\n",
    "        print(key)"
   ]
  },
  {
   "cell_type": "code",
   "execution_count": null,
   "metadata": {},
   "outputs": [],
   "source": [
    "#There are 18 flights that run daily.\n",
    "#The 13 unique destinations include: MIA, SJU, LAX, CLT, HNL, BUR, FLL, SRQ, MCO, IAD, LAS, SFO, TPA"
   ]
  },
  {
   "cell_type": "markdown",
   "metadata": {
    "ein.tags": "worksheet-0",
    "slideshow": {
     "slide_type": "-"
    }
   },
   "source": [
    "## Question 5\n",
    "\n",
    "Develop one research question you can address using the nycflights2013\n",
    "dataset. Provide two visualizations to support your exploration of\n",
    "this question. Discuss what you find. \n",
    "\n",
    "Note: we'll using matplotlib for plotting in this course, but you can use something else too."
   ]
  },
  {
   "cell_type": "code",
   "execution_count": 68,
   "metadata": {
    "autoscroll": false,
    "ein.tags": "worksheet-0",
    "slideshow": {
     "slide_type": "-"
    }
   },
   "outputs": [],
   "source": [
    "#QUESTION : Which carriers have performed the best and the worst in terms of both departure and arrival delay?\n",
    "#HOW IS THIS INFORMATION USEFUL?\n",
    "#This helps identify the carriers that are consistently on time as well as delayed.This will help commuters plan their travel.\n",
    "#We look at the we flights that are departing and arriving late. We do not consider those that departed late but arrived on time or before time."
   ]
  },
  {
   "cell_type": "code",
   "execution_count": 72,
   "metadata": {},
   "outputs": [
    {
     "data": {
      "image/png": "[encoded data removed]",
      "text/plain": [
       "<Figure size 432x288 with 1 Axes>"
      ]
     },
     "metadata": {
      "needs_background": "light"
     },
     "output_type": "display_data"
    },
    {
     "data": {
      "image/png": "[encoded data removed]",
      "text/plain": [
       "<Figure size 432x288 with 1 Axes>"
      ]
     },
     "metadata": {
      "needs_background": "light"
     },
     "output_type": "display_data"
    }
   ],
   "source": [
    "#Flights having arr_delay>0 and dep_delay>0\n",
    "df2 = flights_df[(flights_df.arr_delay>0) & (flights_df.dep_delay>0)]  \n",
    "\n",
    "#Grouping by carrier \n",
    "grouped_df2 = df2.groupby([df2.carrier]).size().reset_index(name='Number')\n",
    "grouped_df2\n",
    "\n",
    "#Removing nulls\n",
    "final_df2 = flights_df[np.isfinite(flights_df['dep_time'])] \n",
    "\n",
    "#Grouping by carrier and taking count\n",
    "count = final_df2.groupby([final_df2.carrier]).size().reset_index(name='Total_Number')\n",
    "count\n",
    "\n",
    "#Merging \n",
    "carrier_performance = pd.merge(grouped_df2, count, on=['carrier'])\n",
    "\n",
    "#Calculating Percentage delays\n",
    "carrier_performance['Percentage_Delays'] = (carrier_performance.Number/carrier_performance.Total_Number)*100\n",
    "\n",
    "carrier_performance\n",
    "\n",
    "#Plotting Percent Delay by Carrier through 2013\n",
    "ind = np.arange(len(carrier_performance.carrier))\n",
    "plt.bar(ind, carrier_performance.Percentage_Delays, color=\"red\")\n",
    "plt.ylabel('Delay Percentage')\n",
    "plt.xlabel('Carriers')\n",
    "plt.title('Percent Delay by Carrier through 2013')\n",
    "plt.xticks(ind, carrier_performance.carrier)\n",
    "plt.show()\n",
    "\n",
    "#Grouping by carrier for mean arrival delay\n",
    "df_mean_arr_delay = df2.groupby([df2.carrier])['arr_delay'].mean().reset_index(name='Mean_Arrival_Delay')\n",
    "\n",
    "#Plotting Average Arrival Delay for each Carrier\n",
    "ind = np.arange(len(df_mean_arr_delay.carrier))\n",
    "plt.bar(ind, df_mean_arr_delay.Mean_Arrival_Delay, color=\"blue\")\n",
    "plt.ylabel('Avg. Arrival Delay (minutes)')\n",
    "plt.xlabel('Carriers')\n",
    "plt.title('Average Arrival Delay for each Carrier')\n",
    "plt.xticks(ind, carrier_performance.carrier)\n",
    "plt.show()\n"
   ]
  },
  {
   "cell_type": "code",
   "execution_count": 73,
   "metadata": {},
   "outputs": [],
   "source": [
    "#RESULTS:\n",
    "#Carrier Performance : % of flights delayed in arrival and departure and avg arrival delay for each carrier\n",
    " \n",
    "# The First visualization is of % delay/carrier for 2013 and we see that FL has the highest % delay, thus making it the worst performer.HA has the best performance in terms of delay % (lowest delay %).\n",
    "\n",
    "#Looking at the visualization for avg arrival delay/carrier we see that HA and OO have higher arrival delays while UA and US have the best performance in terms of arrival delay. We consider the avg arrival delay as delay in arrival is more crucial than departure delay which does not guarentee that a delay overall.\n",
    "\n"
   ]
  },
  {
   "cell_type": "markdown",
   "metadata": {
    "ein.tags": "worksheet-0",
    "slideshow": {
     "slide_type": "-"
    }
   },
   "source": [
    "## Question 6\n",
    "\n",
    "What weather conditions are associated with flight delays leaving NYC?  Use graphics to explore.\n",
    "\n",
    "Note: you need to use 'weather.csv' dataset"
   ]
  },
  {
   "cell_type": "code",
   "execution_count": 79,
   "metadata": {
    "autoscroll": false,
    "ein.tags": "worksheet-0",
    "slideshow": {
     "slide_type": "-"
    }
   },
   "outputs": [],
   "source": [
    "weather_df= pd.read_csv('~/Downloads/weather.csv.bz2')\n",
    "\n",
    "#Merge Datasets\n",
    "flights_df['date_time'] = pd.to_datetime(flights_df[['year', 'month', 'day', 'hour']])\n",
    "weather_df['date_time'] = pd.to_datetime(weather_df[['year', 'month', 'day', 'hour']])\n",
    "new_df = flights_df.merge(weather_df,on='date_time')\n",
    "\n"
   ]
  },
  {
   "cell_type": "code",
   "execution_count": 81,
   "metadata": {},
   "outputs": [
    {
     "data": {
      "image/png": "[encoded data removed]",
      "text/plain": [
       "<Figure size 432x288 with 1 Axes>"
      ]
     },
     "metadata": {
      "needs_background": "light"
     },
     "output_type": "display_data"
    }
   ],
   "source": [
    "temp = new_df.groupby(['temp'])['dep_delay'].mean()\n",
    "plt.plot(temp)\n",
    "plt.title('Temperature vs Avg Departure Delay')\n",
    "plt.show()"
   ]
  },
  {
   "cell_type": "code",
   "execution_count": 82,
   "metadata": {},
   "outputs": [
    {
     "data": {
      "image/png": "[encoded data removed]",
      "text/plain": [
       "<Figure size 432x288 with 1 Axes>"
      ]
     },
     "metadata": {
      "needs_background": "light"
     },
     "output_type": "display_data"
    }
   ],
   "source": [
    "temp = new_df.groupby(['humid'])['dep_delay'].mean()\n",
    "plt.plot(temp)\n",
    "plt.title('Humidity vs Avg Departure Delay')\n",
    "plt.show()"
   ]
  },
  {
   "cell_type": "code",
   "execution_count": 83,
   "metadata": {},
   "outputs": [
    {
     "data": {
      "image/png": "[encoded data removed]",
      "text/plain": [
       "<Figure size 432x288 with 1 Axes>"
      ]
     },
     "metadata": {
      "needs_background": "light"
     },
     "output_type": "display_data"
    }
   ],
   "source": [
    "temp = new_df.groupby(['visib'])['dep_delay'].mean()\n",
    "plt.plot(temp)\n",
    "plt.title('Visibility vs Avg Departure Delay')\n",
    "plt.show()"
   ]
  },
  {
   "cell_type": "code",
   "execution_count": null,
   "metadata": {},
   "outputs": [],
   "source": [
    "#We can see that lower visibility increases delays and higher temperature have no on departure delay.\n",
    "\n",
    "#Humidity does not seem to have an effect on delays since the distribution seems to be uniform across the range of values."
   ]
  },
  {
   "cell_type": "markdown",
   "metadata": {},
   "source": [
    "# Grading\n",
    "\n",
    "* Q1: 1pt each question (5 in total)\n",
    "* Q2: a) 2pt, b) 3pt, c) 2pt, d) 2pt, e) 1pt\n",
    "* Q3: 5pt\n",
    "* Q4: 5pt\n",
    "* Q5: 15pt\n",
    "* Q6: 10pt"
   ]
  },
  {
   "cell_type": "code",
   "execution_count": null,
   "metadata": {},
   "outputs": [],
   "source": []
  }
 ],
 "metadata": {
  "kernelspec": {
   "display_name": "Python 3",
   "language": "python",
   "name": "python3"
  },
  "language_info": {
   "codemirror_mode": {
    "name": "ipython",
    "version": 3
   },
   "file_extension": ".py",
   "mimetype": "text/x-python",
   "name": "python",
   "nbconvert_exporter": "python",
   "pygments_lexer": "ipython3",
   "version": "3.7.4"
  },
  "name": "ps01-pandas.ipynb"
 },
 "nbformat": 4,
 "nbformat_minor": 2
}
