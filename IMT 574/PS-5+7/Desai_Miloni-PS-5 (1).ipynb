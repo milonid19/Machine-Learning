{
 "cells": [
  {
   "cell_type": "code",
   "execution_count": 1,
   "metadata": {},
   "outputs": [],
   "source": [
    "import pandas as pd\n",
    "import numpy as np\n",
    "import matplotlib.pyplot as plt\n",
    "\n",
    "from sklearn.model_selection import cross_val_score\n",
    "from sklearn.model_selection import train_test_split\n",
    "from sklearn.metrics import mean_squared_error\n",
    "from sklearn.preprocessing import StandardScaler\n",
    "from sklearn.decomposition import PCA\n",
    "import sklearn.naive_bayes as nb\n",
    "from sklearn import linear_model\n",
    "from sklearn.datasets import load_boston"
   ]
  },
  {
   "cell_type": "code",
   "execution_count": 28,
   "metadata": {},
   "outputs": [
    {
     "data": {
      "text/html": [
       "<div>\n",
       "<style scoped>\n",
       "    .dataframe tbody tr th:only-of-type {\n",
       "        vertical-align: middle;\n",
       "    }\n",
       "\n",
       "    .dataframe tbody tr th {\n",
       "        vertical-align: top;\n",
       "    }\n",
       "\n",
       "    .dataframe thead th {\n",
       "        text-align: right;\n",
       "    }\n",
       "</style>\n",
       "<table border=\"1\" class=\"dataframe\">\n",
       "  <thead>\n",
       "    <tr style=\"text-align: right;\">\n",
       "      <th></th>\n",
       "      <th>critic</th>\n",
       "      <th>fresh</th>\n",
       "      <th>imdb</th>\n",
       "      <th>link</th>\n",
       "      <th>publication</th>\n",
       "      <th>quote</th>\n",
       "      <th>review_date</th>\n",
       "      <th>rtid</th>\n",
       "      <th>title</th>\n",
       "    </tr>\n",
       "  </thead>\n",
       "  <tbody>\n",
       "    <tr>\n",
       "      <td>0</td>\n",
       "      <td>Derek Adams</td>\n",
       "      <td>fresh</td>\n",
       "      <td>114709</td>\n",
       "      <td>http://www.timeout.com/film/reviews/87745/toy-...</td>\n",
       "      <td>Time Out</td>\n",
       "      <td>So ingenious in concept, design and execution ...</td>\n",
       "      <td>2009-10-04 00:00:00</td>\n",
       "      <td>9559</td>\n",
       "      <td>Toy Story</td>\n",
       "    </tr>\n",
       "    <tr>\n",
       "      <td>1</td>\n",
       "      <td>Richard Corliss</td>\n",
       "      <td>fresh</td>\n",
       "      <td>114709</td>\n",
       "      <td>http://www.time.com/time/magazine/article/0,91...</td>\n",
       "      <td>TIME Magazine</td>\n",
       "      <td>The year's most inventive comedy.</td>\n",
       "      <td>2008-08-31 00:00:00</td>\n",
       "      <td>9559</td>\n",
       "      <td>Toy Story</td>\n",
       "    </tr>\n",
       "    <tr>\n",
       "      <td>2</td>\n",
       "      <td>David Ansen</td>\n",
       "      <td>fresh</td>\n",
       "      <td>114709</td>\n",
       "      <td>http://www.newsweek.com/id/104199</td>\n",
       "      <td>Newsweek</td>\n",
       "      <td>A winning animated feature that has something ...</td>\n",
       "      <td>2008-08-18 00:00:00</td>\n",
       "      <td>9559</td>\n",
       "      <td>Toy Story</td>\n",
       "    </tr>\n",
       "    <tr>\n",
       "      <td>3</td>\n",
       "      <td>Leonard Klady</td>\n",
       "      <td>fresh</td>\n",
       "      <td>114709</td>\n",
       "      <td>http://www.variety.com/review/VE1117941294.htm...</td>\n",
       "      <td>Variety</td>\n",
       "      <td>The film sports a provocative and appealing st...</td>\n",
       "      <td>2008-06-09 00:00:00</td>\n",
       "      <td>9559</td>\n",
       "      <td>Toy Story</td>\n",
       "    </tr>\n",
       "    <tr>\n",
       "      <td>4</td>\n",
       "      <td>Jonathan Rosenbaum</td>\n",
       "      <td>fresh</td>\n",
       "      <td>114709</td>\n",
       "      <td>http://onfilm.chicagoreader.com/movies/capsule...</td>\n",
       "      <td>Chicago Reader</td>\n",
       "      <td>An entertaining computer-generated, hyperreali...</td>\n",
       "      <td>2008-03-10 00:00:00</td>\n",
       "      <td>9559</td>\n",
       "      <td>Toy Story</td>\n",
       "    </tr>\n",
       "    <tr>\n",
       "      <td>...</td>\n",
       "      <td>...</td>\n",
       "      <td>...</td>\n",
       "      <td>...</td>\n",
       "      <td>...</td>\n",
       "      <td>...</td>\n",
       "      <td>...</td>\n",
       "      <td>...</td>\n",
       "      <td>...</td>\n",
       "      <td>...</td>\n",
       "    </tr>\n",
       "    <tr>\n",
       "      <td>13437</td>\n",
       "      <td>Gene Siskel</td>\n",
       "      <td>rotten</td>\n",
       "      <td>88683</td>\n",
       "      <td>http://articles.chicagotribune.com/1985-09-13/...</td>\n",
       "      <td>Chicago Tribune</td>\n",
       "      <td>Agnes of God plays with some challenging ideas...</td>\n",
       "      <td>2013-05-08 00:00:00</td>\n",
       "      <td>11917</td>\n",
       "      <td>Agnes of God</td>\n",
       "    </tr>\n",
       "    <tr>\n",
       "      <td>13438</td>\n",
       "      <td>Variety Staff</td>\n",
       "      <td>rotten</td>\n",
       "      <td>88683</td>\n",
       "      <td>http://www.variety.com/review/VE1117796703.htm...</td>\n",
       "      <td>Variety</td>\n",
       "      <td>Fonda's relentless interrogating, mannered cha...</td>\n",
       "      <td>2008-10-18 00:00:00</td>\n",
       "      <td>11917</td>\n",
       "      <td>Agnes of God</td>\n",
       "    </tr>\n",
       "    <tr>\n",
       "      <td>13439</td>\n",
       "      <td>NaN</td>\n",
       "      <td>fresh</td>\n",
       "      <td>88683</td>\n",
       "      <td>http://www.timeout.com/film/reviews/77605/agne...</td>\n",
       "      <td>Time Out</td>\n",
       "      <td>Splendidly shot by Sven Nykvist and with excel...</td>\n",
       "      <td>2006-06-24 00:00:00</td>\n",
       "      <td>11917</td>\n",
       "      <td>Agnes of God</td>\n",
       "    </tr>\n",
       "    <tr>\n",
       "      <td>13440</td>\n",
       "      <td>Janet Maslin</td>\n",
       "      <td>rotten</td>\n",
       "      <td>88683</td>\n",
       "      <td>http://movies.nytimes.com/movie/review?res=950...</td>\n",
       "      <td>New York Times</td>\n",
       "      <td>Miss Tilly makes a radiant Agnes, and Miss Ban...</td>\n",
       "      <td>2003-05-20 00:00:00</td>\n",
       "      <td>11917</td>\n",
       "      <td>Agnes of God</td>\n",
       "    </tr>\n",
       "    <tr>\n",
       "      <td>13441</td>\n",
       "      <td>Roger Ebert</td>\n",
       "      <td>rotten</td>\n",
       "      <td>88683</td>\n",
       "      <td>http://www.rogerebert.com/reviews/agnes-of-god...</td>\n",
       "      <td>Chicago Sun-Times</td>\n",
       "      <td>Although the movie deals in the basic material...</td>\n",
       "      <td>2000-01-01 00:00:00</td>\n",
       "      <td>11917</td>\n",
       "      <td>Agnes of God</td>\n",
       "    </tr>\n",
       "  </tbody>\n",
       "</table>\n",
       "<p>13442 rows × 9 columns</p>\n",
       "</div>"
      ],
      "text/plain": [
       "                   critic   fresh    imdb  \\\n",
       "0             Derek Adams   fresh  114709   \n",
       "1         Richard Corliss   fresh  114709   \n",
       "2             David Ansen   fresh  114709   \n",
       "3           Leonard Klady   fresh  114709   \n",
       "4      Jonathan Rosenbaum   fresh  114709   \n",
       "...                   ...     ...     ...   \n",
       "13437         Gene Siskel  rotten   88683   \n",
       "13438       Variety Staff  rotten   88683   \n",
       "13439                 NaN   fresh   88683   \n",
       "13440        Janet Maslin  rotten   88683   \n",
       "13441         Roger Ebert  rotten   88683   \n",
       "\n",
       "                                                    link        publication  \\\n",
       "0      http://www.timeout.com/film/reviews/87745/toy-...           Time Out   \n",
       "1      http://www.time.com/time/magazine/article/0,91...      TIME Magazine   \n",
       "2                      http://www.newsweek.com/id/104199           Newsweek   \n",
       "3      http://www.variety.com/review/VE1117941294.htm...            Variety   \n",
       "4      http://onfilm.chicagoreader.com/movies/capsule...     Chicago Reader   \n",
       "...                                                  ...                ...   \n",
       "13437  http://articles.chicagotribune.com/1985-09-13/...    Chicago Tribune   \n",
       "13438  http://www.variety.com/review/VE1117796703.htm...            Variety   \n",
       "13439  http://www.timeout.com/film/reviews/77605/agne...           Time Out   \n",
       "13440  http://movies.nytimes.com/movie/review?res=950...     New York Times   \n",
       "13441  http://www.rogerebert.com/reviews/agnes-of-god...  Chicago Sun-Times   \n",
       "\n",
       "                                                   quote          review_date  \\\n",
       "0      So ingenious in concept, design and execution ...  2009-10-04 00:00:00   \n",
       "1                      The year's most inventive comedy.  2008-08-31 00:00:00   \n",
       "2      A winning animated feature that has something ...  2008-08-18 00:00:00   \n",
       "3      The film sports a provocative and appealing st...  2008-06-09 00:00:00   \n",
       "4      An entertaining computer-generated, hyperreali...  2008-03-10 00:00:00   \n",
       "...                                                  ...                  ...   \n",
       "13437  Agnes of God plays with some challenging ideas...  2013-05-08 00:00:00   \n",
       "13438  Fonda's relentless interrogating, mannered cha...  2008-10-18 00:00:00   \n",
       "13439  Splendidly shot by Sven Nykvist and with excel...  2006-06-24 00:00:00   \n",
       "13440  Miss Tilly makes a radiant Agnes, and Miss Ban...  2003-05-20 00:00:00   \n",
       "13441  Although the movie deals in the basic material...  2000-01-01 00:00:00   \n",
       "\n",
       "        rtid         title  \n",
       "0       9559     Toy Story  \n",
       "1       9559     Toy Story  \n",
       "2       9559     Toy Story  \n",
       "3       9559     Toy Story  \n",
       "4       9559     Toy Story  \n",
       "...      ...           ...  \n",
       "13437  11917  Agnes of God  \n",
       "13438  11917  Agnes of God  \n",
       "13439  11917  Agnes of God  \n",
       "13440  11917  Agnes of God  \n",
       "13441  11917  Agnes of God  \n",
       "\n",
       "[13442 rows x 9 columns]"
      ]
     },
     "execution_count": 28,
     "metadata": {},
     "output_type": "execute_result"
    }
   ],
   "source": [
    "#read dataframe\n",
    "df =pd.read_csv(\"rotten-tomatoes.csv.bz2\")\n",
    "df.head(5)\n",
    "df.sample(n=3, random_state=1)\n",
    "df"
   ]
  },
  {
   "cell_type": "code",
   "execution_count": 3,
   "metadata": {},
   "outputs": [
    {
     "data": {
      "text/plain": [
       "['critic',\n",
       " 'fresh',\n",
       " 'imdb',\n",
       " 'link',\n",
       " 'publication',\n",
       " 'quote',\n",
       " 'review_date',\n",
       " 'rtid',\n",
       " 'title']"
      ]
     },
     "execution_count": 3,
     "metadata": {},
     "output_type": "execute_result"
    }
   ],
   "source": [
    "list(df)"
   ]
  },
  {
   "cell_type": "code",
   "execution_count": 4,
   "metadata": {},
   "outputs": [
    {
     "name": "stdout",
     "output_type": "stream",
     "text": [
      "No of missing values for fresh are 13442\n",
      "No of missing values for quote are 13442\n"
     ]
    }
   ],
   "source": [
    "missing_f = df['fresh'].isnull()\n",
    "print(\"No of missing values for fresh are\",len(missing_f))\n",
    "missing_q = df['quote'].isnull()\n",
    "print(\"No of missing values for quote are\",len(missing_q))\n"
   ]
  },
  {
   "cell_type": "code",
   "execution_count": 5,
   "metadata": {},
   "outputs": [
    {
     "name": "stdout",
     "output_type": "stream",
     "text": [
      "These are the different values for fresh evaluations [ 9559 10498 16697 ... 10624 14013 11917]\n"
     ]
    },
    {
     "data": {
      "text/plain": [
       "1531"
      ]
     },
     "execution_count": 5,
     "metadata": {},
     "output_type": "execute_result"
    }
   ],
   "source": [
    "df1 = df[(df.fresh == 'fresh')]\n",
    "x = (df1['rtid'].unique())\n",
    "print(\"These are the different values for fresh evaluations\",x)\n",
    "len(x)"
   ]
  },
  {
   "cell_type": "code",
   "execution_count": 6,
   "metadata": {},
   "outputs": [
    {
     "name": "stdout",
     "output_type": "stream",
     "text": [
      "These are the different values for rotten evaluations [12436 10498 16697 ... 10215 14013 11917]\n"
     ]
    },
    {
     "data": {
      "text/plain": [
       "1373"
      ]
     },
     "execution_count": 6,
     "metadata": {},
     "output_type": "execute_result"
    }
   ],
   "source": [
    "df2 = df[(df.fresh == 'rotten')]\n",
    "y = (df2['rtid'].unique())\n",
    "print(\"These are the different values for rotten evaluations\",y)\n",
    "len(y)"
   ]
  },
  {
   "cell_type": "code",
   "execution_count": 7,
   "metadata": {},
   "outputs": [
    {
     "data": {
      "text/plain": [
       "1720"
      ]
     },
     "execution_count": 7,
     "metadata": {},
     "output_type": "execute_result"
    }
   ],
   "source": [
    "z = df['rtid'].unique()\n",
    "len(z)"
   ]
  },
  {
   "cell_type": "code",
   "execution_count": 8,
   "metadata": {},
   "outputs": [
    {
     "name": "stdout",
     "output_type": "stream",
     "text": [
      "percentage of values for fresh are 89.01162790697674\n",
      "percentage of values for rotten are 79.82558139534883\n"
     ]
    }
   ],
   "source": [
    "print(\"percentage of values for fresh are\",(1531/1720 *100))\n",
    "print(\"percentage of values for rotten are\",(1373/1720 *100))"
   ]
  },
  {
   "cell_type": "code",
   "execution_count": 9,
   "metadata": {},
   "outputs": [
    {
     "name": "stdout",
     "output_type": "stream",
     "text": [
      " There are no zero-length or only whitespace quote-s in the data\n"
     ]
    }
   ],
   "source": [
    "(df['quote'].values == '').sum()          \n",
    "len(df[df['quote'] == ''])                \n",
    "df.loc[df['quote'] == ''].count().iloc[0]  \n",
    "print(\" There are no zero-length or only whitespace quote-s in the data\")"
   ]
  },
  {
   "cell_type": "code",
   "execution_count": 15,
   "metadata": {},
   "outputs": [
    {
     "name": "stdout",
     "output_type": "stream",
     "text": [
      "Length of longest string in quotes column of data is 256\n",
      "Length of shortest string in quotes column of data is 4\n",
      "Length of average string in quotes column of data is 121.23128998660914\n"
     ]
    }
   ],
   "source": [
    "print(\"Length of longest string in quotes column of data is\",df.quote.str.len().max())\n",
    "print(\"Length of shortest string in quotes column of data is\",df.quote.str.len().min())\n",
    "print(\"Length of average string in quotes column of data is\",df.quote.str.len().mean())"
   ]
  },
  {
   "cell_type": "code",
   "execution_count": 23,
   "metadata": {},
   "outputs": [
    {
     "data": {
      "text/plain": [
       "title\n",
       "'Til There Was You                  8\n",
       "10 Things I Hate About You         11\n",
       "101 Dalmatians                     12\n",
       "12 Angry Men (Twelve Angry Men)     6\n",
       "2 Days in Paris                    15\n",
       "                                   ..\n",
       "Young and Innocent                  3\n",
       "Your Friends & Neighbors           12\n",
       "Zero Effect                         7\n",
       "eXistenZ                            9\n",
       "sex, lies, and videotape            8\n",
       "Length: 1720, dtype: int64"
      ]
     },
     "execution_count": 23,
     "metadata": {},
     "output_type": "execute_result"
    }
   ],
   "source": [
    "x = df.pivot_table(index=['title'], aggfunc='size')\n",
    "x"
   ]
  },
  {
   "cell_type": "code",
   "execution_count": 29,
   "metadata": {},
   "outputs": [
    {
     "data": {
      "text/html": [
       "<div>\n",
       "<style scoped>\n",
       "    .dataframe tbody tr th:only-of-type {\n",
       "        vertical-align: middle;\n",
       "    }\n",
       "\n",
       "    .dataframe tbody tr th {\n",
       "        vertical-align: top;\n",
       "    }\n",
       "\n",
       "    .dataframe thead th {\n",
       "        text-align: right;\n",
       "    }\n",
       "</style>\n",
       "<table border=\"1\" class=\"dataframe\">\n",
       "  <thead>\n",
       "    <tr style=\"text-align: right;\">\n",
       "      <th></th>\n",
       "      <th>critic</th>\n",
       "      <th>fresh</th>\n",
       "      <th>imdb</th>\n",
       "      <th>link</th>\n",
       "      <th>publication</th>\n",
       "      <th>quote</th>\n",
       "      <th>review_date</th>\n",
       "      <th>rtid</th>\n",
       "      <th>title</th>\n",
       "    </tr>\n",
       "  </thead>\n",
       "  <tbody>\n",
       "    <tr>\n",
       "      <td>0</td>\n",
       "      <td>Derek Adams</td>\n",
       "      <td>fresh</td>\n",
       "      <td>114709</td>\n",
       "      <td>http://www.timeout.com/film/reviews/87745/toy-...</td>\n",
       "      <td>Time Out</td>\n",
       "      <td>So ingenious in concept, design and execution ...</td>\n",
       "      <td>2009-10-04 00:00:00</td>\n",
       "      <td>9559</td>\n",
       "      <td>Toy Story</td>\n",
       "    </tr>\n",
       "    <tr>\n",
       "      <td>1</td>\n",
       "      <td>Richard Corliss</td>\n",
       "      <td>fresh</td>\n",
       "      <td>114709</td>\n",
       "      <td>http://www.time.com/time/magazine/article/0,91...</td>\n",
       "      <td>TIME Magazine</td>\n",
       "      <td>The year's most inventive comedy.</td>\n",
       "      <td>2008-08-31 00:00:00</td>\n",
       "      <td>9559</td>\n",
       "      <td>Toy Story</td>\n",
       "    </tr>\n",
       "    <tr>\n",
       "      <td>2</td>\n",
       "      <td>David Ansen</td>\n",
       "      <td>fresh</td>\n",
       "      <td>114709</td>\n",
       "      <td>http://www.newsweek.com/id/104199</td>\n",
       "      <td>Newsweek</td>\n",
       "      <td>A winning animated feature that has something ...</td>\n",
       "      <td>2008-08-18 00:00:00</td>\n",
       "      <td>9559</td>\n",
       "      <td>Toy Story</td>\n",
       "    </tr>\n",
       "    <tr>\n",
       "      <td>3</td>\n",
       "      <td>Leonard Klady</td>\n",
       "      <td>fresh</td>\n",
       "      <td>114709</td>\n",
       "      <td>http://www.variety.com/review/VE1117941294.htm...</td>\n",
       "      <td>Variety</td>\n",
       "      <td>The film sports a provocative and appealing st...</td>\n",
       "      <td>2008-06-09 00:00:00</td>\n",
       "      <td>9559</td>\n",
       "      <td>Toy Story</td>\n",
       "    </tr>\n",
       "    <tr>\n",
       "      <td>4</td>\n",
       "      <td>Jonathan Rosenbaum</td>\n",
       "      <td>fresh</td>\n",
       "      <td>114709</td>\n",
       "      <td>http://onfilm.chicagoreader.com/movies/capsule...</td>\n",
       "      <td>Chicago Reader</td>\n",
       "      <td>An entertaining computer-generated, hyperreali...</td>\n",
       "      <td>2008-03-10 00:00:00</td>\n",
       "      <td>9559</td>\n",
       "      <td>Toy Story</td>\n",
       "    </tr>\n",
       "    <tr>\n",
       "      <td>...</td>\n",
       "      <td>...</td>\n",
       "      <td>...</td>\n",
       "      <td>...</td>\n",
       "      <td>...</td>\n",
       "      <td>...</td>\n",
       "      <td>...</td>\n",
       "      <td>...</td>\n",
       "      <td>...</td>\n",
       "      <td>...</td>\n",
       "    </tr>\n",
       "    <tr>\n",
       "      <td>13437</td>\n",
       "      <td>Gene Siskel</td>\n",
       "      <td>rotten</td>\n",
       "      <td>88683</td>\n",
       "      <td>http://articles.chicagotribune.com/1985-09-13/...</td>\n",
       "      <td>Chicago Tribune</td>\n",
       "      <td>Agnes of God plays with some challenging ideas...</td>\n",
       "      <td>2013-05-08 00:00:00</td>\n",
       "      <td>11917</td>\n",
       "      <td>Agnes of God</td>\n",
       "    </tr>\n",
       "    <tr>\n",
       "      <td>13438</td>\n",
       "      <td>Variety Staff</td>\n",
       "      <td>rotten</td>\n",
       "      <td>88683</td>\n",
       "      <td>http://www.variety.com/review/VE1117796703.htm...</td>\n",
       "      <td>Variety</td>\n",
       "      <td>Fonda's relentless interrogating, mannered cha...</td>\n",
       "      <td>2008-10-18 00:00:00</td>\n",
       "      <td>11917</td>\n",
       "      <td>Agnes of God</td>\n",
       "    </tr>\n",
       "    <tr>\n",
       "      <td>13439</td>\n",
       "      <td>NaN</td>\n",
       "      <td>fresh</td>\n",
       "      <td>88683</td>\n",
       "      <td>http://www.timeout.com/film/reviews/77605/agne...</td>\n",
       "      <td>Time Out</td>\n",
       "      <td>Splendidly shot by Sven Nykvist and with excel...</td>\n",
       "      <td>2006-06-24 00:00:00</td>\n",
       "      <td>11917</td>\n",
       "      <td>Agnes of God</td>\n",
       "    </tr>\n",
       "    <tr>\n",
       "      <td>13440</td>\n",
       "      <td>Janet Maslin</td>\n",
       "      <td>rotten</td>\n",
       "      <td>88683</td>\n",
       "      <td>http://movies.nytimes.com/movie/review?res=950...</td>\n",
       "      <td>New York Times</td>\n",
       "      <td>Miss Tilly makes a radiant Agnes, and Miss Ban...</td>\n",
       "      <td>2003-05-20 00:00:00</td>\n",
       "      <td>11917</td>\n",
       "      <td>Agnes of God</td>\n",
       "    </tr>\n",
       "    <tr>\n",
       "      <td>13441</td>\n",
       "      <td>Roger Ebert</td>\n",
       "      <td>rotten</td>\n",
       "      <td>88683</td>\n",
       "      <td>http://www.rogerebert.com/reviews/agnes-of-god...</td>\n",
       "      <td>Chicago Sun-Times</td>\n",
       "      <td>Although the movie deals in the basic material...</td>\n",
       "      <td>2000-01-01 00:00:00</td>\n",
       "      <td>11917</td>\n",
       "      <td>Agnes of God</td>\n",
       "    </tr>\n",
       "  </tbody>\n",
       "</table>\n",
       "<p>13419 rows × 9 columns</p>\n",
       "</div>"
      ],
      "text/plain": [
       "                   critic   fresh    imdb  \\\n",
       "0             Derek Adams   fresh  114709   \n",
       "1         Richard Corliss   fresh  114709   \n",
       "2             David Ansen   fresh  114709   \n",
       "3           Leonard Klady   fresh  114709   \n",
       "4      Jonathan Rosenbaum   fresh  114709   \n",
       "...                   ...     ...     ...   \n",
       "13437         Gene Siskel  rotten   88683   \n",
       "13438       Variety Staff  rotten   88683   \n",
       "13439                 NaN   fresh   88683   \n",
       "13440        Janet Maslin  rotten   88683   \n",
       "13441         Roger Ebert  rotten   88683   \n",
       "\n",
       "                                                    link        publication  \\\n",
       "0      http://www.timeout.com/film/reviews/87745/toy-...           Time Out   \n",
       "1      http://www.time.com/time/magazine/article/0,91...      TIME Magazine   \n",
       "2                      http://www.newsweek.com/id/104199           Newsweek   \n",
       "3      http://www.variety.com/review/VE1117941294.htm...            Variety   \n",
       "4      http://onfilm.chicagoreader.com/movies/capsule...     Chicago Reader   \n",
       "...                                                  ...                ...   \n",
       "13437  http://articles.chicagotribune.com/1985-09-13/...    Chicago Tribune   \n",
       "13438  http://www.variety.com/review/VE1117796703.htm...            Variety   \n",
       "13439  http://www.timeout.com/film/reviews/77605/agne...           Time Out   \n",
       "13440  http://movies.nytimes.com/movie/review?res=950...     New York Times   \n",
       "13441  http://www.rogerebert.com/reviews/agnes-of-god...  Chicago Sun-Times   \n",
       "\n",
       "                                                   quote          review_date  \\\n",
       "0      So ingenious in concept, design and execution ...  2009-10-04 00:00:00   \n",
       "1                      The year's most inventive comedy.  2008-08-31 00:00:00   \n",
       "2      A winning animated feature that has something ...  2008-08-18 00:00:00   \n",
       "3      The film sports a provocative and appealing st...  2008-06-09 00:00:00   \n",
       "4      An entertaining computer-generated, hyperreali...  2008-03-10 00:00:00   \n",
       "...                                                  ...                  ...   \n",
       "13437  Agnes of God plays with some challenging ideas...  2013-05-08 00:00:00   \n",
       "13438  Fonda's relentless interrogating, mannered cha...  2008-10-18 00:00:00   \n",
       "13439  Splendidly shot by Sven Nykvist and with excel...  2006-06-24 00:00:00   \n",
       "13440  Miss Tilly makes a radiant Agnes, and Miss Ban...  2003-05-20 00:00:00   \n",
       "13441  Although the movie deals in the basic material...  2000-01-01 00:00:00   \n",
       "\n",
       "        rtid         title  \n",
       "0       9559     Toy Story  \n",
       "1       9559     Toy Story  \n",
       "2       9559     Toy Story  \n",
       "3       9559     Toy Story  \n",
       "4       9559     Toy Story  \n",
       "...      ...           ...  \n",
       "13437  11917  Agnes of God  \n",
       "13438  11917  Agnes of God  \n",
       "13439  11917  Agnes of God  \n",
       "13440  11917  Agnes of God  \n",
       "13441  11917  Agnes of God  \n",
       "\n",
       "[13419 rows x 9 columns]"
      ]
     },
     "execution_count": 29,
     "metadata": {},
     "output_type": "execute_result"
    }
   ],
   "source": [
    "df = df[~df.quote.isnull()]\n",
    "df =df[df.fresh != 'none']\n",
    "df = df[df.quote.str.len() > 0]\n",
    "df.dropna(subset=['fresh','quote'],inplace=True)\n",
    "df"
   ]
  },
  {
   "cell_type": "code",
   "execution_count": 31,
   "metadata": {},
   "outputs": [],
   "source": [
    "from sklearn.feature_extraction.text import CountVectorizer\n",
    "vectorizer = CountVectorizer(binary=True)\n",
    "# define vectorizer\n",
    "X = vectorizer.fit_transform(df.quote.values)\n",
    "# vectorize your data. Note: this creates a sparce matrix,\n",
    "# use .toarray() if you want a dense matrix.\n",
    "words = vectorizer.get_feature_names()\n",
    "# in case you want to see what are the actual words"
   ]
  },
  {
   "cell_type": "code",
   "execution_count": 37,
   "metadata": {},
   "outputs": [],
   "source": [
    "X_train, X_test, y_train, y_test = train_test_split(X, y, test_size=0.20, random_state=5)"
   ]
  },
  {
   "cell_type": "code",
   "execution_count": 38,
   "metadata": {},
   "outputs": [
    {
     "name": "stdout",
     "output_type": "stream",
     "text": [
      "The accuracy for test data: 0.7447839046199702\n",
      "The accuracy for train data: 0.9516534699580811\n"
     ]
    }
   ],
   "source": [
    "import sklearn.naive_bayes as nb\n",
    "\n",
    "#fit and train the dataset on Naive Bayes classifier\n",
    "Mult_NB=nb.MultinomialNB(alpha=0.065,fit_prior=True)\n",
    "Mult_NB.fit(X_train,y_train)\n",
    "print(\"The accuracy for test data:\",Mult_NB.score(X_test,y_test))\n",
    "print(\"The accuracy for train data:\",Mult_NB.score(X_train,y_train))"
   ]
  },
  {
   "cell_type": "code",
   "execution_count": 39,
   "metadata": {},
   "outputs": [
    {
     "name": "stdout",
     "output_type": "stream",
     "text": [
      "Log-Linkelihood of training dataset -1245.613629414669\n",
      "Log-Linkelihood of testing dataset -2293.82101868052\n"
     ]
    }
   ],
   "source": [
    "def log_likelihood(model, x, y):\n",
    "    prob = model.predict_log_proba(x)\n",
    "    # returns Nx2 array.  Columns are log(Pr(y == 0|x)), log(Pr(y==1|x))\n",
    "    ll = prob[y == 0, 0].sum() + prob[y == 1, 1].sum()\n",
    "    return ll\n",
    "\n",
    "#print log likelihood of training and testing dataset\n",
    "print('Log-Linkelihood of training dataset',log_likelihood(Mult_NB,X_train,y_train))\n",
    "print('Log-Linkelihood of testing dataset',log_likelihood(Mult_NB,X_test,y_test))"
   ]
  },
  {
   "cell_type": "code",
   "execution_count": null,
   "metadata": {},
   "outputs": [],
   "source": []
  }
 ],
 "metadata": {
  "kernelspec": {
   "display_name": "Python 3",
   "language": "python",
   "name": "python3"
  },
  "language_info": {
   "codemirror_mode": {
    "name": "ipython",
    "version": 3
   },
   "file_extension": ".py",
   "mimetype": "text/x-python",
   "name": "python",
   "nbconvert_exporter": "python",
   "pygments_lexer": "ipython3",
   "version": "3.7.4"
  }
 },
 "nbformat": 4,
 "nbformat_minor": 2
}
