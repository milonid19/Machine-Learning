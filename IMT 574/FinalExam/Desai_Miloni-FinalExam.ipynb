{
 "cells": [
  {
   "cell_type": "code",
   "execution_count": 45,
   "metadata": {},
   "outputs": [],
   "source": [
    "import pandas as pd\n",
    "import numpy as np\n",
    "import seaborn as sb\n",
    "import pandas as pd\n",
    "import scipy.stats as stats\n",
    "import matplotlib\n",
    "import matplotlib.pyplot as plt\n",
    "import statsmodels.formula.api as smf\n",
    "import statsmodels.api as sm\n",
    "from sklearn.linear_model import LinearRegression\n",
    "from scipy.stats import ttest_ind\n",
    "import warnings\n",
    "warnings.filterwarnings('ignore')\n"
   ]
  },
  {
   "cell_type": "code",
   "execution_count": 31,
   "metadata": {},
   "outputs": [
    {
     "data": {
      "text/html": [
       "<div>\n",
       "<style scoped>\n",
       "    .dataframe tbody tr th:only-of-type {\n",
       "        vertical-align: middle;\n",
       "    }\n",
       "\n",
       "    .dataframe tbody tr th {\n",
       "        vertical-align: top;\n",
       "    }\n",
       "\n",
       "    .dataframe thead th {\n",
       "        text-align: right;\n",
       "    }\n",
       "</style>\n",
       "<table border=\"1\" class=\"dataframe\">\n",
       "  <thead>\n",
       "    <tr style=\"text-align: right;\">\n",
       "      <th></th>\n",
       "      <th>year</th>\n",
       "      <th>urate</th>\n",
       "      <th>children</th>\n",
       "      <th>nonwhite</th>\n",
       "      <th>finc</th>\n",
       "      <th>earn</th>\n",
       "      <th>age</th>\n",
       "      <th>ed</th>\n",
       "      <th>work</th>\n",
       "    </tr>\n",
       "  </thead>\n",
       "  <tbody>\n",
       "    <tr>\n",
       "      <td>0</td>\n",
       "      <td>1991</td>\n",
       "      <td>7.6</td>\n",
       "      <td>0</td>\n",
       "      <td>1</td>\n",
       "      <td>18714.394273</td>\n",
       "      <td>18714.394273</td>\n",
       "      <td>26</td>\n",
       "      <td>10</td>\n",
       "      <td>1</td>\n",
       "    </tr>\n",
       "    <tr>\n",
       "      <td>1</td>\n",
       "      <td>1991</td>\n",
       "      <td>7.2</td>\n",
       "      <td>1</td>\n",
       "      <td>0</td>\n",
       "      <td>4838.568282</td>\n",
       "      <td>471.365639</td>\n",
       "      <td>22</td>\n",
       "      <td>9</td>\n",
       "      <td>1</td>\n",
       "    </tr>\n",
       "    <tr>\n",
       "      <td>2</td>\n",
       "      <td>1991</td>\n",
       "      <td>6.4</td>\n",
       "      <td>2</td>\n",
       "      <td>0</td>\n",
       "      <td>8178.193833</td>\n",
       "      <td>0.000000</td>\n",
       "      <td>33</td>\n",
       "      <td>11</td>\n",
       "      <td>0</td>\n",
       "    </tr>\n",
       "    <tr>\n",
       "      <td>3</td>\n",
       "      <td>1991</td>\n",
       "      <td>9.1</td>\n",
       "      <td>0</td>\n",
       "      <td>1</td>\n",
       "      <td>9369.570485</td>\n",
       "      <td>0.000000</td>\n",
       "      <td>43</td>\n",
       "      <td>11</td>\n",
       "      <td>0</td>\n",
       "    </tr>\n",
       "    <tr>\n",
       "      <td>4</td>\n",
       "      <td>1991</td>\n",
       "      <td>8.6</td>\n",
       "      <td>3</td>\n",
       "      <td>1</td>\n",
       "      <td>14706.607930</td>\n",
       "      <td>14706.607930</td>\n",
       "      <td>23</td>\n",
       "      <td>7</td>\n",
       "      <td>1</td>\n",
       "    </tr>\n",
       "  </tbody>\n",
       "</table>\n",
       "</div>"
      ],
      "text/plain": [
       "   year  urate  children  nonwhite          finc          earn  age  ed  work\n",
       "0  1991    7.6         0         1  18714.394273  18714.394273   26  10     1\n",
       "1  1991    7.2         1         0   4838.568282    471.365639   22   9     1\n",
       "2  1991    6.4         2         0   8178.193833      0.000000   33  11     0\n",
       "3  1991    9.1         0         1   9369.570485      0.000000   43  11     0\n",
       "4  1991    8.6         3         1  14706.607930  14706.607930   23   7     1"
      ]
     },
     "execution_count": 31,
     "metadata": {},
     "output_type": "execute_result"
    }
   ],
   "source": [
    "data = pd.read_csv(\"eitc.csv.bz2\", sep ='\\t')\n",
    "data.head(5)\n",
    "\n"
   ]
  },
  {
   "cell_type": "code",
   "execution_count": 32,
   "metadata": {},
   "outputs": [
    {
     "data": {
      "text/plain": [
       "(13746, 9)"
      ]
     },
     "execution_count": 32,
     "metadata": {},
     "output_type": "execute_result"
    }
   ],
   "source": [
    "data.shape"
   ]
  },
  {
   "cell_type": "code",
   "execution_count": 33,
   "metadata": {},
   "outputs": [
    {
     "data": {
      "text/html": [
       "<div>\n",
       "<style scoped>\n",
       "    .dataframe tbody tr th:only-of-type {\n",
       "        vertical-align: middle;\n",
       "    }\n",
       "\n",
       "    .dataframe tbody tr th {\n",
       "        vertical-align: top;\n",
       "    }\n",
       "\n",
       "    .dataframe thead th {\n",
       "        text-align: right;\n",
       "    }\n",
       "</style>\n",
       "<table border=\"1\" class=\"dataframe\">\n",
       "  <thead>\n",
       "    <tr style=\"text-align: right;\">\n",
       "      <th></th>\n",
       "      <th>year</th>\n",
       "      <th>urate</th>\n",
       "      <th>children</th>\n",
       "      <th>nonwhite</th>\n",
       "      <th>finc</th>\n",
       "      <th>earn</th>\n",
       "      <th>age</th>\n",
       "      <th>ed</th>\n",
       "      <th>work</th>\n",
       "    </tr>\n",
       "  </thead>\n",
       "  <tbody>\n",
       "    <tr>\n",
       "      <td>count</td>\n",
       "      <td>13746.000000</td>\n",
       "      <td>13746.000000</td>\n",
       "      <td>13746.000000</td>\n",
       "      <td>13746.000000</td>\n",
       "      <td>13746.000000</td>\n",
       "      <td>13746.000000</td>\n",
       "      <td>13746.000000</td>\n",
       "      <td>13746.000000</td>\n",
       "      <td>13746.000000</td>\n",
       "    </tr>\n",
       "    <tr>\n",
       "      <td>mean</td>\n",
       "      <td>1993.347083</td>\n",
       "      <td>6.761734</td>\n",
       "      <td>1.192638</td>\n",
       "      <td>0.600684</td>\n",
       "      <td>15255.319310</td>\n",
       "      <td>10432.475514</td>\n",
       "      <td>35.209661</td>\n",
       "      <td>8.806053</td>\n",
       "      <td>0.513022</td>\n",
       "    </tr>\n",
       "    <tr>\n",
       "      <td>std</td>\n",
       "      <td>1.703207</td>\n",
       "      <td>1.462464</td>\n",
       "      <td>1.382105</td>\n",
       "      <td>0.489776</td>\n",
       "      <td>19444.249684</td>\n",
       "      <td>18200.758138</td>\n",
       "      <td>10.157128</td>\n",
       "      <td>2.635639</td>\n",
       "      <td>0.499849</td>\n",
       "    </tr>\n",
       "    <tr>\n",
       "      <td>min</td>\n",
       "      <td>1991.000000</td>\n",
       "      <td>2.600000</td>\n",
       "      <td>0.000000</td>\n",
       "      <td>0.000000</td>\n",
       "      <td>0.000000</td>\n",
       "      <td>0.000000</td>\n",
       "      <td>20.000000</td>\n",
       "      <td>0.000000</td>\n",
       "      <td>0.000000</td>\n",
       "    </tr>\n",
       "    <tr>\n",
       "      <td>25%</td>\n",
       "      <td>1992.000000</td>\n",
       "      <td>5.700000</td>\n",
       "      <td>0.000000</td>\n",
       "      <td>0.000000</td>\n",
       "      <td>5123.417782</td>\n",
       "      <td>0.000000</td>\n",
       "      <td>26.000000</td>\n",
       "      <td>7.000000</td>\n",
       "      <td>0.000000</td>\n",
       "    </tr>\n",
       "    <tr>\n",
       "      <td>50%</td>\n",
       "      <td>1993.000000</td>\n",
       "      <td>6.800000</td>\n",
       "      <td>1.000000</td>\n",
       "      <td>1.000000</td>\n",
       "      <td>9636.664360</td>\n",
       "      <td>3332.179931</td>\n",
       "      <td>34.000000</td>\n",
       "      <td>10.000000</td>\n",
       "      <td>1.000000</td>\n",
       "    </tr>\n",
       "    <tr>\n",
       "      <td>75%</td>\n",
       "      <td>1995.000000</td>\n",
       "      <td>7.700000</td>\n",
       "      <td>2.000000</td>\n",
       "      <td>1.000000</td>\n",
       "      <td>18659.178178</td>\n",
       "      <td>14321.223709</td>\n",
       "      <td>44.000000</td>\n",
       "      <td>11.000000</td>\n",
       "      <td>1.000000</td>\n",
       "    </tr>\n",
       "    <tr>\n",
       "      <td>max</td>\n",
       "      <td>1996.000000</td>\n",
       "      <td>11.400000</td>\n",
       "      <td>9.000000</td>\n",
       "      <td>1.000000</td>\n",
       "      <td>575616.820870</td>\n",
       "      <td>537880.611850</td>\n",
       "      <td>54.000000</td>\n",
       "      <td>11.000000</td>\n",
       "      <td>1.000000</td>\n",
       "    </tr>\n",
       "  </tbody>\n",
       "</table>\n",
       "</div>"
      ],
      "text/plain": [
       "               year         urate      children      nonwhite           finc  \\\n",
       "count  13746.000000  13746.000000  13746.000000  13746.000000   13746.000000   \n",
       "mean    1993.347083      6.761734      1.192638      0.600684   15255.319310   \n",
       "std        1.703207      1.462464      1.382105      0.489776   19444.249684   \n",
       "min     1991.000000      2.600000      0.000000      0.000000       0.000000   \n",
       "25%     1992.000000      5.700000      0.000000      0.000000    5123.417782   \n",
       "50%     1993.000000      6.800000      1.000000      1.000000    9636.664360   \n",
       "75%     1995.000000      7.700000      2.000000      1.000000   18659.178178   \n",
       "max     1996.000000     11.400000      9.000000      1.000000  575616.820870   \n",
       "\n",
       "                earn           age            ed          work  \n",
       "count   13746.000000  13746.000000  13746.000000  13746.000000  \n",
       "mean    10432.475514     35.209661      8.806053      0.513022  \n",
       "std     18200.758138     10.157128      2.635639      0.499849  \n",
       "min         0.000000     20.000000      0.000000      0.000000  \n",
       "25%         0.000000     26.000000      7.000000      0.000000  \n",
       "50%      3332.179931     34.000000     10.000000      1.000000  \n",
       "75%     14321.223709     44.000000     11.000000      1.000000  \n",
       "max    537880.611850     54.000000     11.000000      1.000000  "
      ]
     },
     "execution_count": 33,
     "metadata": {},
     "output_type": "execute_result"
    }
   ],
   "source": [
    "data.describe()"
   ]
  },
  {
   "cell_type": "code",
   "execution_count": 34,
   "metadata": {},
   "outputs": [
    {
     "name": "stdout",
     "output_type": "stream",
     "text": [
      "1996\n",
      "1991\n"
     ]
    }
   ],
   "source": [
    "print(data['year'].max())\n",
    "print(data['year'].min())"
   ]
  },
  {
   "cell_type": "code",
   "execution_count": 35,
   "metadata": {},
   "outputs": [],
   "source": [
    "df = data[['children','work','year']]\n",
    "df = df[df.year != 1991]\n",
    "df = df[df.year != 1992]\n",
    "df = df[df.year != 1995]\n",
    "df = df[df.year != 1996]\n",
    "df = df[df.year != 1994]\n",
    "df2 = data[['children','work','year']]\n",
    "df2 = df2[df2.year != 1991]\n",
    "df2 = df2[df2.year != 1992]\n",
    "df2 = df2[df2.year != 1995]\n",
    "df2 = df2[df2.year != 1996]\n",
    "df2 = df2[df2.year != 1993]"
   ]
  },
  {
   "cell_type": "code",
   "execution_count": 36,
   "metadata": {},
   "outputs": [
    {
     "data": {
      "text/html": [
       "<div>\n",
       "<style scoped>\n",
       "    .dataframe tbody tr th:only-of-type {\n",
       "        vertical-align: middle;\n",
       "    }\n",
       "\n",
       "    .dataframe tbody tr th {\n",
       "        vertical-align: top;\n",
       "    }\n",
       "\n",
       "    .dataframe thead th {\n",
       "        text-align: right;\n",
       "    }\n",
       "</style>\n",
       "<table border=\"1\" class=\"dataframe\">\n",
       "  <thead>\n",
       "    <tr style=\"text-align: right;\">\n",
       "      <th></th>\n",
       "      <th>children</th>\n",
       "      <th>work</th>\n",
       "      <th>year</th>\n",
       "    </tr>\n",
       "  </thead>\n",
       "  <tbody>\n",
       "    <tr>\n",
       "      <td>102</td>\n",
       "      <td>0</td>\n",
       "      <td>1</td>\n",
       "      <td>1993</td>\n",
       "    </tr>\n",
       "    <tr>\n",
       "      <td>103</td>\n",
       "      <td>0</td>\n",
       "      <td>0</td>\n",
       "      <td>1993</td>\n",
       "    </tr>\n",
       "    <tr>\n",
       "      <td>104</td>\n",
       "      <td>3</td>\n",
       "      <td>0</td>\n",
       "      <td>1993</td>\n",
       "    </tr>\n",
       "    <tr>\n",
       "      <td>105</td>\n",
       "      <td>3</td>\n",
       "      <td>0</td>\n",
       "      <td>1993</td>\n",
       "    </tr>\n",
       "    <tr>\n",
       "      <td>106</td>\n",
       "      <td>0</td>\n",
       "      <td>1</td>\n",
       "      <td>1993</td>\n",
       "    </tr>\n",
       "  </tbody>\n",
       "</table>\n",
       "</div>"
      ],
      "text/plain": [
       "     children  work  year\n",
       "102         0     1  1993\n",
       "103         0     0  1993\n",
       "104         3     0  1993\n",
       "105         3     0  1993\n",
       "106         0     1  1993"
      ]
     },
     "execution_count": 36,
     "metadata": {},
     "output_type": "execute_result"
    }
   ],
   "source": [
    "df.head(5)"
   ]
  },
  {
   "cell_type": "code",
   "execution_count": 37,
   "metadata": {},
   "outputs": [
    {
     "data": {
      "image/png": "[encoded data removed]",
      "text/plain": [
       "<Figure size 864x432 with 1 Axes>"
      ]
     },
     "metadata": {
      "needs_background": "light"
     },
     "output_type": "display_data"
    },
    {
     "data": {
      "image/png": "[encoded data removed]",
      "text/plain": [
       "<Figure size 864x432 with 1 Axes>"
      ]
     },
     "metadata": {
      "needs_background": "light"
     },
     "output_type": "display_data"
    }
   ],
   "source": [
    "from seaborn import countplot\n",
    "from matplotlib.pyplot import figure, show\n",
    "figure(figsize=(12,6))\n",
    "ax = countplot(data=df,x= df.children, hue=\"work\")\n",
    "ax.set_xlabel(\"Number of children\")\n",
    "ax.set_ylabel(\"Count for 1993\")\n",
    "show()\n",
    "figure(figsize=(12,6))\n",
    "ax = countplot(data=df2,x= df2.children, hue=\"work\")\n",
    "ax.set_xlabel(\"Number of children\")\n",
    "ax.set_ylabel(\"Count for 1994\")\n",
    "show()"
   ]
  },
  {
   "cell_type": "code",
   "execution_count": 38,
   "metadata": {},
   "outputs": [
    {
     "name": "stdout",
     "output_type": "stream",
     "text": [
      "From the graphs we can see that there is a very marginal difference between the two years 1993 and 1994. In both the years more people have no children and the people having no children are likely to be working. When we talk about those have one child and those who have more than two children we can see that the numbers are almost suddenly decreasing.During 1993 the trend was such that people having one child worked more as compared to those who had two or more\n",
      "Thus we can see that over the years the proability to work DECREASES as the number of children INCREASE\n"
     ]
    }
   ],
   "source": [
    "print(\"From the graphs we can see that there is a very marginal difference between the two years 1993 and 1994. In both the years more people have no children and the people having no children are likely to be working. When we talk about those have one child and those who have more than two children we can see that the numbers are almost suddenly decreasing.During 1993 the trend was such that people having one child worked more as compared to those who had two or more\")\n",
    "print(\"Thus we can see that over the years the proability to work DECREASES as the number of children INCREASE\")"
   ]
  },
  {
   "cell_type": "code",
   "execution_count": 48,
   "metadata": {},
   "outputs": [
    {
     "data": {
      "text/html": [
       "<div>\n",
       "<style scoped>\n",
       "    .dataframe tbody tr th:only-of-type {\n",
       "        vertical-align: middle;\n",
       "    }\n",
       "\n",
       "    .dataframe tbody tr th {\n",
       "        vertical-align: top;\n",
       "    }\n",
       "\n",
       "    .dataframe thead th {\n",
       "        text-align: right;\n",
       "    }\n",
       "</style>\n",
       "<table border=\"1\" class=\"dataframe\">\n",
       "  <thead>\n",
       "    <tr style=\"text-align: right;\">\n",
       "      <th></th>\n",
       "      <th>Variable name</th>\n",
       "      <th>Average value (Treatment group)</th>\n",
       "      <th>Average value (Control group)</th>\n",
       "      <th>Difference(Treat - Control)</th>\n",
       "      <th>p-value</th>\n",
       "    </tr>\n",
       "  </thead>\n",
       "  <tbody>\n",
       "    <tr>\n",
       "      <td>0</td>\n",
       "      <td>urate</td>\n",
       "      <td>7.148718</td>\n",
       "      <td>7.042334</td>\n",
       "      <td>0.106383</td>\n",
       "      <td>2.129648e-01</td>\n",
       "    </tr>\n",
       "    <tr>\n",
       "      <td>1</td>\n",
       "      <td>nonwhite</td>\n",
       "      <td>0.623932</td>\n",
       "      <td>0.472125</td>\n",
       "      <td>0.151806</td>\n",
       "      <td>1.812928e-07</td>\n",
       "    </tr>\n",
       "    <tr>\n",
       "      <td>2</td>\n",
       "      <td>age</td>\n",
       "      <td>33.475214</td>\n",
       "      <td>37.942509</td>\n",
       "      <td>-4.467295</td>\n",
       "      <td>1.909031e-14</td>\n",
       "    </tr>\n",
       "    <tr>\n",
       "      <td>3</td>\n",
       "      <td>ed</td>\n",
       "      <td>9.205128</td>\n",
       "      <td>8.923345</td>\n",
       "      <td>0.281783</td>\n",
       "      <td>4.778968e-02</td>\n",
       "    </tr>\n",
       "  </tbody>\n",
       "</table>\n",
       "</div>"
      ],
      "text/plain": [
       "  Variable name  Average value (Treatment group)  \\\n",
       "0         urate                         7.148718   \n",
       "1      nonwhite                         0.623932   \n",
       "2           age                        33.475214   \n",
       "3            ed                         9.205128   \n",
       "\n",
       "   Average value (Control group)  Difference(Treat - Control)       p-value  \n",
       "0                       7.042334                     0.106383  2.129648e-01  \n",
       "1                       0.472125                     0.151806  1.812928e-07  \n",
       "2                      37.942509                    -4.467295  1.909031e-14  \n",
       "3                       8.923345                     0.281783  4.778968e-02  "
      ]
     },
     "execution_count": 48,
     "metadata": {},
     "output_type": "execute_result"
    }
   ],
   "source": [
    "#Differences at baseline :\n",
    "baseline = data.loc[(data.year == 1993) & (data.work == 1),]\n",
    "#Dropping the non- demographic variables\n",
    "baseline = baseline.drop ('finc',axis = 1)\n",
    "baseline = baseline.drop ('earn',axis = 1)\n",
    "bl_treat = baseline.loc[baseline.children >= 1].dropna()\n",
    "bl_control = baseline.loc[baseline.children == 0].dropna()\n",
    "\n",
    "#print(bl_control.dtypes)\n",
    "#Drop string containing columns\n",
    "bl_treat.drop(['year','work','children'], axis=1, inplace=True)\n",
    "bl_control.drop(['year','work','children'], axis=1, inplace=True)\n",
    "\n",
    "mtreat = bl_treat.mean()\n",
    "mcontrol = bl_control.mean()\n",
    "diff = bl_treat.mean() - bl_control.mean()\n",
    "output = pd.concat([mtreat, mcontrol, diff], axis=1).reset_index()\n",
    "output.rename(columns={'index': 'Variable name', 0: 'Average value (Treatment group)', \n",
    "                       1: 'Average value (Control group)', 2: \"Difference(Treat - Control)\"}, inplace=True)\n",
    "diff_p = []\n",
    "for column in bl_control:\n",
    "    __, p_value = ttest_ind(bl_treat[column], bl_control[column])\n",
    "    diff_p.append({'p-value': p_value})\n",
    "diff_p = pd.DataFrame(diff_p)\n",
    "final_output = pd.concat([output, diff_p], axis=1)\n",
    "pd.concat([output, diff_p], axis=1)"
   ]
  },
  {
   "cell_type": "code",
   "execution_count": 49,
   "metadata": {},
   "outputs": [
    {
     "name": "stdout",
     "output_type": "stream",
     "text": [
      "From our analysis, we can see that a valid treatment group would be those families that have atleast one child for the reform of 1993\n"
     ]
    }
   ],
   "source": [
    "print(\"From our analysis, we can see that a valid treatment group would be those families that have atleast one child for the reform of 1993\")"
   ]
  },
  {
   "cell_type": "code",
   "execution_count": 50,
   "metadata": {},
   "outputs": [],
   "source": [
    "#Measuring Impact\n",
    "#Before- After Estimator :\n",
    "t_df = data[(data['work'] == 1) & (data['children'] >= 1)]\n",
    "t_df =t_df.loc[:,['work', 'year','ed']]\n",
    "\n",
    "t_93_df = t_df[t_df['year'] == 1993]\n",
    "t_94_df = t_df[t_df['year'] >= 1994]\n",
    "\n",
    "#For mean sc to give enroll percentage from 0-100, instead of 0-1\n",
    "t_93_df.loc[:,'work'] *= 100   #.loc to prevent SettingWithCopyWarning \n",
    "t_94_df.loc[:,'work'] *= 100   \n",
    "\n",
    "#Mean for each poor village\n",
    "mean_93_df = t_93_df.groupby('work' , as_index = False).mean()\n",
    "mean_94_df = t_94_df.groupby('work' , as_index = False).mean()\n"
   ]
  },
  {
   "cell_type": "code",
   "execution_count": 51,
   "metadata": {},
   "outputs": [
    {
     "name": "stdout",
     "output_type": "stream",
     "text": [
      "The before years are 1993 and the after years are all the years starting 1994 aka 1994 to 1996 as per our data\n"
     ]
    }
   ],
   "source": [
    "print(\"The before years are 1993 and the after years are all the years starting 1994 aka 1994 to 1996 as per our data\")"
   ]
  },
  {
   "cell_type": "code",
   "execution_count": 52,
   "metadata": {},
   "outputs": [
    {
     "data": {
      "text/html": [
       "<div>\n",
       "<style scoped>\n",
       "    .dataframe tbody tr th:only-of-type {\n",
       "        vertical-align: middle;\n",
       "    }\n",
       "\n",
       "    .dataframe tbody tr th {\n",
       "        vertical-align: top;\n",
       "    }\n",
       "\n",
       "    .dataframe thead th {\n",
       "        text-align: right;\n",
       "    }\n",
       "</style>\n",
       "<table border=\"1\" class=\"dataframe\">\n",
       "  <thead>\n",
       "    <tr style=\"text-align: right;\">\n",
       "      <th></th>\n",
       "      <th>Control Mean</th>\n",
       "      <th>Treatment Mean</th>\n",
       "      <th>Difference</th>\n",
       "      <th>T Value</th>\n",
       "      <th>P Value</th>\n",
       "    </tr>\n",
       "  </thead>\n",
       "  <tbody>\n",
       "    <tr>\n",
       "      <td>0</td>\n",
       "      <td>12371.051726</td>\n",
       "      <td>15460.012386</td>\n",
       "      <td>3088.960659</td>\n",
       "      <td>3.364997</td>\n",
       "      <td>0.000794</td>\n",
       "    </tr>\n",
       "  </tbody>\n",
       "</table>\n",
       "</div>"
      ],
      "text/plain": [
       "   Control Mean  Treatment Mean   Difference   T Value   P Value\n",
       "0  12371.051726    15460.012386  3088.960659  3.364997  0.000794"
      ]
     },
     "execution_count": 52,
     "metadata": {},
     "output_type": "execute_result"
    }
   ],
   "source": [
    "pre_treat_df =   data[(data['year'] == 1993) & (data['work'] == 1) & (data['children'] >= 1)]\n",
    "pre_ctrl_df =   data[(data['year'] == 1993) & (data['work'] == 0) & (data['children'] == 0)]\n",
    "\n",
    "# Calculating means\n",
    "treat_mean_1 = pre_treat_df['finc'].mean()\n",
    "control_mean_1= pre_ctrl_df['finc'].mean()\n",
    "\n",
    "# Running T-Test\n",
    "tt_93 = stats.ttest_ind(pre_treat_df['finc'],pre_ctrl_df['finc'], nan_policy='omit')\n",
    "\n",
    "# Adding to data frame\n",
    "pd.DataFrame.from_items([('Control Mean', [control_mean_1]), \n",
    "                         ('Treatment Mean', [treat_mean_1]), \n",
    "                         ('Difference', [treat_mean_1 - control_mean_1]),\n",
    "                         ('T Value', [tt_93[0]]), ('P Value', [tt_93[1]])])"
   ]
  },
  {
   "cell_type": "code",
   "execution_count": 53,
   "metadata": {},
   "outputs": [
    {
     "data": {
      "text/html": [
       "<div>\n",
       "<style scoped>\n",
       "    .dataframe tbody tr th:only-of-type {\n",
       "        vertical-align: middle;\n",
       "    }\n",
       "\n",
       "    .dataframe tbody tr th {\n",
       "        vertical-align: top;\n",
       "    }\n",
       "\n",
       "    .dataframe thead th {\n",
       "        text-align: right;\n",
       "    }\n",
       "</style>\n",
       "<table border=\"1\" class=\"dataframe\">\n",
       "  <thead>\n",
       "    <tr style=\"text-align: right;\">\n",
       "      <th></th>\n",
       "      <th>Control Mean</th>\n",
       "      <th>Treatment Mean</th>\n",
       "      <th>Difference</th>\n",
       "      <th>T Value</th>\n",
       "      <th>P Value</th>\n",
       "    </tr>\n",
       "  </thead>\n",
       "  <tbody>\n",
       "    <tr>\n",
       "      <td>0</td>\n",
       "      <td>12899.912081</td>\n",
       "      <td>17004.681131</td>\n",
       "      <td>4104.76905</td>\n",
       "      <td>6.266347</td>\n",
       "      <td>4.238018e-10</td>\n",
       "    </tr>\n",
       "  </tbody>\n",
       "</table>\n",
       "</div>"
      ],
      "text/plain": [
       "   Control Mean  Treatment Mean  Difference   T Value       P Value\n",
       "0  12899.912081    17004.681131  4104.76905  6.266347  4.238018e-10"
      ]
     },
     "execution_count": 53,
     "metadata": {},
     "output_type": "execute_result"
    }
   ],
   "source": [
    "post_treat_df =   data[(data['year'] >= 1994) & (data['work'] == 1) & (data['children'] >= 1)]\n",
    "post_ctrl_df =   data[(data['year'] >= 1994) & (data['work'] == 0) & (data['children'] == 0)]\n",
    "\n",
    "# Calculating means\n",
    "treat_mean = post_treat_df['finc'].mean()\n",
    "control_mean = post_ctrl_df['finc'].mean()\n",
    "\n",
    "# Running T-Test\n",
    "tt_94 = stats.ttest_ind(post_treat_df['finc'],post_ctrl_df['finc'], nan_policy='omit')\n",
    "\n",
    "# Adding to data frame\n",
    "pd.DataFrame.from_items([('Control Mean', [control_mean]), \n",
    "                         ('Treatment Mean', [treat_mean]), \n",
    "                         ('Difference', [treat_mean - control_mean]),\n",
    "                         ('T Value', [tt_94[0]]), ('P Value', [tt_94[1]])])"
   ]
  },
  {
   "cell_type": "code",
   "execution_count": 54,
   "metadata": {},
   "outputs": [
    {
     "name": "stdout",
     "output_type": "stream",
     "text": [
      "\n",
      "Multiple regression : Families in 1993 - Treatment/Control and Age, Earnings , No of Children etc\n",
      "                            OLS Regression Results                            \n",
      "==============================================================================\n",
      "Dep. Variable:                   finc   R-squared:                       0.866\n",
      "Model:                            OLS   Adj. R-squared:                  0.865\n",
      "Method:                 Least Squares   F-statistic:                     2510.\n",
      "Date:                Mon, 16 Mar 2020   Prob (F-statistic):               0.00\n",
      "Time:                        14:19:24   Log-Likelihood:                -23683.\n",
      "No. Observations:                2342   AIC:                         4.738e+04\n",
      "Df Residuals:                    2335   BIC:                         4.742e+04\n",
      "Df Model:                           6                                         \n",
      "Covariance Type:            nonrobust                                         \n",
      "==============================================================================\n",
      "                 coef    std err          t      P>|t|      [0.025      0.975]\n",
      "------------------------------------------------------------------------------\n",
      "Intercept   6846.1386    836.596      8.183      0.000    5205.590    8486.687\n",
      "work       -3825.6563    273.504    -13.988      0.000   -4361.993   -3289.320\n",
      "ed          -125.8225     48.263     -2.607      0.009    -220.465     -31.180\n",
      "earn           1.0204      0.009    116.436      0.000       1.003       1.038\n",
      "children     174.0382     94.334      1.845      0.065     -10.948     359.025\n",
      "urate        213.8066     93.295      2.292      0.022      30.856     396.757\n",
      "nonwhite   -1559.3105    266.695     -5.847      0.000   -2082.294   -1036.328\n",
      "==============================================================================\n",
      "Omnibus:                     1594.617   Durbin-Watson:                   2.040\n",
      "Prob(Omnibus):                  0.000   Jarque-Bera (JB):            31533.395\n",
      "Skew:                           2.947   Prob(JB):                         0.00\n",
      "Kurtosis:                      19.982   Cond. No.                     1.24e+05\n",
      "==============================================================================\n",
      "\n",
      "Warnings:\n",
      "[1] Standard Errors assume that the covariance matrix of the errors is correctly specified.\n",
      "[2] The condition number is large, 1.24e+05. This might indicate that there are\n",
      "strong multicollinearity or other numerical problems.\n"
     ]
    }
   ],
   "source": [
    "# Fitting linear model\n",
    "df_93 = data[(data['year'] == 1993)]\n",
    "\n",
    "multi_model = smf.ols(formula = 'finc ~ work+ ed + earn + children + urate + nonwhite ', data = df_93)\n",
    "multi_res=multi_model.fit()\n",
    "\n",
    "# Print\n",
    "print(\"\\nMultiple regression : Families in 1993 - Treatment/Control and Age, Earnings , No of Children etc\")\n",
    "print(multi_res.summary())"
   ]
  },
  {
   "cell_type": "code",
   "execution_count": 55,
   "metadata": {},
   "outputs": [
    {
     "name": "stdout",
     "output_type": "stream",
     "text": [
      "\n",
      "Multiple regression : Families in 1993 - Treatment/Control and Age, Earnings , No of Children etc\n",
      "                            OLS Regression Results                            \n",
      "==============================================================================\n",
      "Dep. Variable:                   finc   R-squared:                       0.897\n",
      "Model:                            OLS   Adj. R-squared:                  0.897\n",
      "Method:                 Least Squares   F-statistic:                     9197.\n",
      "Date:                Mon, 16 Mar 2020   Prob (F-statistic):               0.00\n",
      "Time:                        14:19:25   Log-Likelihood:                -65133.\n",
      "No. Observations:                6345   AIC:                         1.303e+05\n",
      "Df Residuals:                    6338   BIC:                         1.303e+05\n",
      "Df Model:                           6                                         \n",
      "Covariance Type:            nonrobust                                         \n",
      "==============================================================================\n",
      "                 coef    std err          t      P>|t|      [0.025      0.975]\n",
      "------------------------------------------------------------------------------\n",
      "Intercept   7672.9524    558.325     13.743      0.000    6578.447    8767.458\n",
      "work       -3972.8090    184.978    -21.477      0.000   -4335.429   -3610.189\n",
      "ed          -175.5025     34.068     -5.152      0.000    -242.286    -108.719\n",
      "earn           1.0313      0.005    228.698      0.000       1.022       1.040\n",
      "children     353.1723     64.956      5.437      0.000     225.837     480.507\n",
      "urate        153.8762     71.430      2.154      0.031      13.850     293.903\n",
      "nonwhite   -1558.2961    190.580     -8.177      0.000   -1931.897   -1184.695\n",
      "==============================================================================\n",
      "Omnibus:                     6990.357   Durbin-Watson:                   1.997\n",
      "Prob(Omnibus):                  0.000   Jarque-Bera (JB):           956778.144\n",
      "Skew:                           5.445   Prob(JB):                         0.00\n",
      "Kurtosis:                      62.165   Cond. No.                     1.49e+05\n",
      "==============================================================================\n",
      "\n",
      "Warnings:\n",
      "[1] Standard Errors assume that the covariance matrix of the errors is correctly specified.\n",
      "[2] The condition number is large, 1.49e+05. This might indicate that there are\n",
      "strong multicollinearity or other numerical problems.\n"
     ]
    }
   ],
   "source": [
    "# Fitting linear model\n",
    "df_94 = data[(data['year'] >= 1994)]\n",
    "\n",
    "multi_model = smf.ols(formula = 'finc ~ work + ed + earn + children + urate + nonwhite ', data = df_94)\n",
    "multi_res=multi_model.fit()\n",
    "\n",
    "# Print\n",
    "print(\"\\nMultiple regression : Families in 1993 - Treatment/Control and Age, Earnings , No of Children etc\")\n",
    "print(multi_res.summary())"
   ]
  },
  {
   "cell_type": "code",
   "execution_count": 56,
   "metadata": {},
   "outputs": [
    {
     "name": "stdout",
     "output_type": "stream",
     "text": [
      "\n",
      "Simple regression : Families in 1993 - Treatment/Control\n",
      "                            OLS Regression Results                            \n",
      "==============================================================================\n",
      "Dep. Variable:               children   R-squared:                       0.034\n",
      "Model:                            OLS   Adj. R-squared:                  0.034\n",
      "Method:                 Least Squares   F-statistic:                     83.55\n",
      "Date:                Mon, 16 Mar 2020   Prob (F-statistic):           1.31e-19\n",
      "Time:                        14:19:25   Log-Likelihood:                -4014.4\n",
      "No. Observations:                2342   AIC:                             8033.\n",
      "Df Residuals:                    2340   BIC:                             8044.\n",
      "Df Model:                           1                                         \n",
      "Covariance Type:            nonrobust                                         \n",
      "==============================================================================\n",
      "                 coef    std err          t      P>|t|      [0.025      0.975]\n",
      "------------------------------------------------------------------------------\n",
      "Intercept      1.4404      0.039     36.864      0.000       1.364       1.517\n",
      "work          -0.5077      0.056     -9.141      0.000      -0.617      -0.399\n",
      "==============================================================================\n",
      "Omnibus:                      515.509   Durbin-Watson:                   1.952\n",
      "Prob(Omnibus):                  0.000   Jarque-Bera (JB):             1114.917\n",
      "Skew:                           1.254   Prob(JB):                    7.92e-243\n",
      "Kurtosis:                       5.266   Cond. No.                         2.61\n",
      "==============================================================================\n",
      "\n",
      "Warnings:\n",
      "[1] Standard Errors assume that the covariance matrix of the errors is correctly specified.\n"
     ]
    }
   ],
   "source": [
    "# Considering only 1993\n",
    "df_93 = data[(data['year'] == 1993)]\n",
    "\n",
    "\n",
    "# Fitting linear model\n",
    "simple_model = smf.ols(formula = 'children ~ work', data = df_93)\n",
    "simple_res=simple_model.fit()\n",
    "\n",
    "# Print\n",
    "print(\"\\nSimple regression : Families in 1993 - Treatment/Control\")\n",
    "print(simple_res.summary())"
   ]
  },
  {
   "cell_type": "code",
   "execution_count": 57,
   "metadata": {},
   "outputs": [
    {
     "name": "stdout",
     "output_type": "stream",
     "text": [
      "\n",
      "Simple regression : Families in 1994 and onwards - Treatment/Control\n",
      "                            OLS Regression Results                            \n",
      "==============================================================================\n",
      "Dep. Variable:               children   R-squared:                       0.018\n",
      "Model:                            OLS   Adj. R-squared:                  0.018\n",
      "Method:                 Least Squares   F-statistic:                     116.3\n",
      "Date:                Mon, 16 Mar 2020   Prob (F-statistic):           6.88e-27\n",
      "Time:                        14:19:26   Log-Likelihood:                -11022.\n",
      "No. Observations:                6345   AIC:                         2.205e+04\n",
      "Df Residuals:                    6343   BIC:                         2.206e+04\n",
      "Df Model:                           1                                         \n",
      "Covariance Type:            nonrobust                                         \n",
      "==============================================================================\n",
      "                 coef    std err          t      P>|t|      [0.025      0.975]\n",
      "------------------------------------------------------------------------------\n",
      "Intercept      1.3767      0.025     54.866      0.000       1.328       1.426\n",
      "work          -0.3729      0.035    -10.786      0.000      -0.441      -0.305\n",
      "==============================================================================\n",
      "Omnibus:                     1396.940   Durbin-Watson:                   1.963\n",
      "Prob(Omnibus):                  0.000   Jarque-Bera (JB):             2906.928\n",
      "Skew:                           1.293   Prob(JB):                         0.00\n",
      "Kurtosis:                       5.077   Cond. No.                         2.69\n",
      "==============================================================================\n",
      "\n",
      "Warnings:\n",
      "[1] Standard Errors assume that the covariance matrix of the errors is correctly specified.\n"
     ]
    }
   ],
   "source": [
    "# Considering only 1994 onwards\n",
    "df_94 = data[(data['year'] >= 1994)]\n",
    "\n",
    "\n",
    "# Fitting linear model\n",
    "simple_model = smf.ols(formula = 'children ~ work', data = df_94)\n",
    "simple_res=simple_model.fit()\n",
    "\n",
    "# Print\n",
    "print(\"\\nSimple regression : Families in 1994 and onwards - Treatment/Control\")\n",
    "print(simple_res.summary())"
   ]
  },
  {
   "cell_type": "code",
   "execution_count": 58,
   "metadata": {},
   "outputs": [
    {
     "name": "stdout",
     "output_type": "stream",
     "text": [
      "\n",
      "Simple Model - Standard Errors\n",
      " Intercept    0.025093\n",
      "work         0.034570\n",
      "dtype: float64\n",
      "\n",
      "Model with Controls - Standard Errors\n",
      " Intercept    558.324588\n",
      "work         184.978111\n",
      "ed            34.067510\n",
      "earn           0.004510\n",
      "children      64.955691\n",
      "urate         71.429731\n",
      "nonwhite     190.579953\n",
      "dtype: float64\n"
     ]
    }
   ],
   "source": [
    "print('\\nSimple Model - Standard Errors\\n', simple_res.bse)\n",
    "print('\\nModel with Controls - Standard Errors\\n', multi_res.bse)"
   ]
  },
  {
   "cell_type": "code",
   "execution_count": 59,
   "metadata": {},
   "outputs": [
    {
     "name": "stdout",
     "output_type": "stream",
     "text": [
      "\\  Families in 1993 - Treatment/Control and demographic factors\n",
      "            Before EITC (93)  After EITC (94)\n",
      "Control         12371.051726     22420.521810\n",
      "Treatment        8931.943753     17004.681131\n",
      "Difference      10049.470084      8072.737378\n",
      "\n",
      "The difference in difference is : -1976.7327059782638\n"
     ]
    }
   ],
   "source": [
    "#Difference in Difference Estimator using the a 4 way simple table :\n",
    "#Using 1997 and 1998, looking at difference across treatment and control for POOR families\n",
    "# Computing the means required for difference in difference\n",
    "PreControlMean =    data[(data['children'] == 0) & (data['year'] == 1993) & (data['work'] == 0)].mean()['finc']\n",
    "PostControlMean =    data[(data['children'] == 0) & (data['year'] >= 1994) & (data['work'] == 1)].mean()['finc']\n",
    "\n",
    "PreTreatMean =    data[(data['children'] >= 1) & (data['year'] == 1993) & (data['work'] == 0)].mean()['finc']\n",
    "PostTreatMean =    data[(data['children'] >= 1) & (data['year'] >= 1994) & (data['work'] == 1)].mean()['finc']\n",
    "\n",
    "ControlDiff =   PostControlMean - PreControlMean\n",
    "TreatmentDiff = PostTreatMean - PreTreatMean\n",
    "DiffInDiff =    TreatmentDiff - ControlDiff\n",
    "\n",
    "# Arranging means in a table using Series\n",
    "diff_table = {'Before EITC (93)':pd.Series([PreControlMean, PreTreatMean, ControlDiff], index = ['Control', 'Treatment', 'Difference']),\n",
    "       'After EITC (94)':pd.Series([PostControlMean, PostTreatMean, TreatmentDiff], index = ['Control', 'Treatment', 'Difference']),}\n",
    "\n",
    "print(\"\\  Families in 1993 - Treatment/Control and demographic factors\")\n",
    "print (pd.DataFrame(diff_table))\n",
    "print('\\nThe difference in difference is :', DiffInDiff)"
   ]
  },
  {
   "cell_type": "code",
   "execution_count": 60,
   "metadata": {},
   "outputs": [
    {
     "name": "stdout",
     "output_type": "stream",
     "text": [
      "From our analysis we can see that the growth EITC increase in working families having one or more children.The increase is almost by 5% points for the control group\n"
     ]
    }
   ],
   "source": [
    "print(\"From our analysis we can see that the growth EITC increase in working families having one or more children.The increase is almost by 5% points for the control group\")"
   ]
  },
  {
   "cell_type": "code",
   "execution_count": 61,
   "metadata": {},
   "outputs": [
    {
     "name": "stdout",
     "output_type": "stream",
     "text": [
      "Yes we see from the regression that the effect is statistically significant\n"
     ]
    }
   ],
   "source": [
    "print(\"Yes we see from the regression that the effect is statistically significant\")"
   ]
  },
  {
   "cell_type": "code",
   "execution_count": 62,
   "metadata": {},
   "outputs": [
    {
     "name": "stdout",
     "output_type": "stream",
     "text": [
      "The counterfactual assumption here is that: \n",
      "1.We comapare EITC increase/decrease for families eligible for EITC (those with children) and those not eligible (those with no children)\n",
      "2.We do not use longitudinal data, which allow us to account for unobserved, household-specific, time-invariant factors that affect employment. Longitudinal data also help us avoid bias due to (unobserved) changes in the composition of “treatment” and “control”groups. Thus our treatment and control groups are biased \n",
      "3. We assume that the data contains those groups that are eligible for EITC,always file for it and claim it\n",
      "4.We are assuming parallel trends. This may or may not be true. We are assuming that the experiment was perfectly randomized. This may or may not be true either.\n",
      "5.There are not preexisting trends that are driving the results.\n",
      "All these assumptions are convincing as we are trying to understand the effect of a policy without taking external conditions such as the economy at the time into account, thus when we try to attribute the working conditions and earnings to EITC, these assumptions help narrow down the factors, normalize errors in diff in diff estimator and understand the relationship between covariants\n",
      "Most of these assumptions are okay for our analysis but not plausible\n"
     ]
    }
   ],
   "source": [
    "print(\"The counterfactual assumption here is that: \")\n",
    "print(\"1.We comapare EITC increase/decrease for families eligible for EITC (those with children) and those not eligible (those with no children)\")\n",
    "print(\"2.We do not use longitudinal data, which allow us to account for unobserved, household-specific, time-invariant factors that affect employment. Longitudinal data also help us avoid bias due to (unobserved) changes in the composition of “treatment” and “control”groups. Thus our treatment and control groups are biased \")\n",
    "print(\"3. We assume that the data contains those groups that are eligible for EITC,always file for it and claim it\")\n",
    "print(\"4.We are assuming parallel trends. This may or may not be true. We are assuming that the experiment was perfectly randomized. This may or may not be true either.\")\n",
    "print(\"5.There are not preexisting trends that are driving the results.\")\n",
    "print(\"All these assumptions are convincing as we are trying to understand the effect of a policy without taking external conditions such as the economy at the time into account, thus when we try to attribute the working conditions and earnings to EITC, these assumptions help narrow down the factors, normalize errors in diff in diff estimator and understand the relationship between covariants\")\n",
    "print(\"Most of these assumptions are okay for our analysis but not plausible\")"
   ]
  },
  {
   "cell_type": "code",
   "execution_count": 63,
   "metadata": {},
   "outputs": [
    {
     "name": "stdout",
     "output_type": "stream",
     "text": [
      "After including covariants,the difference in difference estimator is larger and more statistically significant.\n",
      "Here we see that that including the nonwhite variable, shows us that a nonwhite family is less likely to be working.\n",
      "The local unemployment rate does affect the work, but it is not statistically significant\n",
      "The treatment effect is strongest for families with two or more children.  This makes sense, since the EITC increases for 2 children, lending greater credibility to the results.\n",
      "We also observe that adding education as one of the covariants does not affect the results\n"
     ]
    }
   ],
   "source": [
    "print(\"After including covariants,the difference in difference estimator is larger and more statistically significant.\")\n",
    "print(\"Here we see that that including the nonwhite variable, shows us that a nonwhite family is less likely to be working.\")\n",
    "print(\"The local unemployment rate does affect the work, but it is not statistically significant\")\n",
    "print(\"The treatment effect is strongest for families with two or more children.  This makes sense, since the EITC increases for 2 children, lending greater credibility to the results.\")\n",
    "print(\"We also observe that adding education as one of the covariants does not affect the results\")"
   ]
  },
  {
   "cell_type": "code",
   "execution_count": 64,
   "metadata": {},
   "outputs": [
    {
     "name": "stdout",
     "output_type": "stream",
     "text": [
      "Thus we can say that the diff in diff regression model tells us that EITC is statistically significant and children, non white greatly influence the earnings of families during the time\n"
     ]
    }
   ],
   "source": [
    "print(\"Thus we can say that the diff in diff regression model tells us that EITC is statistically significant and children, non white greatly influence the earnings of families during the time\")"
   ]
  },
  {
   "cell_type": "code",
   "execution_count": 65,
   "metadata": {},
   "outputs": [
    {
     "name": "stdout",
     "output_type": "stream",
     "text": [
      "TEXT CLASSIFICATION :\n"
     ]
    }
   ],
   "source": [
    "print(\"TEXT CLASSIFICATION :\")"
   ]
  },
  {
   "cell_type": "code",
   "execution_count": 66,
   "metadata": {},
   "outputs": [
    {
     "name": "stdout",
     "output_type": "stream",
     "text": [
      "IPython version:       7.8.0 (need at least 1.0)\n",
      "Numpy version:        1.17.2 (need at least 1.7.1)\n",
      "SciPy version:         1.3.1 (need at least 0.12.0)\n",
      "Pandas version:       0.25.1 (need at least 0.11.0)\n",
      "Matpltolib version:     3.1.1 (need at least 1.2.1)\n",
      "Scikit-Learn version: 0.21.3 (need at least 0.13.1)\n"
     ]
    }
   ],
   "source": [
    "#IPython is what you are using now to run the notebook\n",
    "import IPython\n",
    "print( \"IPython version:      %6.6s (need at least 1.0)\" % IPython.__version__)\n",
    "\n",
    "# Numpy is a library for working with arrays and matrices\n",
    "import numpy as np\n",
    "print( \"Numpy version:        %6.6s (need at least 1.7.1)\" % np.__version__)\n",
    "\n",
    "# SciPy implements many different numerical algorithms\n",
    "import scipy as sp\n",
    "print( \"SciPy version:        %6.6s (need at least 0.12.0)\" % sp.__version__)\n",
    "\n",
    "# Pandas makes working with data tables easier\n",
    "import pandas as pd\n",
    "print( \"Pandas version:       %6.6s (need at least 0.11.0)\" % pd.__version__)\n",
    "\n",
    "# Module for plotting\n",
    "import matplotlib.pyplot as plt  \n",
    "from pylab import *\n",
    "print( \"Matpltolib version:    %6.6s (need at least 1.2.1)\" %\n",
    "       matplotlib.__version__)\n",
    "%matplotlib inline\n",
    "# necessary for in-line graphics\n",
    "\n",
    "# SciKit Learn implements several Machine Learning algorithms\n",
    "import sklearn\n",
    "print(\"Scikit-Learn version: %6.6s (need at least 0.13.1)\" %\n",
    "       sklearn.__version__)\n",
    "import os\n",
    "# for certain system-related functions\n",
    "\n",
    "import warnings\n",
    "warnings.filterwarnings('ignore')\n",
    "\n",
    "from sklearn.model_selection import train_test_split\n",
    "from sklearn.feature_extraction.text import CountVectorizer\n",
    "from sklearn.metrics.pairwise import cosine_similarity"
   ]
  },
  {
   "cell_type": "code",
   "execution_count": 67,
   "metadata": {},
   "outputs": [],
   "source": [
    "# Reading the world Value data\n",
    "df = pd.read_csv(\"amazon-reviews.csv.bz2\", sep ='\\t')"
   ]
  },
  {
   "cell_type": "code",
   "execution_count": 68,
   "metadata": {},
   "outputs": [
    {
     "name": "stdout",
     "output_type": "stream",
     "text": [
      "(205331, 4)\n"
     ]
    },
    {
     "data": {
      "text/html": [
       "<div>\n",
       "<style scoped>\n",
       "    .dataframe tbody tr th:only-of-type {\n",
       "        vertical-align: middle;\n",
       "    }\n",
       "\n",
       "    .dataframe tbody tr th {\n",
       "        vertical-align: top;\n",
       "    }\n",
       "\n",
       "    .dataframe thead th {\n",
       "        text-align: right;\n",
       "    }\n",
       "</style>\n",
       "<table border=\"1\" class=\"dataframe\">\n",
       "  <thead>\n",
       "    <tr style=\"text-align: right;\">\n",
       "      <th></th>\n",
       "      <th>date</th>\n",
       "      <th>summary</th>\n",
       "      <th>review</th>\n",
       "      <th>rating</th>\n",
       "    </tr>\n",
       "  </thead>\n",
       "  <tbody>\n",
       "    <tr>\n",
       "      <td>0</td>\n",
       "      <td>2013-07-16</td>\n",
       "      <td>Awesine</td>\n",
       "      <td>Perfect for new parents. We were able to keep ...</td>\n",
       "      <td>5</td>\n",
       "    </tr>\n",
       "    <tr>\n",
       "      <td>1</td>\n",
       "      <td>2013-06-29</td>\n",
       "      <td>Should be required for all new parents!</td>\n",
       "      <td>This book is such a life saver.  It has been s...</td>\n",
       "      <td>5</td>\n",
       "    </tr>\n",
       "    <tr>\n",
       "      <td>2</td>\n",
       "      <td>2014-03-19</td>\n",
       "      <td>Grandmother watching baby</td>\n",
       "      <td>Helps me know exactly how my babies day has go...</td>\n",
       "      <td>5</td>\n",
       "    </tr>\n",
       "    <tr>\n",
       "      <td>3</td>\n",
       "      <td>2013-08-17</td>\n",
       "      <td>repeat buyer</td>\n",
       "      <td>I bought this a few times for my older son and...</td>\n",
       "      <td>5</td>\n",
       "    </tr>\n",
       "    <tr>\n",
       "      <td>4</td>\n",
       "      <td>2014-04-01</td>\n",
       "      <td>Great</td>\n",
       "      <td>I wanted an alternative to printing out daily ...</td>\n",
       "      <td>4</td>\n",
       "    </tr>\n",
       "    <tr>\n",
       "      <td>5</td>\n",
       "      <td>2014-05-10</td>\n",
       "      <td>Great for basics, but not detail</td>\n",
       "      <td>This is great for basics, but I wish the space...</td>\n",
       "      <td>4</td>\n",
       "    </tr>\n",
       "    <tr>\n",
       "      <td>6</td>\n",
       "      <td>2013-07-17</td>\n",
       "      <td>Perfect for the working mom</td>\n",
       "      <td>My 3 month old son spend half of his days with...</td>\n",
       "      <td>5</td>\n",
       "    </tr>\n",
       "    <tr>\n",
       "      <td>7</td>\n",
       "      <td>2013-01-27</td>\n",
       "      <td>Great for newborns</td>\n",
       "      <td>This book is perfect!  I'm a first time new mo...</td>\n",
       "      <td>5</td>\n",
       "    </tr>\n",
       "    <tr>\n",
       "      <td>8</td>\n",
       "      <td>2014-04-22</td>\n",
       "      <td>It's ok, but I liked a regular weekly planner ...</td>\n",
       "      <td>I wanted to love this, but it was pretty expen...</td>\n",
       "      <td>3</td>\n",
       "    </tr>\n",
       "    <tr>\n",
       "      <td>9</td>\n",
       "      <td>2013-11-19</td>\n",
       "      <td>Best for Tracking!</td>\n",
       "      <td>The Baby Tracker brand books are the absolute ...</td>\n",
       "      <td>5</td>\n",
       "    </tr>\n",
       "  </tbody>\n",
       "</table>\n",
       "</div>"
      ],
      "text/plain": [
       "         date                                            summary  \\\n",
       "0  2013-07-16                                            Awesine   \n",
       "1  2013-06-29            Should be required for all new parents!   \n",
       "2  2014-03-19                          Grandmother watching baby   \n",
       "3  2013-08-17                                       repeat buyer   \n",
       "4  2014-04-01                                              Great   \n",
       "5  2014-05-10                   Great for basics, but not detail   \n",
       "6  2013-07-17                        Perfect for the working mom   \n",
       "7  2013-01-27                                 Great for newborns   \n",
       "8  2014-04-22  It's ok, but I liked a regular weekly planner ...   \n",
       "9  2013-11-19                                 Best for Tracking!   \n",
       "\n",
       "                                              review  rating  \n",
       "0  Perfect for new parents. We were able to keep ...       5  \n",
       "1  This book is such a life saver.  It has been s...       5  \n",
       "2  Helps me know exactly how my babies day has go...       5  \n",
       "3  I bought this a few times for my older son and...       5  \n",
       "4  I wanted an alternative to printing out daily ...       4  \n",
       "5  This is great for basics, but I wish the space...       4  \n",
       "6  My 3 month old son spend half of his days with...       5  \n",
       "7  This book is perfect!  I'm a first time new mo...       5  \n",
       "8  I wanted to love this, but it was pretty expen...       3  \n",
       "9  The Baby Tracker brand books are the absolute ...       5  "
      ]
     },
     "execution_count": 68,
     "metadata": {},
     "output_type": "execute_result"
    }
   ],
   "source": [
    "print(df.shape)\n",
    "df.head(10)"
   ]
  },
  {
   "cell_type": "code",
   "execution_count": 69,
   "metadata": {},
   "outputs": [
    {
     "data": {
      "text/plain": [
       "date        0\n",
       "summary    15\n",
       "review     80\n",
       "rating      0\n",
       "dtype: int64"
      ]
     },
     "execution_count": 69,
     "metadata": {},
     "output_type": "execute_result"
    }
   ],
   "source": [
    "df.isna().sum()"
   ]
  },
  {
   "cell_type": "code",
   "execution_count": 70,
   "metadata": {},
   "outputs": [
    {
     "data": {
      "text/plain": [
       "(205251, 4)"
      ]
     },
     "execution_count": 70,
     "metadata": {},
     "output_type": "execute_result"
    }
   ],
   "source": [
    "df=df.dropna(subset=[\"review\"])\n",
    "df.shape"
   ]
  },
  {
   "cell_type": "code",
   "execution_count": 71,
   "metadata": {},
   "outputs": [
    {
     "data": {
      "text/html": [
       "<div>\n",
       "<style scoped>\n",
       "    .dataframe tbody tr th:only-of-type {\n",
       "        vertical-align: middle;\n",
       "    }\n",
       "\n",
       "    .dataframe tbody tr th {\n",
       "        vertical-align: top;\n",
       "    }\n",
       "\n",
       "    .dataframe thead th {\n",
       "        text-align: right;\n",
       "    }\n",
       "</style>\n",
       "<table border=\"1\" class=\"dataframe\">\n",
       "  <thead>\n",
       "    <tr style=\"text-align: right;\">\n",
       "      <th></th>\n",
       "      <th>date</th>\n",
       "      <th>summary</th>\n",
       "      <th>review</th>\n",
       "      <th>rating</th>\n",
       "    </tr>\n",
       "  </thead>\n",
       "  <tbody>\n",
       "    <tr>\n",
       "      <td>187169</td>\n",
       "      <td>2016-09-04</td>\n",
       "      <td>Pricey, but with some benefits</td>\n",
       "      <td>3.5 starts - First thing that hits you is the ...</td>\n",
       "      <td>4</td>\n",
       "    </tr>\n",
       "    <tr>\n",
       "      <td>145513</td>\n",
       "      <td>2014-01-04</td>\n",
       "      <td>Couldn't survive without it.</td>\n",
       "      <td>Life will never be the same again with baby in...</td>\n",
       "      <td>5</td>\n",
       "    </tr>\n",
       "    <tr>\n",
       "      <td>150682</td>\n",
       "      <td>2013-09-06</td>\n",
       "      <td>Your baby as a mini Joe Namath with a horse sh...</td>\n",
       "      <td>I always see things like this and wonder why d...</td>\n",
       "      <td>4</td>\n",
       "    </tr>\n",
       "    <tr>\n",
       "      <td>185568</td>\n",
       "      <td>2015-10-21</td>\n",
       "      <td>La Roche-Posay New Pigment Serum, stands up to...</td>\n",
       "      <td>One of the most reputable names in skincare is...</td>\n",
       "      <td>5</td>\n",
       "    </tr>\n",
       "    <tr>\n",
       "      <td>122306</td>\n",
       "      <td>2013-10-31</td>\n",
       "      <td>For a limited time only</td>\n",
       "      <td>The one thing I did like about this monitor is...</td>\n",
       "      <td>1</td>\n",
       "    </tr>\n",
       "    <tr>\n",
       "      <td>...</td>\n",
       "      <td>...</td>\n",
       "      <td>...</td>\n",
       "      <td>...</td>\n",
       "      <td>...</td>\n",
       "    </tr>\n",
       "    <tr>\n",
       "      <td>68195</td>\n",
       "      <td>2014-02-27</td>\n",
       "      <td>Great</td>\n",
       "      <td>I was concerned this wouldn't fit well because...</td>\n",
       "      <td>5</td>\n",
       "    </tr>\n",
       "    <tr>\n",
       "      <td>201096</td>\n",
       "      <td>2011-06-19</td>\n",
       "      <td>Nice amp for the money</td>\n",
       "      <td>Nice amp for the money but couldn't push a sin...</td>\n",
       "      <td>3</td>\n",
       "    </tr>\n",
       "    <tr>\n",
       "      <td>69363</td>\n",
       "      <td>2012-01-03</td>\n",
       "      <td>Great bibs</td>\n",
       "      <td>We had bought a couple of these bibs when our ...</td>\n",
       "      <td>5</td>\n",
       "    </tr>\n",
       "    <tr>\n",
       "      <td>5256</td>\n",
       "      <td>2013-02-27</td>\n",
       "      <td>Love</td>\n",
       "      <td>Couldn't live without this pillow. I was a sto...</td>\n",
       "      <td>5</td>\n",
       "    </tr>\n",
       "    <tr>\n",
       "      <td>191389</td>\n",
       "      <td>2017-03-24</td>\n",
       "      <td>Moist and Soft Baby</td>\n",
       "      <td>Moist and Soft Baby\\n\\nSoft, moist baby skin w...</td>\n",
       "      <td>3</td>\n",
       "    </tr>\n",
       "  </tbody>\n",
       "</table>\n",
       "<p>10000 rows × 4 columns</p>\n",
       "</div>"
      ],
      "text/plain": [
       "              date                                            summary  \\\n",
       "187169  2016-09-04                     Pricey, but with some benefits   \n",
       "145513  2014-01-04                       Couldn't survive without it.   \n",
       "150682  2013-09-06  Your baby as a mini Joe Namath with a horse sh...   \n",
       "185568  2015-10-21  La Roche-Posay New Pigment Serum, stands up to...   \n",
       "122306  2013-10-31                            For a limited time only   \n",
       "...            ...                                                ...   \n",
       "68195   2014-02-27                                              Great   \n",
       "201096  2011-06-19                             Nice amp for the money   \n",
       "69363   2012-01-03                                         Great bibs   \n",
       "5256    2013-02-27                                               Love   \n",
       "191389  2017-03-24                                Moist and Soft Baby   \n",
       "\n",
       "                                                   review  rating  \n",
       "187169  3.5 starts - First thing that hits you is the ...       4  \n",
       "145513  Life will never be the same again with baby in...       5  \n",
       "150682  I always see things like this and wonder why d...       4  \n",
       "185568  One of the most reputable names in skincare is...       5  \n",
       "122306  The one thing I did like about this monitor is...       1  \n",
       "...                                                   ...     ...  \n",
       "68195   I was concerned this wouldn't fit well because...       5  \n",
       "201096  Nice amp for the money but couldn't push a sin...       3  \n",
       "69363   We had bought a couple of these bibs when our ...       5  \n",
       "5256    Couldn't live without this pillow. I was a sto...       5  \n",
       "191389  Moist and Soft Baby\\n\\nSoft, moist baby skin w...       3  \n",
       "\n",
       "[10000 rows x 4 columns]"
      ]
     },
     "execution_count": 71,
     "metadata": {},
     "output_type": "execute_result"
    }
   ],
   "source": [
    "np.random.seed(1)\n",
    "amzrev_df_sample=df.sample(10000) #Taking a sample of 10k observations\n",
    "amzrev_df_sample=pd.DataFrame(amzrev_df_sample)\n",
    "amzrev_df_sample"
   ]
  },
  {
   "cell_type": "code",
   "execution_count": 82,
   "metadata": {},
   "outputs": [],
   "source": [
    "amzrev_df_sample['outcome_rating_less_than_5'] = [1 if x < 5 else 0 for x in amzrev_df_sample['rating']] \n"
   ]
  },
  {
   "cell_type": "code",
   "execution_count": 99,
   "metadata": {},
   "outputs": [
    {
     "name": "stdout",
     "output_type": "stream",
     "text": [
      "                                                                                                     review  \\\n",
      "98159   I purchased a Moby wrap and an Ergo carrier to use with my newborn. I have 1 year old twins that...   \n",
      "87636   This product and brand has a great reputation with cloth diaper users. I was happy to find that ...   \n",
      "90687   We originally purchased the Munchkin bottle brush, which broke after a few months and never stay...   \n",
      "100450  After doing a lot of research through consumer reports and amazon reviews, I decided on this mat...   \n",
      "192313  No scent, is an amazing cleaner and doesn't feel oily when applied.  The only reason I gave it f...   \n",
      "68195   I was concerned this wouldn't fit well because I'm large busted (40H) but it works great and wou...   \n",
      "201096  Nice amp for the money but couldn't push a single Peavey SP218 Sub, so I moved this amp to push ...   \n",
      "69363   We had bought a couple of these bibs when our twins were under a year old. I loved that they loc...   \n",
      "5256    Couldn't live without this pillow. I was a stomach sleeper now that I'm pregnant I can't do that...   \n",
      "191389  Moist and Soft Baby\\n\\nSoft, moist baby skin with a little too much fragrance. I'd like an unsce...   \n",
      "\n",
      "        rating  \n",
      "98159        5  \n",
      "87636        5  \n",
      "90687        5  \n",
      "100450       5  \n",
      "192313       4  \n",
      "68195        5  \n",
      "201096       3  \n",
      "69363        5  \n",
      "5256         5  \n",
      "191389       3  \n"
     ]
    }
   ],
   "source": [
    "df = amzrev_df_sample[['review','rating']]\n",
    "with pd.option_context('display.max_colwidth', 100):\n",
    "    print (df.tail(10))\n",
    "\n"
   ]
  },
  {
   "cell_type": "code",
   "execution_count": 100,
   "metadata": {},
   "outputs": [
    {
     "name": "stdout",
     "output_type": "stream",
     "text": [
      "By reading a few reviews, we can tell that there are some positive words that are good indicators of the review.Most reviews that have a bad rating start with a negative expression or word. From the few reviews I observed that the word - excellent, the expression -could not live without indicate a review of 4-5 stars. Reviews that include words like nice and good had a rating of less that 5, most times a 3 or 4.\n"
     ]
    }
   ],
   "source": [
    "print(\"By reading a few reviews, we can tell that there are some positive words that are good indicators of the review.Most reviews that have a bad rating start with a negative expression or word. From the few reviews I observed that the word - excellent, the expression -could not live without indicate a review of 4-5 stars. Reviews that include words like nice and good had a rating of less that 5, most times a 3 or 4.\")"
   ]
  },
  {
   "cell_type": "code",
   "execution_count": 116,
   "metadata": {},
   "outputs": [],
   "source": [
    "vectorizer = CountVectorizer()\n",
    "X = vectorizer.fit_transform(amzrev_df_sample.review.values)\n",
    "words = vectorizer.get_feature_names()"
   ]
  },
  {
   "cell_type": "code",
   "execution_count": 117,
   "metadata": {},
   "outputs": [
    {
     "data": {
      "text/html": [
       "<div>\n",
       "<style scoped>\n",
       "    .dataframe tbody tr th:only-of-type {\n",
       "        vertical-align: middle;\n",
       "    }\n",
       "\n",
       "    .dataframe tbody tr th {\n",
       "        vertical-align: top;\n",
       "    }\n",
       "\n",
       "    .dataframe thead th {\n",
       "        text-align: right;\n",
       "    }\n",
       "</style>\n",
       "<table border=\"1\" class=\"dataframe\">\n",
       "  <thead>\n",
       "    <tr style=\"text-align: right;\">\n",
       "      <th></th>\n",
       "      <th>00</th>\n",
       "      <th>000</th>\n",
       "      <th>008</th>\n",
       "      <th>01</th>\n",
       "      <th>03</th>\n",
       "      <th>03oz</th>\n",
       "      <th>04</th>\n",
       "      <th>05</th>\n",
       "      <th>06</th>\n",
       "      <th>06my</th>\n",
       "      <th>...</th>\n",
       "      <th>zooming</th>\n",
       "      <th>zooper</th>\n",
       "      <th>zopper</th>\n",
       "      <th>zorb</th>\n",
       "      <th>zoya</th>\n",
       "      <th>zulily</th>\n",
       "      <th>zumba</th>\n",
       "      <th>zutano</th>\n",
       "      <th>zwilling</th>\n",
       "      <th>zzz</th>\n",
       "    </tr>\n",
       "  </thead>\n",
       "  <tbody>\n",
       "    <tr>\n",
       "      <td>0</td>\n",
       "      <td>0</td>\n",
       "      <td>0</td>\n",
       "      <td>0</td>\n",
       "      <td>0</td>\n",
       "      <td>0</td>\n",
       "      <td>0</td>\n",
       "      <td>0</td>\n",
       "      <td>0</td>\n",
       "      <td>0</td>\n",
       "      <td>0</td>\n",
       "      <td>...</td>\n",
       "      <td>0</td>\n",
       "      <td>0</td>\n",
       "      <td>0</td>\n",
       "      <td>0</td>\n",
       "      <td>0</td>\n",
       "      <td>0</td>\n",
       "      <td>0</td>\n",
       "      <td>0</td>\n",
       "      <td>0</td>\n",
       "      <td>0</td>\n",
       "    </tr>\n",
       "    <tr>\n",
       "      <td>1</td>\n",
       "      <td>0</td>\n",
       "      <td>0</td>\n",
       "      <td>0</td>\n",
       "      <td>0</td>\n",
       "      <td>0</td>\n",
       "      <td>0</td>\n",
       "      <td>0</td>\n",
       "      <td>0</td>\n",
       "      <td>0</td>\n",
       "      <td>0</td>\n",
       "      <td>...</td>\n",
       "      <td>0</td>\n",
       "      <td>0</td>\n",
       "      <td>0</td>\n",
       "      <td>0</td>\n",
       "      <td>0</td>\n",
       "      <td>0</td>\n",
       "      <td>0</td>\n",
       "      <td>0</td>\n",
       "      <td>0</td>\n",
       "      <td>0</td>\n",
       "    </tr>\n",
       "    <tr>\n",
       "      <td>2</td>\n",
       "      <td>0</td>\n",
       "      <td>0</td>\n",
       "      <td>0</td>\n",
       "      <td>0</td>\n",
       "      <td>0</td>\n",
       "      <td>0</td>\n",
       "      <td>0</td>\n",
       "      <td>0</td>\n",
       "      <td>0</td>\n",
       "      <td>0</td>\n",
       "      <td>...</td>\n",
       "      <td>0</td>\n",
       "      <td>0</td>\n",
       "      <td>0</td>\n",
       "      <td>0</td>\n",
       "      <td>0</td>\n",
       "      <td>0</td>\n",
       "      <td>0</td>\n",
       "      <td>0</td>\n",
       "      <td>0</td>\n",
       "      <td>0</td>\n",
       "    </tr>\n",
       "    <tr>\n",
       "      <td>3</td>\n",
       "      <td>0</td>\n",
       "      <td>0</td>\n",
       "      <td>0</td>\n",
       "      <td>0</td>\n",
       "      <td>0</td>\n",
       "      <td>0</td>\n",
       "      <td>0</td>\n",
       "      <td>0</td>\n",
       "      <td>0</td>\n",
       "      <td>0</td>\n",
       "      <td>...</td>\n",
       "      <td>0</td>\n",
       "      <td>0</td>\n",
       "      <td>0</td>\n",
       "      <td>0</td>\n",
       "      <td>0</td>\n",
       "      <td>0</td>\n",
       "      <td>0</td>\n",
       "      <td>0</td>\n",
       "      <td>0</td>\n",
       "      <td>0</td>\n",
       "    </tr>\n",
       "    <tr>\n",
       "      <td>4</td>\n",
       "      <td>0</td>\n",
       "      <td>0</td>\n",
       "      <td>0</td>\n",
       "      <td>0</td>\n",
       "      <td>0</td>\n",
       "      <td>0</td>\n",
       "      <td>0</td>\n",
       "      <td>0</td>\n",
       "      <td>0</td>\n",
       "      <td>0</td>\n",
       "      <td>...</td>\n",
       "      <td>0</td>\n",
       "      <td>0</td>\n",
       "      <td>0</td>\n",
       "      <td>0</td>\n",
       "      <td>0</td>\n",
       "      <td>0</td>\n",
       "      <td>0</td>\n",
       "      <td>0</td>\n",
       "      <td>0</td>\n",
       "      <td>0</td>\n",
       "    </tr>\n",
       "    <tr>\n",
       "      <td>...</td>\n",
       "      <td>...</td>\n",
       "      <td>...</td>\n",
       "      <td>...</td>\n",
       "      <td>...</td>\n",
       "      <td>...</td>\n",
       "      <td>...</td>\n",
       "      <td>...</td>\n",
       "      <td>...</td>\n",
       "      <td>...</td>\n",
       "      <td>...</td>\n",
       "      <td>...</td>\n",
       "      <td>...</td>\n",
       "      <td>...</td>\n",
       "      <td>...</td>\n",
       "      <td>...</td>\n",
       "      <td>...</td>\n",
       "      <td>...</td>\n",
       "      <td>...</td>\n",
       "      <td>...</td>\n",
       "      <td>...</td>\n",
       "      <td>...</td>\n",
       "    </tr>\n",
       "    <tr>\n",
       "      <td>9995</td>\n",
       "      <td>0</td>\n",
       "      <td>0</td>\n",
       "      <td>0</td>\n",
       "      <td>0</td>\n",
       "      <td>0</td>\n",
       "      <td>0</td>\n",
       "      <td>0</td>\n",
       "      <td>0</td>\n",
       "      <td>0</td>\n",
       "      <td>0</td>\n",
       "      <td>...</td>\n",
       "      <td>0</td>\n",
       "      <td>0</td>\n",
       "      <td>0</td>\n",
       "      <td>0</td>\n",
       "      <td>0</td>\n",
       "      <td>0</td>\n",
       "      <td>0</td>\n",
       "      <td>0</td>\n",
       "      <td>0</td>\n",
       "      <td>0</td>\n",
       "    </tr>\n",
       "    <tr>\n",
       "      <td>9996</td>\n",
       "      <td>0</td>\n",
       "      <td>0</td>\n",
       "      <td>0</td>\n",
       "      <td>0</td>\n",
       "      <td>0</td>\n",
       "      <td>0</td>\n",
       "      <td>0</td>\n",
       "      <td>0</td>\n",
       "      <td>0</td>\n",
       "      <td>0</td>\n",
       "      <td>...</td>\n",
       "      <td>0</td>\n",
       "      <td>0</td>\n",
       "      <td>0</td>\n",
       "      <td>0</td>\n",
       "      <td>0</td>\n",
       "      <td>0</td>\n",
       "      <td>0</td>\n",
       "      <td>0</td>\n",
       "      <td>0</td>\n",
       "      <td>0</td>\n",
       "    </tr>\n",
       "    <tr>\n",
       "      <td>9997</td>\n",
       "      <td>0</td>\n",
       "      <td>0</td>\n",
       "      <td>0</td>\n",
       "      <td>0</td>\n",
       "      <td>0</td>\n",
       "      <td>0</td>\n",
       "      <td>0</td>\n",
       "      <td>0</td>\n",
       "      <td>0</td>\n",
       "      <td>0</td>\n",
       "      <td>...</td>\n",
       "      <td>0</td>\n",
       "      <td>0</td>\n",
       "      <td>0</td>\n",
       "      <td>0</td>\n",
       "      <td>0</td>\n",
       "      <td>0</td>\n",
       "      <td>0</td>\n",
       "      <td>0</td>\n",
       "      <td>0</td>\n",
       "      <td>0</td>\n",
       "    </tr>\n",
       "    <tr>\n",
       "      <td>9998</td>\n",
       "      <td>0</td>\n",
       "      <td>0</td>\n",
       "      <td>0</td>\n",
       "      <td>0</td>\n",
       "      <td>0</td>\n",
       "      <td>0</td>\n",
       "      <td>0</td>\n",
       "      <td>0</td>\n",
       "      <td>0</td>\n",
       "      <td>0</td>\n",
       "      <td>...</td>\n",
       "      <td>0</td>\n",
       "      <td>0</td>\n",
       "      <td>0</td>\n",
       "      <td>0</td>\n",
       "      <td>0</td>\n",
       "      <td>0</td>\n",
       "      <td>0</td>\n",
       "      <td>0</td>\n",
       "      <td>0</td>\n",
       "      <td>0</td>\n",
       "    </tr>\n",
       "    <tr>\n",
       "      <td>9999</td>\n",
       "      <td>0</td>\n",
       "      <td>0</td>\n",
       "      <td>0</td>\n",
       "      <td>0</td>\n",
       "      <td>0</td>\n",
       "      <td>0</td>\n",
       "      <td>0</td>\n",
       "      <td>0</td>\n",
       "      <td>0</td>\n",
       "      <td>0</td>\n",
       "      <td>...</td>\n",
       "      <td>0</td>\n",
       "      <td>0</td>\n",
       "      <td>0</td>\n",
       "      <td>0</td>\n",
       "      <td>0</td>\n",
       "      <td>0</td>\n",
       "      <td>0</td>\n",
       "      <td>0</td>\n",
       "      <td>0</td>\n",
       "      <td>0</td>\n",
       "    </tr>\n",
       "  </tbody>\n",
       "</table>\n",
       "<p>10000 rows × 19881 columns</p>\n",
       "</div>"
      ],
      "text/plain": [
       "      00  000  008  01  03  03oz  04  05  06  06my  ...  zooming  zooper  \\\n",
       "0      0    0    0   0   0     0   0   0   0     0  ...        0       0   \n",
       "1      0    0    0   0   0     0   0   0   0     0  ...        0       0   \n",
       "2      0    0    0   0   0     0   0   0   0     0  ...        0       0   \n",
       "3      0    0    0   0   0     0   0   0   0     0  ...        0       0   \n",
       "4      0    0    0   0   0     0   0   0   0     0  ...        0       0   \n",
       "...   ..  ...  ...  ..  ..   ...  ..  ..  ..   ...  ...      ...     ...   \n",
       "9995   0    0    0   0   0     0   0   0   0     0  ...        0       0   \n",
       "9996   0    0    0   0   0     0   0   0   0     0  ...        0       0   \n",
       "9997   0    0    0   0   0     0   0   0   0     0  ...        0       0   \n",
       "9998   0    0    0   0   0     0   0   0   0     0  ...        0       0   \n",
       "9999   0    0    0   0   0     0   0   0   0     0  ...        0       0   \n",
       "\n",
       "      zopper  zorb  zoya  zulily  zumba  zutano  zwilling  zzz  \n",
       "0          0     0     0       0      0       0         0    0  \n",
       "1          0     0     0       0      0       0         0    0  \n",
       "2          0     0     0       0      0       0         0    0  \n",
       "3          0     0     0       0      0       0         0    0  \n",
       "4          0     0     0       0      0       0         0    0  \n",
       "...      ...   ...   ...     ...    ...     ...       ...  ...  \n",
       "9995       0     0     0       0      0       0         0    0  \n",
       "9996       0     0     0       0      0       0         0    0  \n",
       "9997       0     0     0       0      0       0         0    0  \n",
       "9998       0     0     0       0      0       0         0    0  \n",
       "9999       0     0     0       0      0       0         0    0  \n",
       "\n",
       "[10000 rows x 19881 columns]"
      ]
     },
     "execution_count": 117,
     "metadata": {},
     "output_type": "execute_result"
    }
   ],
   "source": [
    "bow_df = pd.DataFrame.sparse.from_spmatrix(X)\n",
    "bow_df.columns = words\n",
    "bow_array = X.toarray()\n",
    "sum_array = list(bow_array.sum(axis = 0))\n",
    "count_main = dict(zip(words, sum_array))\n",
    "bow_df"
   ]
  },
  {
   "cell_type": "code",
   "execution_count": 136,
   "metadata": {},
   "outputs": [],
   "source": [
    "stemmer = SnowballStemmer(\"english\")\n",
    "tokenizer = RegexpTokenizer(\"[a-z']+\")\n",
    "\n",
    "def tokenize(text):\n",
    "    tokens = tokenizer.tokenize(text)\n",
    "    return [stemmer.stem(t) for t in tokens] \n",
    "\n",
    "def get_tf(data, use_idf, max_df=1.0, min_df=1, ngram_range=(1,1)):\n",
    "    if use_idf:\n",
    "        m = TfidfVectorizer(max_df=max_df, min_df=min_df, stop_words='english', ngram_range=ngram_range, tokenizer=tokenize)\n",
    "    else:\n",
    "        m = CountVectorizer(max_df=max_df, min_df=min_df, stop_words='english', ngram_range=ngram_range, tokenizer=tokenize)\n",
    "    \n",
    "    d = m.fit_transform(data)\n",
    "    return m, d\n",
    "\n",
    "tf_m, tf_d = get_tf(amzrev_df_sample['review'], use_idf=False, max_df=0.90, min_df=10)\n",
    "tfidf_m, tfidf_d = get_tf(amzrev_df_sample['review'], use_idf=True, max_df=0.90, min_df=10)"
   ]
  },
  {
   "cell_type": "code",
   "execution_count": 138,
   "metadata": {},
   "outputs": [],
   "source": [
    "X_train, X_test, y_train, y_test = train_test_split(tfidf_d, amzrev_df_sample['outcome_rating_less_than_5'], test_size=0.3)"
   ]
  },
  {
   "cell_type": "code",
   "execution_count": 140,
   "metadata": {},
   "outputs": [
    {
     "name": "stdout",
     "output_type": "stream",
     "text": [
      "Model accuracy predictions\n",
      "\n",
      "LR model (1 rating): 72.4%\n",
      "LR model (0 rating): 72.4%\n",
      "\n",
      "SVM model (1 rating): 70.1%\n",
      "SVM model (0 rating): 70.1%\n",
      "\n",
      "NB model (1 rating): 68.0%\n",
      "NB model (0 rating): 68.0%\n",
      "\n",
      "COMBINED model (1 rating): 72.0%\n",
      "COMBINED model (0 rating): 72.0%\n",
      "\n"
     ]
    }
   ],
   "source": [
    "outcome_rating_less_than_5 = [1,0]\n",
    "def calculate_cv(X, y):\n",
    "    results = {\n",
    "        'lr': [],\n",
    "        'svm': [],\n",
    "        'nb': [],\n",
    "        'combined': []\n",
    "    }\n",
    "    lm = LogisticRegression()\n",
    "    svm = LinearSVC()\n",
    "    nb = MultinomialNB()\n",
    "    vc = VotingClassifier([('lm', lm), ('svm', svm), ('nb', nb)])\n",
    "    \n",
    "    for c in outcome_rating_less_than_5:\n",
    "        y_adj = np.array(y==c)\n",
    "        results['lr'].append((cross_val_score(lm, X, y_adj, cv=10, scoring='accuracy').mean(), c))\n",
    "        results['svm'].append((cross_val_score(svm, X, y_adj, cv=10, scoring='accuracy').mean(), c))\n",
    "        results['nb'].append((cross_val_score(nb, X, y_adj, cv=10, scoring='accuracy').mean(), c))\n",
    "        results['combined'].append((cross_val_score(vc, X, y_adj, cv=10, scoring='accuracy').mean(), c))\n",
    "    return results\n",
    "\n",
    "cv_scores = calculate_cv(X_test, y_test)\n",
    "\n",
    "print(\"Model accuracy predictions\\n\")\n",
    "for m,s in cv_scores.items():\n",
    "    for ss in s:\n",
    "        print(\"{M} model ({R} rating): {S:.1%}\".format(M=m.upper(), R=ss[1], S=ss[0]))\n",
    "    print()"
   ]
  },
  {
   "cell_type": "code",
   "execution_count": 172,
   "metadata": {},
   "outputs": [
    {
     "name": "stdout",
     "output_type": "stream",
     "text": [
      "Above we see that after running 3 models namely logistic reggression,svm,multinomial NB and one that combines all the three we see that in our case the LR model is the one that performs the best \n"
     ]
    }
   ],
   "source": [
    "print(\"Above we see that after running 3 models namely logistic reggression,svm,multinomial NB and one that combines all the three we see that in our case the LR model is the one that performs the best \")"
   ]
  },
  {
   "cell_type": "code",
   "execution_count": 142,
   "metadata": {},
   "outputs": [],
   "source": [
    "def get_lr(x, y):\n",
    "    models = []\n",
    "    for c in outcome_rating_less_than_5:\n",
    "        y_adj = np.array(y==c)\n",
    "        lm = LogisticRegression()\n",
    "        lm_f = lm.fit(x, y_adj)\n",
    "        models.append(lm_f)\n",
    "    return models\n",
    "\n",
    "lr_m = get_lr(X_train, y_train)"
   ]
  },
  {
   "cell_type": "code",
   "execution_count": 145,
   "metadata": {},
   "outputs": [
    {
     "data": {
      "image/png": "[encoded data removed]",
      "text/plain": [
       "<Figure size 432x288 with 1 Axes>"
      ]
     },
     "metadata": {
      "needs_background": "light"
     },
     "output_type": "display_data"
    },
    {
     "data": {
      "image/png": "[encoded data removed]",
      "text/plain": [
       "<Figure size 432x288 with 1 Axes>"
      ]
     },
     "metadata": {
      "needs_background": "light"
     },
     "output_type": "display_data"
    }
   ],
   "source": [
    "%matplotlib inline\n",
    "\n",
    "def plot_coef(title, model, feature_names, n_words):\n",
    "    v = []\n",
    "    for topic_idx, topic in enumerate(model.coef_):\n",
    "        [v.append([feature_names[i], model.coef_.item(i)]) for i in topic.argsort()[:-n_words - 1:-1]]\n",
    "        [v.append([feature_names[i], model.coef_.item(i)]) for i in topic.argsort()[0:n_words]]\n",
    "    df = pd.DataFrame(v, columns=['Term','Coefficient']).sort_values(by='Coefficient',ascending=False)\n",
    "    df['c'] = df['Coefficient']>0\n",
    "    ax = df.plot(x='Term', y='Coefficient', kind='barh', color=df['c'].map({True: 'g', False: 'r'}), grid=True, legend=False,\n",
    "           title=title)\n",
    "    ax.set_xlabel(\"Coefficient\")\n",
    "\n",
    "n_terms = 12\n",
    "for c in range(0,len(outcome_rating_less_than_5)):\n",
    "    plot_coef('Top {N} words in ({R}) review model\\nGreen = Associated | Red = Not Associated'.format(N=n_terms*2, R=outcome_rating_less_than_5[c]), \n",
    "              lr_m[c], tfidf_m.get_feature_names(), n_terms)"
   ]
  },
  {
   "cell_type": "code",
   "execution_count": 159,
   "metadata": {},
   "outputs": [],
   "source": [
    "def test_review(text):\n",
    "    test_str = [text]\n",
    "    test_new = tfidf_m.transform(test_str)\n",
    "\n",
    "    print('Review text: \"{R}\"\\n'.format(R=test_str[0]))\n",
    "    print('Model Predction')\n",
    "    for m in range(0,1):\n",
    "        print('Model ({M}): {P:.1%}'.format(M = outcome_rating_less_than_5[m], P=lr_m[m].predict_proba(test_new)[0][1]))"
   ]
  },
  {
   "cell_type": "code",
   "execution_count": 166,
   "metadata": {},
   "outputs": [
    {
     "name": "stdout",
     "output_type": "stream",
     "text": [
      "Review text: \"This is the best toaster oven I have ever owned! I am glad I bought it.\"\n",
      "\n",
      "Model Predction\n",
      "Model (1): 8.6%\n",
      "Here we can see that the model predicts that there is only an 8.6% chance that the rating for this review is less than 5, which means it is more than 90% confident it has a review of 5 stars\n"
     ]
    }
   ],
   "source": [
    "test_review('This is the best toaster oven I have ever owned! I am glad I bought it.')\n",
    "print(\"Here we can see that the model predicts that there is only an 8.6% chance that the rating for this review is less than 5, which means it is more than 90% confident it has a review of 5 stars\")"
   ]
  },
  {
   "cell_type": "code",
   "execution_count": 164,
   "metadata": {},
   "outputs": [
    {
     "name": "stdout",
     "output_type": "stream",
     "text": [
      "Review text: \"I bought these knives last week. I immediately returned these when they arrived damaged.\"\n",
      "\n",
      "Model Predction\n",
      "Model (1): 64.6%\n"
     ]
    }
   ],
   "source": [
    "test_review('I bought these knives last week. I immediately returned these when they arrived damaged.')"
   ]
  },
  {
   "cell_type": "code",
   "execution_count": 165,
   "metadata": {},
   "outputs": [
    {
     "name": "stdout",
     "output_type": "stream",
     "text": [
      "Review text: \"No scent, is an amazing cleaner and does not feel oily when applied.\"\n",
      "\n",
      "Model Predction\n",
      "Model (1): 62.0%\n"
     ]
    }
   ],
   "source": [
    "test_review('No scent, is an amazing cleaner and does not feel oily when applied.')"
   ]
  },
  {
   "cell_type": "code",
   "execution_count": 171,
   "metadata": {},
   "outputs": [
    {
     "name": "stdout",
     "output_type": "stream",
     "text": [
      "Review text: \"Bought this iron, but it is okay\"\n",
      "\n",
      "Model Predction\n",
      "Model (1): 74.7%\n",
      "Here we can see that it is almost 75% confident that the rating is less than 5 stars\n"
     ]
    }
   ],
   "source": [
    "test_review('Bought this iron, but it is okay')\n",
    "print(\"Here we can see that it is almost 75% confident that the rating is less than 5 stars\")"
   ]
  },
  {
   "cell_type": "code",
   "execution_count": 174,
   "metadata": {},
   "outputs": [
    {
     "name": "stdout",
     "output_type": "stream",
     "text": [
      "We can see the the results do match our intial guess made while just reading the reviews. While our prediction for whether or not a review has a rating less than 5 seems to be working, it we could increase the accuracy by further dividing the ratings into ranges aka low,medium and high and then predicting them based on the reviews. We are tuning the ratings parameter to better train our model\n"
     ]
    }
   ],
   "source": [
    "print(\"We can see the the results do match our intial guess made while just reading the reviews. While our prediction for whether or not a review has a rating less than 5 seems to be working, it we could increase the accuracy by further dividing the ratings into ranges aka low,medium and high and then predicting them based on the reviews. We are tuning the ratings parameter to better train our model\")"
   ]
  },
  {
   "cell_type": "code",
   "execution_count": 197,
   "metadata": {},
   "outputs": [
    {
     "data": {
      "text/html": [
       "<div>\n",
       "<style scoped>\n",
       "    .dataframe tbody tr th:only-of-type {\n",
       "        vertical-align: middle;\n",
       "    }\n",
       "\n",
       "    .dataframe tbody tr th {\n",
       "        vertical-align: top;\n",
       "    }\n",
       "\n",
       "    .dataframe thead th {\n",
       "        text-align: right;\n",
       "    }\n",
       "</style>\n",
       "<table border=\"1\" class=\"dataframe\">\n",
       "  <thead>\n",
       "    <tr style=\"text-align: right;\">\n",
       "      <th></th>\n",
       "      <th>date</th>\n",
       "      <th>summary</th>\n",
       "      <th>review</th>\n",
       "      <th>rating</th>\n",
       "      <th>outcome_rating_less_than_5</th>\n",
       "      <th>bucket</th>\n",
       "    </tr>\n",
       "  </thead>\n",
       "  <tbody>\n",
       "    <tr>\n",
       "      <td>125947</td>\n",
       "      <td>2012-06-16</td>\n",
       "      <td>Nice bag, cute, good price and practical</td>\n",
       "      <td>I received this at my baby shower and I love it.  I think it's great for a dad or mom to tote around.  The storage is decent, a pocket on each side of the bag on the outside, 1 long zippered pocket on the inside, and two open pockets on the other side of the inside.  Portable changing pad is okay, it's my least favorite part of the bag.  I use it more as a divider in the bag.  It is a smaller diaper bag but I didn't want some crazy huge diaper bag, I don't find it necessary.  It'll hold everything I need for a day out so I'm very happy with it.  I highly recommend this product, the quality is also great - it's adorable!</td>\n",
       "      <td>5</td>\n",
       "      <td>0</td>\n",
       "      <td>high</td>\n",
       "    </tr>\n",
       "    <tr>\n",
       "      <td>64934</td>\n",
       "      <td>2010-08-25</td>\n",
       "      <td>Perfect solution for changing diapers in the car!</td>\n",
       "      <td>I bought this primarily for changing my baby in the car! I have a Honda CRV and the seats aren't flat (nor should they be) which makes changing his diapers such a production! The back trunk surface is too hard and uncomfortable for him, so I just place him on this pad and changing him is a breeze! My son wiggles and rolls when I change him, so I love that it contours and buckles him in. It's very cushy and the surface is so easy to clean (with just a regular wet wipe). Great for our vacations and trips in the car!</td>\n",
       "      <td>5</td>\n",
       "      <td>0</td>\n",
       "      <td>high</td>\n",
       "    </tr>\n",
       "    <tr>\n",
       "      <td>157131</td>\n",
       "      <td>2013-09-29</td>\n",
       "      <td>Good product</td>\n",
       "      <td>The picture is clear and it seems to work very well so far. It's nice to be able to bring it from room to room. The only complaint that I have is not really about the product itself, but I was annoyed that the user manual was only available on a disc. It would have been much easier to just read a paper manual and be able to refer to it when needed instead of having to put the disc in the computer and go through the file.</td>\n",
       "      <td>5</td>\n",
       "      <td>0</td>\n",
       "      <td>high</td>\n",
       "    </tr>\n",
       "  </tbody>\n",
       "</table>\n",
       "</div>"
      ],
      "text/plain": [
       "              date                                            summary  \\\n",
       "125947  2012-06-16  Nice bag, cute, good price and practical            \n",
       "64934   2010-08-25  Perfect solution for changing diapers in the car!   \n",
       "157131  2013-09-29  Good product                                        \n",
       "\n",
       "                                                                                                                                                                                                                                                                                                                                                                                                                                                                                                                                                                                                                                                     review  \\\n",
       "125947  I received this at my baby shower and I love it.  I think it's great for a dad or mom to tote around.  The storage is decent, a pocket on each side of the bag on the outside, 1 long zippered pocket on the inside, and two open pockets on the other side of the inside.  Portable changing pad is okay, it's my least favorite part of the bag.  I use it more as a divider in the bag.  It is a smaller diaper bag but I didn't want some crazy huge diaper bag, I don't find it necessary.  It'll hold everything I need for a day out so I'm very happy with it.  I highly recommend this product, the quality is also great - it's adorable!   \n",
       "64934   I bought this primarily for changing my baby in the car! I have a Honda CRV and the seats aren't flat (nor should they be) which makes changing his diapers such a production! The back trunk surface is too hard and uncomfortable for him, so I just place him on this pad and changing him is a breeze! My son wiggles and rolls when I change him, so I love that it contours and buckles him in. It's very cushy and the surface is so easy to clean (with just a regular wet wipe). Great for our vacations and trips in the car!                                                                                                               \n",
       "157131  The picture is clear and it seems to work very well so far. It's nice to be able to bring it from room to room. The only complaint that I have is not really about the product itself, but I was annoyed that the user manual was only available on a disc. It would have been much easier to just read a paper manual and be able to refer to it when needed instead of having to put the disc in the computer and go through the file.                                                                                                                                                                                                              \n",
       "\n",
       "        rating  outcome_rating_less_than_5 bucket  \n",
       "125947  5       0                           high   \n",
       "64934   5       0                           high   \n",
       "157131  5       0                           high   "
      ]
     },
     "execution_count": 197,
     "metadata": {},
     "output_type": "execute_result"
    }
   ],
   "source": [
    "cat = ['low','neutral','high']\n",
    "def cat_y(y):\n",
    "    if y<=2.0:\n",
    "        return cat[0]\n",
    "    elif y>=4.0:\n",
    "        return cat[2]\n",
    "    else:\n",
    "        return cat[1]\n",
    "\n",
    "def get_reviews(df):\n",
    "    df = df[df['review'].apply(lambda x: len(x.split())>=45)]\n",
    "    df['bucket'] = df['rating'].apply(cat_y)\n",
    "    return df\n",
    "\n",
    "data = get_reviews(amzrev_df_sample)\n",
    "pd.set_option('display.max_colwidth', -1)\n",
    "data.sample(3)"
   ]
  },
  {
   "cell_type": "code",
   "execution_count": 207,
   "metadata": {},
   "outputs": [],
   "source": [
    "n_components = 10\n",
    "\n",
    "def get_lda(data, topics):\n",
    "    m = LatentDirichletAllocation(n_components = topics, n_jobs=-1, learning_method='online').fit(data)\n",
    "    d = m.transform(data)\n",
    "    return m, d\n",
    "\n",
    "def get_kmeans(data, k, scale=True):\n",
    "    if scale:\n",
    "        s = MinMaxScaler()\n",
    "        data = s.fit_transform(data)\n",
    "    \n",
    "    m = KMeans(n_clusters=k).fit(data)\n",
    "    d = m.predict(data)\n",
    "    return m, d        \n",
    "\n",
    "lda_m, lda_d = get_lda(tf_d, n_topics)\n",
    "kmean_m, kmean_d = get_kmeans(tfidf_d, n_components, scale=False)"
   ]
  },
  {
   "cell_type": "code",
   "execution_count": 209,
   "metadata": {},
   "outputs": [
    {
     "name": "stdout",
     "output_type": "stream",
     "text": [
      "Top 15 stemmed words per topic in LDA model\n",
      "\n",
      "Topic #0:\n",
      "brush, work, guitar, good, like, qualiti, veri, price, set, use, just, look, open, doe, need\n",
      "Topic #1:\n",
      "toddler, tabl, potti, sit, kid, we'v, everi, toilet, slip, proof, we'r, train, bathroom, believ, daughter\n",
      "Topic #2:\n",
      "diaper, bag, use, cloth, wipe, monitor, chang, wash, just, size, great, time, work, pocket, need\n",
      "Topic #3:\n",
      "seat, stroller, car, use, veri, strap, easi, babi, fit, like, fold, comfort, instal, travel, need\n",
      "Topic #4:\n",
      "use, babi, clean, food, chair, easi, great, tub, bath, water, make, wash, tray, just, plastic\n",
      "Topic #5:\n",
      "use, product, skin, like, color, veri, feel, face, hair, look, cream, scent, realli, tri, smell\n",
      "Topic #6:\n",
      "sound, time, product, batteri, review, turn, week, minut, onli, work, shave, good, just, night, day\n",
      "Topic #7:\n",
      "love, toy, month, old, like, cup, babi, son, great, littl, daughter, play, veri, use, just\n",
      "Topic #8:\n",
      "babi, like, use, love, veri, realli, just, littl, sleep, becaus, soft, time, month, crib, look\n",
      "Topic #9:\n",
      "bottl, pump, use, nippl, milk, work, leak, breast, clean, just, time, medela, onli, feed, oz\n",
      "\n"
     ]
    }
   ],
   "source": [
    "def show_topics(model, feature_names, n_words):\n",
    "    for topic_idx, topic in enumerate(model.components_):\n",
    "        print(\"Topic #%d:\" % topic_idx)\n",
    "        print(\", \".join([feature_names[i]\n",
    "                        for i in topic.argsort()[:-n_words - 1:-1]]))\n",
    "    print()\n",
    "    \n",
    "def show_cluster_topics(cluster_labels, tf_matrix, feature_names, n_words):\n",
    "    d = pd.DataFrame(tf_matrix.toarray())\n",
    "    d['c'] = cluster_labels\n",
    "    d = d.groupby('c').sum().T\n",
    "    \n",
    "    for col in d:\n",
    "        top_n = d[col].nlargest(n_words).index.tolist()\n",
    "        print(\"Cluster #%d:\" % col)\n",
    "        print(\", \".join([feature_names[i]\n",
    "                for i in top_n]))\n",
    "    print()\n",
    "    \n",
    "print(\"Top 15 stemmed words per topic in LDA model\\n\")\n",
    "show_topics(lda_m, tf_m.get_feature_names(), 15)"
   ]
  },
  {
   "cell_type": "code",
   "execution_count": 210,
   "metadata": {},
   "outputs": [
    {
     "name": "stdout",
     "output_type": "stream",
     "text": [
      "Top 15 stemmed words per cluster in Kmeans model\n",
      "\n",
      "Cluster #0:\n",
      "skin, product, use, hair, cream, face, scent, feel, like, moistur, veri, shave, soap, smell, appli\n",
      "Cluster #1:\n",
      "crib, mattress, sheet, fit, soft, perfect, pack, play, veri, babi, sleep, wash, n, nice, pad\n",
      "Cluster #2:\n",
      "great, use, veri, work, like, love, good, just, easi, littl, product, realli, look, nice, time\n",
      "Cluster #3:\n",
      "babi, use, love, month, like, sleep, old, blanket, just, time, son, littl, veri, great, easi\n",
      "Cluster #4:\n",
      "toy, cup, love, month, play, old, son, like, babi, daughter, sippi, straw, littl, great, leak\n",
      "Cluster #5:\n",
      "pump, medela, breast, milk, use, work, bra, bottl, time, need, hand, fit, suction, great, just\n",
      "Cluster #6:\n",
      "seat, car, stroller, use, easi, veri, strap, instal, fit, love, like, potti, great, babi, toilet\n",
      "Cluster #7:\n",
      "color, polish, love, nail, coat, great, veri, essi, nice, beauti, like, look, bright, product, pink\n",
      "Cluster #8:\n",
      "bottl, nippl, use, babi, clean, milk, brush, dr, formula, avent, work, brown, just, like, flow\n",
      "Cluster #9:\n",
      "diaper, bag, cloth, use, wipe, chang, fit, love, just, great, pail, pocket, babi, wash, like\n",
      "\n"
     ]
    }
   ],
   "source": [
    "print(\"Top 15 stemmed words per cluster in Kmeans model\\n\")\n",
    "show_cluster_topics(kmean_d, tfidf_d, tfidf_m.get_feature_names(), 15)"
   ]
  },
  {
   "cell_type": "code",
   "execution_count": 211,
   "metadata": {},
   "outputs": [],
   "source": [
    "def get_svd(data, components):\n",
    "    svd = TruncatedSVD(n_components=components).fit(data)\n",
    "    o = pd.DataFrame(svd.transform(data), columns=range(0,components))\n",
    "    return svd,o\n",
    "\n",
    "def get_tsne(data, components, perplexity):\n",
    "    tsne = TSNE(n_components=components, perplexity=perplexity, n_iter=1000)\n",
    "    o = pd.DataFrame(tsne.fit_transform(data), columns=range(0,components))\n",
    "    return tsne,o\n",
    "\n",
    "svd_v, svd_m = get_svd(tfidf_d, 50)\n",
    "tnse_v, tsne_m = get_tsne(svd_m, 2, 25)\n",
    "\n",
    "lda_c = lda_d.argmax(axis=1)"
   ]
  },
  {
   "cell_type": "code",
   "execution_count": 212,
   "metadata": {},
   "outputs": [
    {
     "name": "stderr",
     "output_type": "stream",
     "text": [
      "'c' argument looks like a single numeric RGB or RGBA sequence, which should be avoided as value-mapping will have precedence in case its length matches with 'x' & 'y'.  Please use a 2-D array with a single row if you really want to specify the same RGB or RGBA value for all points.\n",
      "'c' argument looks like a single numeric RGB or RGBA sequence, which should be avoided as value-mapping will have precedence in case its length matches with 'x' & 'y'.  Please use a 2-D array with a single row if you really want to specify the same RGB or RGBA value for all points.\n",
      "'c' argument looks like a single numeric RGB or RGBA sequence, which should be avoided as value-mapping will have precedence in case its length matches with 'x' & 'y'.  Please use a 2-D array with a single row if you really want to specify the same RGB or RGBA value for all points.\n",
      "'c' argument looks like a single numeric RGB or RGBA sequence, which should be avoided as value-mapping will have precedence in case its length matches with 'x' & 'y'.  Please use a 2-D array with a single row if you really want to specify the same RGB or RGBA value for all points.\n",
      "'c' argument looks like a single numeric RGB or RGBA sequence, which should be avoided as value-mapping will have precedence in case its length matches with 'x' & 'y'.  Please use a 2-D array with a single row if you really want to specify the same RGB or RGBA value for all points.\n",
      "'c' argument looks like a single numeric RGB or RGBA sequence, which should be avoided as value-mapping will have precedence in case its length matches with 'x' & 'y'.  Please use a 2-D array with a single row if you really want to specify the same RGB or RGBA value for all points.\n",
      "'c' argument looks like a single numeric RGB or RGBA sequence, which should be avoided as value-mapping will have precedence in case its length matches with 'x' & 'y'.  Please use a 2-D array with a single row if you really want to specify the same RGB or RGBA value for all points.\n",
      "'c' argument looks like a single numeric RGB or RGBA sequence, which should be avoided as value-mapping will have precedence in case its length matches with 'x' & 'y'.  Please use a 2-D array with a single row if you really want to specify the same RGB or RGBA value for all points.\n",
      "'c' argument looks like a single numeric RGB or RGBA sequence, which should be avoided as value-mapping will have precedence in case its length matches with 'x' & 'y'.  Please use a 2-D array with a single row if you really want to specify the same RGB or RGBA value for all points.\n",
      "'c' argument looks like a single numeric RGB or RGBA sequence, which should be avoided as value-mapping will have precedence in case its length matches with 'x' & 'y'.  Please use a 2-D array with a single row if you really want to specify the same RGB or RGBA value for all points.\n"
     ]
    },
    {
     "data": {
      "image/png": "[encoded data removed]",
      "text/plain": [
       "<Figure size 432x288 with 1 Axes>"
      ]
     },
     "metadata": {
      "needs_background": "light"
     },
     "output_type": "display_data"
    }
   ],
   "source": [
    "def plot_scatter_2d(x, y, c, sample_size, title):\n",
    "    df = pd.DataFrame({'x': x, 'y': y, 'c': c}).sample(sample_size)\n",
    "    l = len(np.unique(c))\n",
    "    \n",
    "    ax = plt.subplot(111)\n",
    "    colors = cm.rainbow(np.linspace(0, 1, l))\n",
    "                                   \n",
    "    for c in range(0,l):\n",
    "        qq = df[df['c']==c]\n",
    "        ax.scatter(qq['x'], qq['y'],c=colors[c], label=c)\n",
    "    plt.legend(loc='upper left', numpoints=1, ncol=3, fontsize=8, bbox_to_anchor=(0, 0), title='Topic/Cluster')\n",
    "    ax.set_yticklabels([])\n",
    "    ax.set_xticklabels([])\n",
    "    ax.set_title(title)\n",
    "    plt.show()\n",
    "\n",
    "%matplotlib inline\n",
    "plot_scatter_2d(tsne_m[0], tsne_m[1], kmean_d, 1000, 'KMeans Clustering of Amazon Reviews using TFIDF (t-SNE Plot)')"
   ]
  },
  {
   "cell_type": "code",
   "execution_count": 213,
   "metadata": {},
   "outputs": [
    {
     "name": "stderr",
     "output_type": "stream",
     "text": [
      "'c' argument looks like a single numeric RGB or RGBA sequence, which should be avoided as value-mapping will have precedence in case its length matches with 'x' & 'y'.  Please use a 2-D array with a single row if you really want to specify the same RGB or RGBA value for all points.\n",
      "'c' argument looks like a single numeric RGB or RGBA sequence, which should be avoided as value-mapping will have precedence in case its length matches with 'x' & 'y'.  Please use a 2-D array with a single row if you really want to specify the same RGB or RGBA value for all points.\n",
      "'c' argument looks like a single numeric RGB or RGBA sequence, which should be avoided as value-mapping will have precedence in case its length matches with 'x' & 'y'.  Please use a 2-D array with a single row if you really want to specify the same RGB or RGBA value for all points.\n",
      "'c' argument looks like a single numeric RGB or RGBA sequence, which should be avoided as value-mapping will have precedence in case its length matches with 'x' & 'y'.  Please use a 2-D array with a single row if you really want to specify the same RGB or RGBA value for all points.\n",
      "'c' argument looks like a single numeric RGB or RGBA sequence, which should be avoided as value-mapping will have precedence in case its length matches with 'x' & 'y'.  Please use a 2-D array with a single row if you really want to specify the same RGB or RGBA value for all points.\n",
      "'c' argument looks like a single numeric RGB or RGBA sequence, which should be avoided as value-mapping will have precedence in case its length matches with 'x' & 'y'.  Please use a 2-D array with a single row if you really want to specify the same RGB or RGBA value for all points.\n",
      "'c' argument looks like a single numeric RGB or RGBA sequence, which should be avoided as value-mapping will have precedence in case its length matches with 'x' & 'y'.  Please use a 2-D array with a single row if you really want to specify the same RGB or RGBA value for all points.\n",
      "'c' argument looks like a single numeric RGB or RGBA sequence, which should be avoided as value-mapping will have precedence in case its length matches with 'x' & 'y'.  Please use a 2-D array with a single row if you really want to specify the same RGB or RGBA value for all points.\n",
      "'c' argument looks like a single numeric RGB or RGBA sequence, which should be avoided as value-mapping will have precedence in case its length matches with 'x' & 'y'.  Please use a 2-D array with a single row if you really want to specify the same RGB or RGBA value for all points.\n",
      "'c' argument looks like a single numeric RGB or RGBA sequence, which should be avoided as value-mapping will have precedence in case its length matches with 'x' & 'y'.  Please use a 2-D array with a single row if you really want to specify the same RGB or RGBA value for all points.\n"
     ]
    },
    {
     "data": {
      "image/png": "[encoded data removed]",
      "text/plain": [
       "<Figure size 432x288 with 1 Axes>"
      ]
     },
     "metadata": {
      "needs_background": "light"
     },
     "output_type": "display_data"
    }
   ],
   "source": [
    "%matplotlib inline\n",
    "plot_scatter_2d(tsne_m[0], tsne_m[1], lda_c, 1000, 'LDA Topics of Amazon Reviews using TF (t-SNE Plot)')"
   ]
  },
  {
   "cell_type": "code",
   "execution_count": 214,
   "metadata": {},
   "outputs": [
    {
     "name": "stdout",
     "output_type": "stream",
     "text": [
      "Thus we see that logistic regression model performs the best.The combined model also performs well but for the sake of efficiency LR does a better job, without a higher complexity as seen in th ecombined model\n"
     ]
    }
   ],
   "source": [
    "print(\"Thus we see that logistic regression model performs the best.The combined model also performs well but for the sake of efficiency LR does a better job, without a higher complexity as seen in th ecombined model\")"
   ]
  },
  {
   "cell_type": "code",
   "execution_count": null,
   "metadata": {},
   "outputs": [],
   "source": [
    "#References : used previous assignment code chunks, stackoverflow for new libraries and tsne-ing graphs"
   ]
  }
 ],
 "metadata": {
  "kernelspec": {
   "display_name": "Python 3",
   "language": "python",
   "name": "python3"
  },
  "language_info": {
   "codemirror_mode": {
    "name": "ipython",
    "version": 3
   },
   "file_extension": ".py",
   "mimetype": "text/x-python",
   "name": "python",
   "nbconvert_exporter": "python",
   "pygments_lexer": "ipython3",
   "version": "3.7.4"
  }
 },
 "nbformat": 4,
 "nbformat_minor": 2
}
